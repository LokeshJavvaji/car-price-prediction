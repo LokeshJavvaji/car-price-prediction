{
 "cells": [
  {
   "cell_type": "markdown",
   "id": "bad6ba04",
   "metadata": {},
   "source": [
    "# The price of a car depends on a lot of factors like the goodwill of the brand of the car,features of the car, horsepower and the mileage it gives and many more. Car price prediction is one of the major research areas in machine learning. So if you want to learn how to train a car price prediction model then this project is for you.\n",
    "\n",
    "\n",
    "\n"
   ]
  },
  {
   "cell_type": "markdown",
   "id": "bb3e5a61",
   "metadata": {
    "papermill": {
     "duration": 0.066982,
     "end_time": "2021-09-27T14:47:38.990422",
     "exception": false,
     "start_time": "2021-09-27T14:47:38.923440",
     "status": "completed"
    },
    "tags": []
   },
   "source": [
    "<a id=\"2\"></a>\n",
    "<font color=\"lightseagreen\" size=+2.5><b>Exploratory Data Analysis</b></font>\n"
   ]
  },
  {
   "cell_type": "code",
   "execution_count": 18,
   "id": "c2d84260",
   "metadata": {
    "_cell_guid": "b1076dfc-b9ad-4769-8c92-a6c4dae69d19",
    "_kg_hide-input": true,
    "_uuid": "8f2839f25d086af736a60e9eeb907d3b93b6e0e5",
    "execution": {
     "iopub.execute_input": "2021-09-27T14:47:39.414463Z",
     "iopub.status.busy": "2021-09-27T14:47:39.408752Z",
     "iopub.status.idle": "2021-09-27T14:47:44.912871Z",
     "shell.execute_reply": "2021-09-27T14:47:44.912022Z",
     "shell.execute_reply.started": "2021-09-27T13:36:42.045664Z"
    },
    "papermill": {
     "duration": 5.580171,
     "end_time": "2021-09-27T14:47:44.913080",
     "exception": false,
     "start_time": "2021-09-27T14:47:39.332909",
     "status": "completed"
    },
    "tags": []
   },
   "outputs": [
    {
     "data": {
      "text/html": [
       "        <script type=\"text/javascript\">\n",
       "        window.PlotlyConfig = {MathJaxConfig: 'local'};\n",
       "        if (window.MathJax) {MathJax.Hub.Config({SVG: {font: \"STIX-Web\"}});}\n",
       "        if (typeof require !== 'undefined') {\n",
       "        require.undef(\"plotly\");\n",
       "        requirejs.config({\n",
       "            paths: {\n",
       "                'plotly': ['https://cdn.plot.ly/plotly-2.9.0.min']\n",
       "            }\n",
       "        });\n",
       "        require(['plotly'], function(Plotly) {\n",
       "            window._Plotly = Plotly;\n",
       "        });\n",
       "        }\n",
       "        </script>\n",
       "        "
      ]
     },
     "metadata": {},
     "output_type": "display_data"
    }
   ],
   "source": [
    "import numpy as np\n",
    "import pandas as pd\n",
    "import matplotlib.pyplot as plt\n",
    "import seaborn as sns\n",
    "\n",
    "from sklearn.preprocessing import StandardScaler, PolynomialFeatures, OneHotEncoder,StandardScaler,PowerTransformer, MinMaxScaler, RobustScaler\n",
    "from sklearn.model_selection import KFold, cross_val_predict, train_test_split,GridSearchCV,cross_val_score\n",
    "from sklearn.linear_model import LinearRegression, Lasso, Ridge,ElasticNet\n",
    "from sklearn.metrics import r2_score,mean_squared_error\n",
    "from sklearn.pipeline import make_pipeline\n",
    "from sklearn.compose import make_column_transformer\n",
    "from sklearn.neighbors import KNeighborsRegressor\n",
    "from sklearn.svm import SVR\n",
    "from sklearn.ensemble import RandomForestRegressor,GradientBoostingRegressor, ExtraTreesRegressor\n",
    "from sklearn.feature_selection import SelectKBest,SelectPercentile,f_classif,f_regression,mutual_info_regression,mutual_info_classif,SelectFromModel,RFE\n",
    "from xgboost import XGBRegressor\n",
    "from xgboost import plot_importance\n",
    "import optuna\n",
    "#importing plotly and cufflinks in offline mode\n",
    "import cufflinks as cf\n",
    "import plotly.offline\n",
    "cf.go_offline()\n",
    "cf.set_config_file(offline=False, world_readable=True)\n",
    "\n",
    "import warnings\n",
    "warnings.filterwarnings('ignore')"
   ]
  },
  {
   "cell_type": "code",
   "execution_count": 19,
   "id": "614bc004",
   "metadata": {
    "_kg_hide-input": true,
    "execution": {
     "iopub.execute_input": "2021-09-27T14:47:45.054835Z",
     "iopub.status.busy": "2021-09-27T14:47:45.054117Z",
     "iopub.status.idle": "2021-09-27T14:47:45.124207Z",
     "shell.execute_reply": "2021-09-27T14:47:45.123470Z",
     "shell.execute_reply.started": "2021-09-27T13:36:42.067216Z"
    },
    "papermill": {
     "duration": 0.144126,
     "end_time": "2021-09-27T14:47:45.124386",
     "exception": false,
     "start_time": "2021-09-27T14:47:44.980260",
     "status": "completed"
    },
    "tags": []
   },
   "outputs": [
    {
     "data": {
      "text/html": [
       "<div>\n",
       "<style scoped>\n",
       "    .dataframe tbody tr th:only-of-type {\n",
       "        vertical-align: middle;\n",
       "    }\n",
       "\n",
       "    .dataframe tbody tr th {\n",
       "        vertical-align: top;\n",
       "    }\n",
       "\n",
       "    .dataframe thead th {\n",
       "        text-align: right;\n",
       "    }\n",
       "</style>\n",
       "<table border=\"1\" class=\"dataframe\">\n",
       "  <thead>\n",
       "    <tr style=\"text-align: right;\">\n",
       "      <th></th>\n",
       "      <th>car_ID</th>\n",
       "      <th>symboling</th>\n",
       "      <th>CarName</th>\n",
       "      <th>fueltype</th>\n",
       "      <th>aspiration</th>\n",
       "      <th>doornumber</th>\n",
       "      <th>carbody</th>\n",
       "      <th>drivewheel</th>\n",
       "      <th>enginelocation</th>\n",
       "      <th>wheelbase</th>\n",
       "      <th>...</th>\n",
       "      <th>enginesize</th>\n",
       "      <th>fuelsystem</th>\n",
       "      <th>boreratio</th>\n",
       "      <th>stroke</th>\n",
       "      <th>compressionratio</th>\n",
       "      <th>horsepower</th>\n",
       "      <th>peakrpm</th>\n",
       "      <th>citympg</th>\n",
       "      <th>highwaympg</th>\n",
       "      <th>price</th>\n",
       "    </tr>\n",
       "  </thead>\n",
       "  <tbody>\n",
       "    <tr>\n",
       "      <th>0</th>\n",
       "      <td>1</td>\n",
       "      <td>3</td>\n",
       "      <td>alfa-romero giulia</td>\n",
       "      <td>gas</td>\n",
       "      <td>std</td>\n",
       "      <td>two</td>\n",
       "      <td>convertible</td>\n",
       "      <td>rwd</td>\n",
       "      <td>front</td>\n",
       "      <td>88.6</td>\n",
       "      <td>...</td>\n",
       "      <td>130</td>\n",
       "      <td>mpfi</td>\n",
       "      <td>3.47</td>\n",
       "      <td>2.68</td>\n",
       "      <td>9.0</td>\n",
       "      <td>111</td>\n",
       "      <td>5000</td>\n",
       "      <td>21</td>\n",
       "      <td>27</td>\n",
       "      <td>13495.0</td>\n",
       "    </tr>\n",
       "    <tr>\n",
       "      <th>1</th>\n",
       "      <td>2</td>\n",
       "      <td>3</td>\n",
       "      <td>alfa-romero stelvio</td>\n",
       "      <td>gas</td>\n",
       "      <td>std</td>\n",
       "      <td>two</td>\n",
       "      <td>convertible</td>\n",
       "      <td>rwd</td>\n",
       "      <td>front</td>\n",
       "      <td>88.6</td>\n",
       "      <td>...</td>\n",
       "      <td>130</td>\n",
       "      <td>mpfi</td>\n",
       "      <td>3.47</td>\n",
       "      <td>2.68</td>\n",
       "      <td>9.0</td>\n",
       "      <td>111</td>\n",
       "      <td>5000</td>\n",
       "      <td>21</td>\n",
       "      <td>27</td>\n",
       "      <td>16500.0</td>\n",
       "    </tr>\n",
       "    <tr>\n",
       "      <th>2</th>\n",
       "      <td>3</td>\n",
       "      <td>1</td>\n",
       "      <td>alfa-romero Quadrifoglio</td>\n",
       "      <td>gas</td>\n",
       "      <td>std</td>\n",
       "      <td>two</td>\n",
       "      <td>hatchback</td>\n",
       "      <td>rwd</td>\n",
       "      <td>front</td>\n",
       "      <td>94.5</td>\n",
       "      <td>...</td>\n",
       "      <td>152</td>\n",
       "      <td>mpfi</td>\n",
       "      <td>2.68</td>\n",
       "      <td>3.47</td>\n",
       "      <td>9.0</td>\n",
       "      <td>154</td>\n",
       "      <td>5000</td>\n",
       "      <td>19</td>\n",
       "      <td>26</td>\n",
       "      <td>16500.0</td>\n",
       "    </tr>\n",
       "    <tr>\n",
       "      <th>3</th>\n",
       "      <td>4</td>\n",
       "      <td>2</td>\n",
       "      <td>audi 100 ls</td>\n",
       "      <td>gas</td>\n",
       "      <td>std</td>\n",
       "      <td>four</td>\n",
       "      <td>sedan</td>\n",
       "      <td>fwd</td>\n",
       "      <td>front</td>\n",
       "      <td>99.8</td>\n",
       "      <td>...</td>\n",
       "      <td>109</td>\n",
       "      <td>mpfi</td>\n",
       "      <td>3.19</td>\n",
       "      <td>3.40</td>\n",
       "      <td>10.0</td>\n",
       "      <td>102</td>\n",
       "      <td>5500</td>\n",
       "      <td>24</td>\n",
       "      <td>30</td>\n",
       "      <td>13950.0</td>\n",
       "    </tr>\n",
       "    <tr>\n",
       "      <th>4</th>\n",
       "      <td>5</td>\n",
       "      <td>2</td>\n",
       "      <td>audi 100ls</td>\n",
       "      <td>gas</td>\n",
       "      <td>std</td>\n",
       "      <td>four</td>\n",
       "      <td>sedan</td>\n",
       "      <td>4wd</td>\n",
       "      <td>front</td>\n",
       "      <td>99.4</td>\n",
       "      <td>...</td>\n",
       "      <td>136</td>\n",
       "      <td>mpfi</td>\n",
       "      <td>3.19</td>\n",
       "      <td>3.40</td>\n",
       "      <td>8.0</td>\n",
       "      <td>115</td>\n",
       "      <td>5500</td>\n",
       "      <td>18</td>\n",
       "      <td>22</td>\n",
       "      <td>17450.0</td>\n",
       "    </tr>\n",
       "  </tbody>\n",
       "</table>\n",
       "<p>5 rows × 26 columns</p>\n",
       "</div>"
      ],
      "text/plain": [
       "   car_ID  symboling                   CarName fueltype aspiration doornumber  \\\n",
       "0       1          3        alfa-romero giulia      gas        std        two   \n",
       "1       2          3       alfa-romero stelvio      gas        std        two   \n",
       "2       3          1  alfa-romero Quadrifoglio      gas        std        two   \n",
       "3       4          2               audi 100 ls      gas        std       four   \n",
       "4       5          2                audi 100ls      gas        std       four   \n",
       "\n",
       "       carbody drivewheel enginelocation  wheelbase  ...  enginesize  \\\n",
       "0  convertible        rwd          front       88.6  ...         130   \n",
       "1  convertible        rwd          front       88.6  ...         130   \n",
       "2    hatchback        rwd          front       94.5  ...         152   \n",
       "3        sedan        fwd          front       99.8  ...         109   \n",
       "4        sedan        4wd          front       99.4  ...         136   \n",
       "\n",
       "   fuelsystem  boreratio  stroke compressionratio horsepower  peakrpm citympg  \\\n",
       "0        mpfi       3.47    2.68              9.0        111     5000      21   \n",
       "1        mpfi       3.47    2.68              9.0        111     5000      21   \n",
       "2        mpfi       2.68    3.47              9.0        154     5000      19   \n",
       "3        mpfi       3.19    3.40             10.0        102     5500      24   \n",
       "4        mpfi       3.19    3.40              8.0        115     5500      18   \n",
       "\n",
       "   highwaympg    price  \n",
       "0          27  13495.0  \n",
       "1          27  16500.0  \n",
       "2          26  16500.0  \n",
       "3          30  13950.0  \n",
       "4          22  17450.0  \n",
       "\n",
       "[5 rows x 26 columns]"
      ]
     },
     "execution_count": 19,
     "metadata": {},
     "output_type": "execute_result"
    }
   ],
   "source": [
    "\n",
    "df = pd.read_csv(R'carpredict.csv')\n",
    "df.head()"
   ]
  },
  {
   "cell_type": "code",
   "execution_count": 20,
   "id": "fead65a2",
   "metadata": {
    "_kg_hide-input": true,
    "execution": {
     "iopub.execute_input": "2021-09-27T14:47:45.283531Z",
     "iopub.status.busy": "2021-09-27T14:47:45.275015Z",
     "iopub.status.idle": "2021-09-27T14:47:45.289661Z",
     "shell.execute_reply": "2021-09-27T14:47:45.289058Z",
     "shell.execute_reply.started": "2021-09-27T13:36:42.126551Z"
    },
    "papermill": {
     "duration": 0.09746,
     "end_time": "2021-09-27T14:47:45.289825",
     "exception": false,
     "start_time": "2021-09-27T14:47:45.192365",
     "status": "completed"
    },
    "tags": []
   },
   "outputs": [
    {
     "name": "stdout",
     "output_type": "stream",
     "text": [
      "<class 'pandas.core.frame.DataFrame'>\n",
      "RangeIndex: 205 entries, 0 to 204\n",
      "Data columns (total 26 columns):\n",
      " #   Column            Non-Null Count  Dtype  \n",
      "---  ------            --------------  -----  \n",
      " 0   car_ID            205 non-null    int64  \n",
      " 1   symboling         205 non-null    int64  \n",
      " 2   CarName           205 non-null    object \n",
      " 3   fueltype          205 non-null    object \n",
      " 4   aspiration        205 non-null    object \n",
      " 5   doornumber        205 non-null    object \n",
      " 6   carbody           205 non-null    object \n",
      " 7   drivewheel        205 non-null    object \n",
      " 8   enginelocation    205 non-null    object \n",
      " 9   wheelbase         205 non-null    float64\n",
      " 10  carlength         205 non-null    float64\n",
      " 11  carwidth          205 non-null    float64\n",
      " 12  carheight         205 non-null    float64\n",
      " 13  curbweight        205 non-null    int64  \n",
      " 14  enginetype        205 non-null    object \n",
      " 15  cylindernumber    205 non-null    object \n",
      " 16  enginesize        205 non-null    int64  \n",
      " 17  fuelsystem        205 non-null    object \n",
      " 18  boreratio         205 non-null    float64\n",
      " 19  stroke            205 non-null    float64\n",
      " 20  compressionratio  205 non-null    float64\n",
      " 21  horsepower        205 non-null    int64  \n",
      " 22  peakrpm           205 non-null    int64  \n",
      " 23  citympg           205 non-null    int64  \n",
      " 24  highwaympg        205 non-null    int64  \n",
      " 25  price             205 non-null    float64\n",
      "dtypes: float64(8), int64(8), object(10)\n",
      "memory usage: 41.8+ KB\n"
     ]
    }
   ],
   "source": [
    "df.info()"
   ]
  },
  {
   "cell_type": "code",
   "execution_count": 21,
   "id": "a5e1a5ea",
   "metadata": {
    "_kg_hide-input": true,
    "execution": {
     "iopub.execute_input": "2021-09-27T14:47:45.568161Z",
     "iopub.status.busy": "2021-09-27T14:47:45.567015Z",
     "iopub.status.idle": "2021-09-27T14:47:45.574279Z",
     "shell.execute_reply": "2021-09-27T14:47:45.574761Z",
     "shell.execute_reply.started": "2021-09-27T13:36:42.147598Z"
    },
    "papermill": {
     "duration": 0.084231,
     "end_time": "2021-09-27T14:47:45.574994",
     "exception": false,
     "start_time": "2021-09-27T14:47:45.490763",
     "status": "completed"
    },
    "tags": []
   },
   "outputs": [
    {
     "data": {
      "text/plain": [
       "0"
      ]
     },
     "execution_count": 21,
     "metadata": {},
     "output_type": "execute_result"
    }
   ],
   "source": [
    "df.duplicated().sum()"
   ]
  },
  {
   "cell_type": "code",
   "execution_count": 22,
   "id": "fe0fc8d6",
   "metadata": {
    "_kg_hide-input": true,
    "execution": {
     "iopub.execute_input": "2021-09-27T14:47:45.714207Z",
     "iopub.status.busy": "2021-09-27T14:47:45.713532Z",
     "iopub.status.idle": "2021-09-27T14:47:45.756922Z",
     "shell.execute_reply": "2021-09-27T14:47:45.757496Z",
     "shell.execute_reply.started": "2021-09-27T13:36:42.173949Z"
    },
    "papermill": {
     "duration": 0.114823,
     "end_time": "2021-09-27T14:47:45.757717",
     "exception": false,
     "start_time": "2021-09-27T14:47:45.642894",
     "status": "completed"
    },
    "tags": []
   },
   "outputs": [
    {
     "data": {
      "text/html": [
       "<div>\n",
       "<style scoped>\n",
       "    .dataframe tbody tr th:only-of-type {\n",
       "        vertical-align: middle;\n",
       "    }\n",
       "\n",
       "    .dataframe tbody tr th {\n",
       "        vertical-align: top;\n",
       "    }\n",
       "\n",
       "    .dataframe thead th {\n",
       "        text-align: right;\n",
       "    }\n",
       "</style>\n",
       "<table border=\"1\" class=\"dataframe\">\n",
       "  <thead>\n",
       "    <tr style=\"text-align: right;\">\n",
       "      <th></th>\n",
       "      <th>Missing_Number</th>\n",
       "      <th>Missing_Percent</th>\n",
       "    </tr>\n",
       "  </thead>\n",
       "  <tbody>\n",
       "    <tr>\n",
       "      <th>car_ID</th>\n",
       "      <td>0</td>\n",
       "      <td>0.0</td>\n",
       "    </tr>\n",
       "    <tr>\n",
       "      <th>symboling</th>\n",
       "      <td>0</td>\n",
       "      <td>0.0</td>\n",
       "    </tr>\n",
       "    <tr>\n",
       "      <th>highwaympg</th>\n",
       "      <td>0</td>\n",
       "      <td>0.0</td>\n",
       "    </tr>\n",
       "    <tr>\n",
       "      <th>citympg</th>\n",
       "      <td>0</td>\n",
       "      <td>0.0</td>\n",
       "    </tr>\n",
       "    <tr>\n",
       "      <th>peakrpm</th>\n",
       "      <td>0</td>\n",
       "      <td>0.0</td>\n",
       "    </tr>\n",
       "    <tr>\n",
       "      <th>horsepower</th>\n",
       "      <td>0</td>\n",
       "      <td>0.0</td>\n",
       "    </tr>\n",
       "    <tr>\n",
       "      <th>compressionratio</th>\n",
       "      <td>0</td>\n",
       "      <td>0.0</td>\n",
       "    </tr>\n",
       "    <tr>\n",
       "      <th>stroke</th>\n",
       "      <td>0</td>\n",
       "      <td>0.0</td>\n",
       "    </tr>\n",
       "    <tr>\n",
       "      <th>boreratio</th>\n",
       "      <td>0</td>\n",
       "      <td>0.0</td>\n",
       "    </tr>\n",
       "    <tr>\n",
       "      <th>fuelsystem</th>\n",
       "      <td>0</td>\n",
       "      <td>0.0</td>\n",
       "    </tr>\n",
       "    <tr>\n",
       "      <th>enginesize</th>\n",
       "      <td>0</td>\n",
       "      <td>0.0</td>\n",
       "    </tr>\n",
       "    <tr>\n",
       "      <th>cylindernumber</th>\n",
       "      <td>0</td>\n",
       "      <td>0.0</td>\n",
       "    </tr>\n",
       "    <tr>\n",
       "      <th>enginetype</th>\n",
       "      <td>0</td>\n",
       "      <td>0.0</td>\n",
       "    </tr>\n",
       "    <tr>\n",
       "      <th>curbweight</th>\n",
       "      <td>0</td>\n",
       "      <td>0.0</td>\n",
       "    </tr>\n",
       "    <tr>\n",
       "      <th>carheight</th>\n",
       "      <td>0</td>\n",
       "      <td>0.0</td>\n",
       "    </tr>\n",
       "    <tr>\n",
       "      <th>carwidth</th>\n",
       "      <td>0</td>\n",
       "      <td>0.0</td>\n",
       "    </tr>\n",
       "    <tr>\n",
       "      <th>carlength</th>\n",
       "      <td>0</td>\n",
       "      <td>0.0</td>\n",
       "    </tr>\n",
       "    <tr>\n",
       "      <th>wheelbase</th>\n",
       "      <td>0</td>\n",
       "      <td>0.0</td>\n",
       "    </tr>\n",
       "    <tr>\n",
       "      <th>enginelocation</th>\n",
       "      <td>0</td>\n",
       "      <td>0.0</td>\n",
       "    </tr>\n",
       "    <tr>\n",
       "      <th>drivewheel</th>\n",
       "      <td>0</td>\n",
       "      <td>0.0</td>\n",
       "    </tr>\n",
       "    <tr>\n",
       "      <th>carbody</th>\n",
       "      <td>0</td>\n",
       "      <td>0.0</td>\n",
       "    </tr>\n",
       "    <tr>\n",
       "      <th>doornumber</th>\n",
       "      <td>0</td>\n",
       "      <td>0.0</td>\n",
       "    </tr>\n",
       "    <tr>\n",
       "      <th>aspiration</th>\n",
       "      <td>0</td>\n",
       "      <td>0.0</td>\n",
       "    </tr>\n",
       "    <tr>\n",
       "      <th>fueltype</th>\n",
       "      <td>0</td>\n",
       "      <td>0.0</td>\n",
       "    </tr>\n",
       "    <tr>\n",
       "      <th>CarName</th>\n",
       "      <td>0</td>\n",
       "      <td>0.0</td>\n",
       "    </tr>\n",
       "    <tr>\n",
       "      <th>price</th>\n",
       "      <td>0</td>\n",
       "      <td>0.0</td>\n",
       "    </tr>\n",
       "  </tbody>\n",
       "</table>\n",
       "</div>"
      ],
      "text/plain": [
       "                  Missing_Number  Missing_Percent\n",
       "car_ID                         0              0.0\n",
       "symboling                      0              0.0\n",
       "highwaympg                     0              0.0\n",
       "citympg                        0              0.0\n",
       "peakrpm                        0              0.0\n",
       "horsepower                     0              0.0\n",
       "compressionratio               0              0.0\n",
       "stroke                         0              0.0\n",
       "boreratio                      0              0.0\n",
       "fuelsystem                     0              0.0\n",
       "enginesize                     0              0.0\n",
       "cylindernumber                 0              0.0\n",
       "enginetype                     0              0.0\n",
       "curbweight                     0              0.0\n",
       "carheight                      0              0.0\n",
       "carwidth                       0              0.0\n",
       "carlength                      0              0.0\n",
       "wheelbase                      0              0.0\n",
       "enginelocation                 0              0.0\n",
       "drivewheel                     0              0.0\n",
       "carbody                        0              0.0\n",
       "doornumber                     0              0.0\n",
       "aspiration                     0              0.0\n",
       "fueltype                       0              0.0\n",
       "CarName                        0              0.0\n",
       "price                          0              0.0"
      ]
     },
     "execution_count": 22,
     "metadata": {},
     "output_type": "execute_result"
    }
   ],
   "source": [
    "def missing (df):\n",
    "    missing_number = df.isnull().sum().sort_values(ascending=False)\n",
    "    missing_percent = (df.isnull().sum()/df.isnull().count()).sort_values(ascending=False)\n",
    "    missing_values = pd.concat([missing_number, missing_percent], axis=1, keys=['Missing_Number', 'Missing_Percent'])\n",
    "    return missing_values\n",
    "\n",
    "missing(df)"
   ]
  },
  {
   "cell_type": "code",
   "execution_count": 23,
   "id": "675cbf44",
   "metadata": {
    "_kg_hide-input": true,
    "execution": {
     "iopub.execute_input": "2021-09-27T14:47:46.037344Z",
     "iopub.status.busy": "2021-09-27T14:47:46.036638Z",
     "iopub.status.idle": "2021-09-27T14:47:46.054911Z",
     "shell.execute_reply": "2021-09-27T14:47:46.055500Z",
     "shell.execute_reply.started": "2021-09-27T13:36:42.204466Z"
    },
    "papermill": {
     "duration": 0.093053,
     "end_time": "2021-09-27T14:47:46.055721",
     "exception": false,
     "start_time": "2021-09-27T14:47:45.962668",
     "status": "completed"
    },
    "tags": []
   },
   "outputs": [
    {
     "data": {
      "text/plain": [
       "car_ID              205\n",
       "symboling             6\n",
       "CarName             147\n",
       "fueltype              2\n",
       "aspiration            2\n",
       "doornumber            2\n",
       "carbody               5\n",
       "drivewheel            3\n",
       "enginelocation        2\n",
       "wheelbase            53\n",
       "carlength            75\n",
       "carwidth             44\n",
       "carheight            49\n",
       "curbweight          171\n",
       "enginetype            7\n",
       "cylindernumber        7\n",
       "enginesize           44\n",
       "fuelsystem            8\n",
       "boreratio            38\n",
       "stroke               37\n",
       "compressionratio     32\n",
       "horsepower           59\n",
       "peakrpm              23\n",
       "citympg              29\n",
       "highwaympg           30\n",
       "price               189\n",
       "dtype: int64"
      ]
     },
     "execution_count": 23,
     "metadata": {},
     "output_type": "execute_result"
    }
   ],
   "source": [
    "df.nunique()"
   ]
  },
  {
   "cell_type": "code",
   "execution_count": 24,
   "id": "ea8f0d71",
   "metadata": {
    "_kg_hide-input": true,
    "execution": {
     "iopub.execute_input": "2021-09-27T14:47:46.476288Z",
     "iopub.status.busy": "2021-09-27T14:47:46.475603Z",
     "iopub.status.idle": "2021-09-27T14:47:46.480127Z",
     "shell.execute_reply": "2021-09-27T14:47:46.480675Z",
     "shell.execute_reply.started": "2021-09-27T13:36:42.225367Z"
    },
    "papermill": {
     "duration": 0.076645,
     "end_time": "2021-09-27T14:47:46.480892",
     "exception": false,
     "start_time": "2021-09-27T14:47:46.404247",
     "status": "completed"
    },
    "tags": []
   },
   "outputs": [],
   "source": [
    "df1= df.copy()"
   ]
  },
  {
   "cell_type": "code",
   "execution_count": 25,
   "id": "c6917c1a",
   "metadata": {
    "_kg_hide-input": true,
    "execution": {
     "iopub.execute_input": "2021-09-27T14:47:46.755663Z",
     "iopub.status.busy": "2021-09-27T14:47:46.754990Z",
     "iopub.status.idle": "2021-09-27T14:47:46.762928Z",
     "shell.execute_reply": "2021-09-27T14:47:46.763515Z",
     "shell.execute_reply.started": "2021-09-27T13:36:42.234214Z"
    },
    "papermill": {
     "duration": 0.07933,
     "end_time": "2021-09-27T14:47:46.763707",
     "exception": false,
     "start_time": "2021-09-27T14:47:46.684377",
     "status": "completed"
    },
    "tags": []
   },
   "outputs": [
    {
     "data": {
      "text/plain": [
       "44                 isuzu D-Max \n",
       "91                 nissan rogue\n",
       "98               nissan clipper\n",
       "2      alfa-romero Quadrifoglio\n",
       "169              toyota starlet\n",
       "Name: CarName, dtype: object"
      ]
     },
     "execution_count": 25,
     "metadata": {},
     "output_type": "execute_result"
    }
   ],
   "source": [
    "df1['CarName'].sample(5)"
   ]
  },
  {
   "cell_type": "code",
   "execution_count": 26,
   "id": "4d436c2d",
   "metadata": {
    "execution": {
     "iopub.execute_input": "2021-09-27T14:47:47.204298Z",
     "iopub.status.busy": "2021-09-27T14:47:47.203583Z",
     "iopub.status.idle": "2021-09-27T14:47:47.205664Z",
     "shell.execute_reply": "2021-09-27T14:47:47.206164Z",
     "shell.execute_reply.started": "2021-09-27T13:36:42.309094Z"
    },
    "papermill": {
     "duration": 0.082484,
     "end_time": "2021-09-27T14:47:47.206370",
     "exception": false,
     "start_time": "2021-09-27T14:47:47.123886",
     "status": "completed"
    },
    "tags": []
   },
   "outputs": [],
   "source": [
    "df1['model'] = [x.split()[0] for x in df1['CarName']]\n",
    "df1['model'] = df1['model'].replace({'maxda': 'Mazda','mazda': 'Mazda', \n",
    "                                     'nissan': 'Nissan', \n",
    "                                     'porcshce': 'Porsche','porsche':'Porsche', \n",
    "                                     'toyouta': 'Toyota', 'toyota':'Toyota',\n",
    "                            'vokswagen': 'Volkswagen', 'vw': 'Volkswagen', 'volkswagen':'Volkswagen'})\n"
   ]
  },
  {
   "cell_type": "code",
   "execution_count": 27,
   "id": "5aa36d8d",
   "metadata": {
    "_kg_hide-input": true,
    "execution": {
     "iopub.execute_input": "2021-09-27T14:47:47.512928Z",
     "iopub.status.busy": "2021-09-27T14:47:47.512159Z",
     "iopub.status.idle": "2021-09-27T14:47:47.518635Z",
     "shell.execute_reply": "2021-09-27T14:47:47.519132Z",
     "shell.execute_reply.started": "2021-09-27T13:36:42.321577Z"
    },
    "papermill": {
     "duration": 0.096642,
     "end_time": "2021-09-27T14:47:47.519352",
     "exception": false,
     "start_time": "2021-09-27T14:47:47.422710",
     "status": "completed"
    },
    "tags": []
   },
   "outputs": [],
   "source": [
    "df1= df1.drop(['car_ID','CarName'], axis=1)"
   ]
  },
  {
   "cell_type": "code",
   "execution_count": 28,
   "id": "1422ddd4",
   "metadata": {
    "_kg_hide-input": true,
    "execution": {
     "iopub.execute_input": "2021-09-27T14:47:47.811891Z",
     "iopub.status.busy": "2021-09-27T14:47:47.810759Z",
     "iopub.status.idle": "2021-09-27T14:47:47.828240Z",
     "shell.execute_reply": "2021-09-27T14:47:47.827486Z",
     "shell.execute_reply.started": "2021-09-27T13:36:42.351361Z"
    },
    "papermill": {
     "duration": 0.091111,
     "end_time": "2021-09-27T14:47:47.828412",
     "exception": false,
     "start_time": "2021-09-27T14:47:47.737301",
     "status": "completed"
    },
    "tags": []
   },
   "outputs": [],
   "source": [
    "numerical= df1.drop(['price'], axis=1).select_dtypes('number').columns\n",
    "\n",
    "categorical = df1.select_dtypes('object').columns\n"
   ]
  },
  {
   "cell_type": "markdown",
   "id": "59b879d7",
   "metadata": {
    "papermill": {
     "duration": 0.069944,
     "end_time": "2021-09-27T14:47:47.969526",
     "exception": false,
     "start_time": "2021-09-27T14:47:47.899582",
     "status": "completed"
    },
    "tags": []
   },
   "source": [
    "<a id=\"3\"></a>\n",
    "<font color=\"lightseagreen\" size=+1.5><b>Target Variable</b></font>\n"
   ]
  },
  {
   "cell_type": "code",
   "execution_count": 29,
   "id": "f2b68ad3",
   "metadata": {
    "_kg_hide-input": true,
    "execution": {
     "iopub.execute_input": "2021-09-27T14:47:48.120781Z",
     "iopub.status.busy": "2021-09-27T14:47:48.119780Z",
     "iopub.status.idle": "2021-09-27T14:47:48.134370Z",
     "shell.execute_reply": "2021-09-27T14:47:48.133767Z",
     "shell.execute_reply.started": "2021-09-27T13:36:42.375901Z"
    },
    "papermill": {
     "duration": 0.093119,
     "end_time": "2021-09-27T14:47:48.134540",
     "exception": false,
     "start_time": "2021-09-27T14:47:48.041421",
     "status": "completed"
    },
    "tags": []
   },
   "outputs": [
    {
     "data": {
      "text/plain": [
       "count      205.000000\n",
       "mean     13276.710571\n",
       "std       7988.852332\n",
       "min       5118.000000\n",
       "25%       7788.000000\n",
       "50%      10295.000000\n",
       "75%      16503.000000\n",
       "max      45400.000000\n",
       "Name: price, dtype: float64"
      ]
     },
     "execution_count": 29,
     "metadata": {},
     "output_type": "execute_result"
    }
   ],
   "source": [
    "df1['price'].describe()"
   ]
  },
  {
   "cell_type": "code",
   "execution_count": 30,
   "id": "b1fa2fbb",
   "metadata": {
    "_kg_hide-input": true,
    "execution": {
     "iopub.execute_input": "2021-09-27T14:47:48.283760Z",
     "iopub.status.busy": "2021-09-27T14:47:48.282806Z",
     "iopub.status.idle": "2021-09-27T14:47:48.286178Z",
     "shell.execute_reply": "2021-09-27T14:47:48.286653Z",
     "shell.execute_reply.started": "2021-09-27T14:23:06.545836Z"
    },
    "papermill": {
     "duration": 0.080588,
     "end_time": "2021-09-27T14:47:48.286859",
     "exception": false,
     "start_time": "2021-09-27T14:47:48.206271",
     "status": "completed"
    },
    "tags": []
   },
   "outputs": [
    {
     "name": "stdout",
     "output_type": "stream",
     "text": [
      "Skewness: 1.7776781560914454\n"
     ]
    }
   ],
   "source": [
    "print( f\"Skewness: {df1['price'].skew()}\")"
   ]
  },
  {
   "cell_type": "markdown",
   "id": "a83b6dbe",
   "metadata": {
    "papermill": {
     "duration": 0.078545,
     "end_time": "2021-09-27T14:47:49.850825",
     "exception": false,
     "start_time": "2021-09-27T14:47:49.772280",
     "status": "completed"
    },
    "tags": []
   },
   "source": [
    "<a id=\"4\"></a>\n",
    "<font color=\"lightseagreen\" size=+1.5><b>Numerical Features</b></font>\n"
   ]
  },
  {
   "cell_type": "code",
   "execution_count": 32,
   "id": "5195d53f",
   "metadata": {
    "_kg_hide-input": true,
    "execution": {
     "iopub.execute_input": "2021-09-27T14:47:50.236941Z",
     "iopub.status.busy": "2021-09-27T14:47:50.236208Z",
     "iopub.status.idle": "2021-09-27T14:47:50.364540Z",
     "shell.execute_reply": "2021-09-27T14:47:50.365147Z",
     "shell.execute_reply.started": "2021-09-27T13:36:42.542594Z"
    },
    "papermill": {
     "duration": 0.215346,
     "end_time": "2021-09-27T14:47:50.365353",
     "exception": false,
     "start_time": "2021-09-27T14:47:50.150007",
     "status": "completed"
    },
    "tags": []
   },
   "outputs": [
    {
     "data": {
      "application/vnd.plotly.v1+json": {
       "config": {
        "linkText": "Export to plot.ly",
        "plotlyServerURL": "https://plot.ly",
        "showLink": true
       },
       "data": [
        {
         "histfunc": "count",
         "histnorm": "",
         "marker": {
          "color": "rgba(255, 153, 51, 1.0)",
          "line": {
           "color": "#4D5663",
           "width": 1.3
          }
         },
         "name": "symboling",
         "opacity": 0.8,
         "orientation": "v",
         "type": "histogram",
         "x": [
          3,
          3,
          1,
          2,
          2,
          2,
          1,
          1,
          1,
          0,
          2,
          0,
          0,
          0,
          1,
          0,
          0,
          0,
          2,
          1,
          0,
          1,
          1,
          1,
          1,
          1,
          1,
          1,
          -1,
          3,
          2,
          2,
          1,
          1,
          1,
          0,
          0,
          0,
          0,
          0,
          0,
          0,
          1,
          0,
          1,
          0,
          2,
          0,
          0,
          0,
          1,
          1,
          1,
          1,
          1,
          3,
          3,
          3,
          3,
          1,
          0,
          1,
          0,
          0,
          0,
          0,
          0,
          -1,
          -1,
          0,
          -1,
          -1,
          3,
          0,
          1,
          1,
          2,
          2,
          2,
          1,
          3,
          3,
          3,
          3,
          3,
          1,
          1,
          1,
          -1,
          1,
          1,
          1,
          1,
          1,
          1,
          1,
          1,
          1,
          2,
          0,
          0,
          0,
          0,
          0,
          3,
          3,
          1,
          0,
          0,
          0,
          0,
          0,
          0,
          0,
          0,
          0,
          0,
          0,
          1,
          1,
          1,
          1,
          1,
          -1,
          3,
          3,
          3,
          3,
          3,
          1,
          0,
          2,
          3,
          2,
          3,
          2,
          3,
          2,
          2,
          2,
          2,
          0,
          0,
          0,
          0,
          0,
          0,
          0,
          0,
          0,
          1,
          1,
          1,
          0,
          0,
          0,
          0,
          0,
          0,
          0,
          0,
          0,
          0,
          1,
          1,
          1,
          1,
          2,
          2,
          2,
          2,
          2,
          2,
          -1,
          -1,
          -1,
          -1,
          -1,
          3,
          3,
          -1,
          -1,
          2,
          2,
          2,
          2,
          2,
          2,
          2,
          3,
          3,
          0,
          0,
          0,
          -2,
          -1,
          -2,
          -1,
          -2,
          -1,
          -1,
          -1,
          -1,
          -1,
          -1
         ]
        },
        {
         "histfunc": "count",
         "histnorm": "",
         "marker": {
          "color": "rgba(55, 128, 191, 1.0)",
          "line": {
           "color": "#4D5663",
           "width": 1.3
          }
         },
         "name": "wheelbase",
         "opacity": 0.8,
         "orientation": "v",
         "type": "histogram",
         "x": [
          88.6,
          88.6,
          94.5,
          99.8,
          99.4,
          99.8,
          105.8,
          105.8,
          105.8,
          99.5,
          101.2,
          101.2,
          101.2,
          101.2,
          103.5,
          103.5,
          103.5,
          110,
          88.4,
          94.5,
          94.5,
          93.7,
          93.7,
          93.7,
          93.7,
          93.7,
          93.7,
          93.7,
          103.3,
          95.9,
          86.6,
          86.6,
          93.7,
          93.7,
          93.7,
          96.5,
          96.5,
          96.5,
          96.5,
          96.5,
          96.5,
          96.5,
          96.5,
          94.3,
          94.5,
          94.5,
          96,
          113,
          113,
          102,
          93.1,
          93.1,
          93.1,
          93.1,
          93.1,
          95.3,
          95.3,
          95.3,
          95.3,
          98.8,
          98.8,
          98.8,
          98.8,
          98.8,
          98.8,
          104.9,
          104.9,
          110,
          110,
          106.7,
          115.6,
          115.6,
          96.6,
          120.9,
          112,
          102.7,
          93.7,
          93.7,
          93.7,
          93,
          96.3,
          96.3,
          95.9,
          95.9,
          95.9,
          96.3,
          96.3,
          96.3,
          96.3,
          94.5,
          94.5,
          94.5,
          94.5,
          94.5,
          94.5,
          94.5,
          94.5,
          94.5,
          95.1,
          97.2,
          97.2,
          100.4,
          100.4,
          100.4,
          91.3,
          91.3,
          99.2,
          107.9,
          107.9,
          114.2,
          114.2,
          107.9,
          107.9,
          114.2,
          114.2,
          107.9,
          107.9,
          108,
          93.7,
          93.7,
          93.7,
          93.7,
          93.7,
          103.3,
          95.9,
          94.5,
          89.5,
          89.5,
          89.5,
          98.4,
          96.1,
          96.1,
          99.1,
          99.1,
          99.1,
          99.1,
          99.1,
          99.1,
          93.7,
          93.7,
          93.3,
          97.2,
          97.2,
          97.2,
          97,
          97,
          97,
          97,
          96.9,
          96.9,
          95.7,
          95.7,
          95.7,
          95.7,
          95.7,
          95.7,
          95.7,
          95.7,
          95.7,
          95.7,
          95.7,
          95.7,
          95.7,
          94.5,
          94.5,
          94.5,
          94.5,
          98.4,
          98.4,
          98.4,
          98.4,
          98.4,
          98.4,
          102.4,
          102.4,
          102.4,
          102.4,
          102.4,
          102.9,
          102.9,
          104.5,
          104.5,
          97.3,
          97.3,
          97.3,
          97.3,
          97.3,
          97.3,
          97.3,
          94.5,
          94.5,
          100.4,
          100.4,
          100.4,
          104.3,
          104.3,
          104.3,
          104.3,
          104.3,
          104.3,
          109.1,
          109.1,
          109.1,
          109.1,
          109.1
         ]
        },
        {
         "histfunc": "count",
         "histnorm": "",
         "marker": {
          "color": "rgba(50, 171, 96, 1.0)",
          "line": {
           "color": "#4D5663",
           "width": 1.3
          }
         },
         "name": "carlength",
         "opacity": 0.8,
         "orientation": "v",
         "type": "histogram",
         "x": [
          168.8,
          168.8,
          171.2,
          176.6,
          176.6,
          177.3,
          192.7,
          192.7,
          192.7,
          178.2,
          176.8,
          176.8,
          176.8,
          176.8,
          189,
          189,
          193.8,
          197,
          141.1,
          155.9,
          158.8,
          157.3,
          157.3,
          157.3,
          157.3,
          157.3,
          157.3,
          157.3,
          174.6,
          173.2,
          144.6,
          144.6,
          150,
          150,
          150,
          163.4,
          157.1,
          167.5,
          167.5,
          175.4,
          175.4,
          175.4,
          169.1,
          170.7,
          155.9,
          155.9,
          172.6,
          199.6,
          199.6,
          191.7,
          159.1,
          159.1,
          159.1,
          166.8,
          166.8,
          169,
          169,
          169,
          169,
          177.8,
          177.8,
          177.8,
          177.8,
          177.8,
          177.8,
          175,
          175,
          190.9,
          190.9,
          187.5,
          202.6,
          202.6,
          180.3,
          208.1,
          199.2,
          178.4,
          157.3,
          157.3,
          157.3,
          157.3,
          173,
          173,
          173.2,
          173.2,
          173.2,
          172.4,
          172.4,
          172.4,
          172.4,
          165.3,
          165.3,
          165.3,
          165.3,
          170.2,
          165.3,
          165.6,
          165.3,
          170.2,
          162.4,
          173.4,
          173.4,
          181.7,
          184.6,
          184.6,
          170.7,
          170.7,
          178.5,
          186.7,
          186.7,
          198.9,
          198.9,
          186.7,
          186.7,
          198.9,
          198.9,
          186.7,
          186.7,
          186.7,
          157.3,
          157.3,
          157.3,
          167.3,
          167.3,
          174.6,
          173.2,
          168.9,
          168.9,
          168.9,
          168.9,
          175.7,
          181.5,
          176.8,
          186.6,
          186.6,
          186.6,
          186.6,
          186.6,
          186.6,
          156.9,
          157.9,
          157.3,
          172,
          172,
          172,
          172,
          172,
          173.5,
          173.5,
          173.6,
          173.6,
          158.7,
          158.7,
          158.7,
          169.7,
          169.7,
          169.7,
          166.3,
          166.3,
          166.3,
          166.3,
          166.3,
          166.3,
          166.3,
          168.7,
          168.7,
          168.7,
          168.7,
          176.2,
          176.2,
          176.2,
          176.2,
          176.2,
          176.2,
          175.6,
          175.6,
          175.6,
          175.6,
          175.6,
          183.5,
          183.5,
          187.8,
          187.8,
          171.7,
          171.7,
          171.7,
          171.7,
          171.7,
          171.7,
          171.7,
          159.3,
          165.7,
          180.2,
          180.2,
          183.1,
          188.8,
          188.8,
          188.8,
          188.8,
          188.8,
          188.8,
          188.8,
          188.8,
          188.8,
          188.8,
          188.8
         ]
        },
        {
         "histfunc": "count",
         "histnorm": "",
         "marker": {
          "color": "rgba(128, 0, 128, 1.0)",
          "line": {
           "color": "#4D5663",
           "width": 1.3
          }
         },
         "name": "carwidth",
         "opacity": 0.8,
         "orientation": "v",
         "type": "histogram",
         "x": [
          64.1,
          64.1,
          65.5,
          66.2,
          66.4,
          66.3,
          71.4,
          71.4,
          71.4,
          67.9,
          64.8,
          64.8,
          64.8,
          64.8,
          66.9,
          66.9,
          67.9,
          70.9,
          60.3,
          63.6,
          63.6,
          63.8,
          63.8,
          63.8,
          63.8,
          63.8,
          63.8,
          63.8,
          64.6,
          66.3,
          63.9,
          63.9,
          64,
          64,
          64,
          64,
          63.9,
          65.2,
          65.2,
          65.2,
          62.5,
          65.2,
          66,
          61.8,
          63.6,
          63.6,
          65.2,
          69.6,
          69.6,
          70.6,
          64.2,
          64.2,
          64.2,
          64.2,
          64.2,
          65.7,
          65.7,
          65.7,
          65.7,
          66.5,
          66.5,
          66.5,
          66.5,
          66.5,
          66.5,
          66.1,
          66.1,
          70.3,
          70.3,
          70.3,
          71.7,
          71.7,
          70.5,
          71.7,
          72,
          68,
          64.4,
          64.4,
          64.4,
          63.8,
          65.4,
          65.4,
          66.3,
          66.3,
          66.3,
          65.4,
          65.4,
          65.4,
          65.4,
          63.8,
          63.8,
          63.8,
          63.8,
          63.8,
          63.8,
          63.8,
          63.8,
          63.8,
          63.8,
          65.2,
          65.2,
          66.5,
          66.5,
          66.5,
          67.9,
          67.9,
          67.9,
          68.4,
          68.4,
          68.4,
          68.4,
          68.4,
          68.4,
          68.4,
          68.4,
          68.4,
          68.4,
          68.3,
          63.8,
          63.8,
          63.8,
          63.8,
          63.8,
          64.6,
          66.3,
          68.3,
          65,
          65,
          65,
          72.3,
          66.5,
          66.6,
          66.5,
          66.5,
          66.5,
          66.5,
          66.5,
          66.5,
          63.4,
          63.6,
          63.8,
          65.4,
          65.4,
          65.4,
          65.4,
          65.4,
          65.4,
          65.4,
          65.4,
          65.4,
          63.6,
          63.6,
          63.6,
          63.6,
          63.6,
          63.6,
          64.4,
          64.4,
          64.4,
          64.4,
          64.4,
          64.4,
          64.4,
          64,
          64,
          64,
          64,
          65.6,
          65.6,
          65.6,
          65.6,
          65.6,
          65.6,
          66.5,
          66.5,
          66.5,
          66.5,
          66.5,
          67.7,
          67.7,
          66.5,
          66.5,
          65.5,
          65.5,
          65.5,
          65.5,
          65.5,
          65.5,
          65.5,
          64.2,
          64,
          66.9,
          66.9,
          66.9,
          67.2,
          67.2,
          67.2,
          67.2,
          67.2,
          67.2,
          68.9,
          68.8,
          68.9,
          68.9,
          68.9
         ]
        },
        {
         "histfunc": "count",
         "histnorm": "",
         "marker": {
          "color": "rgba(219, 64, 82, 1.0)",
          "line": {
           "color": "#4D5663",
           "width": 1.3
          }
         },
         "name": "carheight",
         "opacity": 0.8,
         "orientation": "v",
         "type": "histogram",
         "x": [
          48.8,
          48.8,
          52.4,
          54.3,
          54.3,
          53.1,
          55.7,
          55.7,
          55.9,
          52,
          54.3,
          54.3,
          54.3,
          54.3,
          55.7,
          55.7,
          53.7,
          56.3,
          53.2,
          52,
          52,
          50.8,
          50.8,
          50.8,
          50.6,
          50.6,
          50.6,
          50.6,
          59.8,
          50.2,
          50.8,
          50.8,
          52.6,
          52.6,
          52.6,
          54.5,
          58.3,
          53.3,
          53.3,
          54.1,
          54.1,
          54.1,
          51,
          53.5,
          52,
          52,
          51.4,
          52.8,
          52.8,
          47.8,
          54.1,
          54.1,
          54.1,
          54.1,
          54.1,
          49.6,
          49.6,
          49.6,
          49.6,
          53.7,
          55.5,
          53.7,
          55.5,
          55.5,
          55.5,
          54.4,
          54.4,
          56.5,
          58.7,
          54.9,
          56.3,
          56.5,
          50.8,
          56.7,
          55.4,
          54.8,
          50.8,
          50.8,
          50.8,
          50.8,
          49.4,
          49.4,
          50.2,
          50.2,
          50.2,
          51.6,
          51.6,
          51.6,
          51.6,
          54.5,
          54.5,
          54.5,
          54.5,
          53.5,
          54.5,
          53.3,
          54.5,
          53.5,
          53.3,
          54.7,
          54.7,
          55.1,
          56.1,
          55.1,
          49.7,
          49.7,
          49.7,
          56.7,
          56.7,
          58.7,
          58.7,
          56.7,
          56.7,
          56.7,
          58.7,
          56.7,
          56.7,
          56,
          50.8,
          50.8,
          50.6,
          50.8,
          50.8,
          59.8,
          50.2,
          50.2,
          51.6,
          51.6,
          51.6,
          50.5,
          55.2,
          50.5,
          56.1,
          56.1,
          56.1,
          56.1,
          56.1,
          56.1,
          53.7,
          53.7,
          55.7,
          52.5,
          52.5,
          52.5,
          54.3,
          54.3,
          53,
          53,
          54.9,
          54.9,
          54.5,
          54.5,
          54.5,
          59.1,
          59.1,
          59.1,
          53,
          52.8,
          53,
          52.8,
          53,
          52.8,
          52.8,
          52.6,
          52.6,
          52.6,
          52.6,
          52,
          52,
          52,
          52,
          52,
          53,
          54.9,
          54.9,
          53.9,
          54.9,
          53.9,
          52,
          52,
          54.1,
          54.1,
          55.7,
          55.7,
          55.7,
          55.7,
          55.7,
          55.7,
          55.7,
          55.6,
          51.4,
          55.1,
          55.1,
          55.1,
          56.2,
          57.5,
          56.2,
          57.5,
          56.2,
          57.5,
          55.5,
          55.5,
          55.5,
          55.5,
          55.5
         ]
        },
        {
         "histfunc": "count",
         "histnorm": "",
         "marker": {
          "color": "rgba(0, 128, 128, 1.0)",
          "line": {
           "color": "#4D5663",
           "width": 1.3
          }
         },
         "name": "curbweight",
         "opacity": 0.8,
         "orientation": "v",
         "type": "histogram",
         "x": [
          2548,
          2548,
          2823,
          2337,
          2824,
          2507,
          2844,
          2954,
          3086,
          3053,
          2395,
          2395,
          2710,
          2765,
          3055,
          3230,
          3380,
          3505,
          1488,
          1874,
          1909,
          1876,
          1876,
          2128,
          1967,
          1989,
          1989,
          2191,
          2535,
          2811,
          1713,
          1819,
          1837,
          1940,
          1956,
          2010,
          2024,
          2236,
          2289,
          2304,
          2372,
          2465,
          2293,
          2337,
          1874,
          1909,
          2734,
          4066,
          4066,
          3950,
          1890,
          1900,
          1905,
          1945,
          1950,
          2380,
          2380,
          2385,
          2500,
          2385,
          2410,
          2385,
          2410,
          2443,
          2425,
          2670,
          2700,
          3515,
          3750,
          3495,
          3770,
          3740,
          3685,
          3900,
          3715,
          2910,
          1918,
          1944,
          2004,
          2145,
          2370,
          2328,
          2833,
          2921,
          2926,
          2365,
          2405,
          2403,
          2403,
          1889,
          2017,
          1918,
          1938,
          2024,
          1951,
          2028,
          1971,
          2037,
          2008,
          2324,
          2302,
          3095,
          3296,
          3060,
          3071,
          3139,
          3139,
          3020,
          3197,
          3230,
          3430,
          3075,
          3252,
          3285,
          3485,
          3075,
          3252,
          3130,
          1918,
          2128,
          1967,
          1989,
          2191,
          2535,
          2818,
          2778,
          2756,
          2756,
          2800,
          3366,
          2579,
          2460,
          2658,
          2695,
          2707,
          2758,
          2808,
          2847,
          2050,
          2120,
          2240,
          2145,
          2190,
          2340,
          2385,
          2510,
          2290,
          2455,
          2420,
          2650,
          1985,
          2040,
          2015,
          2280,
          2290,
          3110,
          2081,
          2109,
          2275,
          2275,
          2094,
          2122,
          2140,
          2169,
          2204,
          2265,
          2300,
          2540,
          2536,
          2551,
          2679,
          2714,
          2975,
          2326,
          2480,
          2414,
          2414,
          2458,
          2976,
          3016,
          3131,
          3151,
          2261,
          2209,
          2264,
          2212,
          2275,
          2319,
          2300,
          2254,
          2221,
          2661,
          2579,
          2563,
          2912,
          3034,
          2935,
          3042,
          3045,
          3157,
          2952,
          3049,
          3012,
          3217,
          3062
         ]
        },
        {
         "histfunc": "count",
         "histnorm": "",
         "marker": {
          "color": "rgba(255, 255, 51, 1.0)",
          "line": {
           "color": "#4D5663",
           "width": 1.3
          }
         },
         "name": "enginesize",
         "opacity": 0.8,
         "orientation": "v",
         "type": "histogram",
         "x": [
          130,
          130,
          152,
          109,
          136,
          136,
          136,
          136,
          131,
          131,
          108,
          108,
          164,
          164,
          164,
          209,
          209,
          209,
          61,
          90,
          90,
          90,
          90,
          98,
          90,
          90,
          90,
          98,
          122,
          156,
          92,
          92,
          79,
          92,
          92,
          92,
          92,
          110,
          110,
          110,
          110,
          110,
          110,
          111,
          90,
          90,
          119,
          258,
          258,
          326,
          91,
          91,
          91,
          91,
          91,
          70,
          70,
          70,
          80,
          122,
          122,
          122,
          122,
          122,
          122,
          140,
          134,
          183,
          183,
          183,
          183,
          234,
          234,
          308,
          304,
          140,
          92,
          92,
          92,
          98,
          110,
          122,
          156,
          156,
          156,
          122,
          122,
          110,
          110,
          97,
          103,
          97,
          97,
          97,
          97,
          97,
          97,
          97,
          97,
          120,
          120,
          181,
          181,
          181,
          181,
          181,
          181,
          120,
          152,
          120,
          152,
          120,
          152,
          120,
          152,
          120,
          152,
          134,
          90,
          98,
          90,
          90,
          98,
          122,
          156,
          151,
          194,
          194,
          194,
          203,
          132,
          132,
          121,
          121,
          121,
          121,
          121,
          121,
          97,
          108,
          108,
          108,
          108,
          108,
          108,
          108,
          108,
          108,
          108,
          108,
          92,
          92,
          92,
          92,
          92,
          92,
          98,
          98,
          110,
          110,
          98,
          98,
          98,
          98,
          98,
          98,
          98,
          146,
          146,
          146,
          146,
          146,
          146,
          122,
          110,
          122,
          122,
          122,
          171,
          171,
          171,
          161,
          97,
          109,
          97,
          109,
          109,
          97,
          109,
          109,
          109,
          136,
          97,
          109,
          141,
          141,
          141,
          141,
          130,
          130,
          141,
          141,
          173,
          145,
          141
         ]
        },
        {
         "histfunc": "count",
         "histnorm": "",
         "marker": {
          "color": "rgba(128, 128, 0, 1.0)",
          "line": {
           "color": "#4D5663",
           "width": 1.3
          }
         },
         "name": "boreratio",
         "opacity": 0.8,
         "orientation": "v",
         "type": "histogram",
         "x": [
          3.47,
          3.47,
          2.68,
          3.19,
          3.19,
          3.19,
          3.19,
          3.19,
          3.13,
          3.13,
          3.5,
          3.5,
          3.31,
          3.31,
          3.31,
          3.62,
          3.62,
          3.62,
          2.91,
          3.03,
          3.03,
          2.97,
          2.97,
          3.03,
          2.97,
          2.97,
          2.97,
          3.03,
          3.34,
          3.6,
          2.91,
          2.91,
          2.91,
          2.91,
          2.91,
          2.91,
          2.92,
          3.15,
          3.15,
          3.15,
          3.15,
          3.15,
          3.15,
          3.31,
          3.03,
          3.03,
          3.43,
          3.63,
          3.63,
          3.54,
          3.03,
          3.03,
          3.03,
          3.03,
          3.08,
          3.33,
          3.33,
          3.33,
          3.33,
          3.39,
          3.39,
          3.39,
          3.39,
          3.39,
          3.39,
          3.76,
          3.43,
          3.58,
          3.58,
          3.58,
          3.58,
          3.46,
          3.46,
          3.8,
          3.8,
          3.78,
          2.97,
          2.97,
          2.97,
          3.03,
          3.17,
          3.35,
          3.58,
          3.59,
          3.59,
          3.35,
          3.35,
          3.17,
          3.17,
          3.15,
          2.99,
          3.15,
          3.15,
          3.15,
          3.15,
          3.15,
          3.15,
          3.15,
          3.15,
          3.33,
          3.33,
          3.43,
          3.43,
          3.43,
          3.43,
          3.43,
          3.43,
          3.46,
          3.7,
          3.46,
          3.7,
          3.46,
          3.7,
          3.46,
          3.7,
          3.46,
          3.7,
          3.61,
          2.97,
          3.03,
          2.97,
          2.97,
          2.97,
          3.35,
          3.59,
          3.94,
          3.74,
          3.74,
          3.74,
          3.94,
          3.46,
          3.46,
          3.54,
          3.54,
          2.54,
          3.54,
          3.54,
          3.54,
          3.62,
          3.62,
          3.62,
          3.62,
          3.62,
          3.62,
          3.62,
          3.62,
          3.62,
          3.62,
          3.62,
          3.62,
          3.05,
          3.05,
          3.05,
          3.05,
          3.05,
          3.05,
          3.19,
          3.19,
          3.27,
          3.27,
          3.19,
          3.19,
          3.19,
          3.19,
          3.19,
          3.24,
          3.24,
          3.62,
          3.62,
          3.62,
          3.62,
          3.62,
          3.62,
          3.31,
          3.27,
          3.31,
          3.31,
          3.31,
          3.27,
          3.27,
          3.27,
          3.27,
          3.01,
          3.19,
          3.01,
          3.19,
          3.19,
          3.01,
          3.19,
          3.19,
          3.19,
          3.19,
          3.01,
          3.19,
          3.78,
          3.78,
          3.78,
          3.78,
          3.62,
          3.62,
          3.78,
          3.78,
          3.58,
          3.01,
          3.78
         ]
        },
        {
         "histfunc": "count",
         "histnorm": "",
         "marker": {
          "color": "rgba(251, 128, 114, 1.0)",
          "line": {
           "color": "#4D5663",
           "width": 1.3
          }
         },
         "name": "stroke",
         "opacity": 0.8,
         "orientation": "v",
         "type": "histogram",
         "x": [
          2.68,
          2.68,
          3.47,
          3.4,
          3.4,
          3.4,
          3.4,
          3.4,
          3.4,
          3.4,
          2.8,
          2.8,
          3.19,
          3.19,
          3.19,
          3.39,
          3.39,
          3.39,
          3.03,
          3.11,
          3.11,
          3.23,
          3.23,
          3.39,
          3.23,
          3.23,
          3.23,
          3.39,
          3.46,
          3.9,
          3.41,
          3.41,
          3.07,
          3.41,
          3.41,
          3.41,
          3.41,
          3.58,
          3.58,
          3.58,
          3.58,
          3.58,
          3.58,
          3.23,
          3.11,
          3.11,
          3.23,
          4.17,
          4.17,
          2.76,
          3.15,
          3.15,
          3.15,
          3.15,
          3.15,
          3.255,
          3.255,
          3.255,
          3.255,
          3.39,
          3.39,
          3.39,
          3.39,
          3.39,
          3.39,
          3.16,
          3.64,
          3.64,
          3.64,
          3.64,
          3.64,
          3.1,
          3.1,
          3.35,
          3.35,
          3.12,
          3.23,
          3.23,
          3.23,
          3.39,
          3.46,
          3.46,
          3.86,
          3.86,
          3.86,
          3.46,
          3.46,
          3.46,
          3.46,
          3.29,
          3.47,
          3.29,
          3.29,
          3.29,
          3.29,
          3.29,
          3.29,
          3.29,
          3.29,
          3.47,
          3.47,
          3.27,
          3.27,
          3.27,
          3.27,
          3.27,
          3.27,
          3.19,
          3.52,
          3.19,
          3.52,
          2.19,
          3.52,
          2.19,
          3.52,
          3.19,
          3.52,
          3.21,
          3.23,
          3.39,
          3.23,
          3.23,
          3.23,
          3.46,
          3.86,
          3.11,
          2.9,
          2.9,
          2.9,
          3.11,
          3.9,
          3.9,
          3.07,
          3.07,
          2.07,
          3.07,
          3.07,
          3.07,
          2.36,
          2.64,
          2.64,
          2.64,
          2.64,
          2.64,
          2.64,
          2.64,
          2.64,
          2.64,
          2.64,
          2.64,
          3.03,
          3.03,
          3.03,
          3.03,
          3.03,
          3.03,
          3.03,
          3.03,
          3.35,
          3.35,
          3.03,
          3.03,
          3.03,
          3.03,
          3.03,
          3.08,
          3.08,
          3.5,
          3.5,
          3.5,
          3.5,
          3.5,
          3.5,
          3.54,
          3.35,
          3.54,
          3.54,
          3.54,
          3.35,
          3.35,
          3.35,
          3.35,
          3.4,
          3.4,
          3.4,
          3.4,
          3.4,
          3.4,
          3.4,
          3.4,
          3.4,
          3.4,
          3.4,
          3.4,
          3.15,
          3.15,
          3.15,
          3.15,
          3.15,
          3.15,
          3.15,
          3.15,
          2.87,
          3.4,
          3.15
         ]
        },
        {
         "histfunc": "count",
         "histnorm": "",
         "marker": {
          "color": "rgba(128, 177, 211, 1.0)",
          "line": {
           "color": "#4D5663",
           "width": 1.3
          }
         },
         "name": "compressionratio",
         "opacity": 0.8,
         "orientation": "v",
         "type": "histogram",
         "x": [
          9,
          9,
          9,
          10,
          8,
          8.5,
          8.5,
          8.5,
          8.3,
          7,
          8.8,
          8.8,
          9,
          9,
          9,
          8,
          8,
          8,
          9.5,
          9.6,
          9.6,
          9.41,
          9.4,
          7.6,
          9.4,
          9.4,
          9.4,
          7.6,
          8.5,
          7,
          9.6,
          9.2,
          10.1,
          9.2,
          9.2,
          9.2,
          9.2,
          9,
          9,
          9,
          9,
          9,
          9.1,
          8.5,
          9.6,
          9.6,
          9.2,
          8.1,
          8.1,
          11.5,
          9,
          9,
          9,
          9,
          9,
          9.4,
          9.4,
          9.4,
          9.4,
          8.6,
          8.6,
          8.6,
          8.6,
          22.7,
          8.6,
          8,
          22,
          21.5,
          21.5,
          21.5,
          21.5,
          8.3,
          8.3,
          8,
          8,
          8,
          9.4,
          9.4,
          9.4,
          7.6,
          7.5,
          8.5,
          7,
          7,
          7,
          8.5,
          8.5,
          7.5,
          7.5,
          9.4,
          21.9,
          9.4,
          9.4,
          9.4,
          9.4,
          9.4,
          9.4,
          9.4,
          9.4,
          8.5,
          8.5,
          9,
          9,
          9,
          9,
          7.8,
          9,
          8.4,
          21,
          8.4,
          21,
          8.4,
          21,
          8.4,
          21,
          8.4,
          21,
          7,
          9.4,
          7.6,
          9.4,
          9.4,
          9.4,
          8.5,
          7,
          9.5,
          9.5,
          9.5,
          9.5,
          10,
          8.7,
          8.7,
          9.31,
          9.3,
          9.3,
          9.3,
          9,
          9,
          9,
          8.7,
          8.7,
          9.5,
          9.5,
          9,
          9,
          7.7,
          9,
          9,
          9,
          7.7,
          9,
          9,
          9,
          9,
          9,
          9,
          9,
          9,
          22.5,
          22.5,
          9,
          9,
          9,
          9,
          9,
          9.4,
          9.4,
          9.3,
          9.3,
          9.3,
          9.3,
          9.3,
          9.3,
          8.7,
          22.5,
          8.7,
          8.7,
          8.7,
          9.3,
          9.3,
          9.2,
          9.2,
          23,
          9,
          23,
          9,
          9,
          23,
          10,
          8.5,
          8.5,
          8.5,
          23,
          9,
          9.5,
          9.5,
          9.5,
          9.5,
          7.5,
          7.5,
          9.5,
          8.7,
          8.8,
          23,
          9.5
         ]
        },
        {
         "histfunc": "count",
         "histnorm": "",
         "marker": {
          "color": "rgba(128, 177, 211, 0.8999999999999999)",
          "line": {
           "color": "#4D5663",
           "width": 1.3
          }
         },
         "name": "horsepower",
         "opacity": 0.8,
         "orientation": "v",
         "type": "histogram",
         "x": [
          111,
          111,
          154,
          102,
          115,
          110,
          110,
          110,
          140,
          160,
          101,
          101,
          121,
          121,
          121,
          182,
          182,
          182,
          48,
          70,
          70,
          68,
          68,
          102,
          68,
          68,
          68,
          102,
          88,
          145,
          58,
          76,
          60,
          76,
          76,
          76,
          76,
          86,
          86,
          86,
          86,
          101,
          100,
          78,
          70,
          70,
          90,
          176,
          176,
          262,
          68,
          68,
          68,
          68,
          68,
          101,
          101,
          101,
          135,
          84,
          84,
          84,
          84,
          64,
          84,
          120,
          72,
          123,
          123,
          123,
          123,
          155,
          155,
          184,
          184,
          175,
          68,
          68,
          68,
          102,
          116,
          88,
          145,
          145,
          145,
          88,
          88,
          116,
          116,
          69,
          55,
          69,
          69,
          69,
          69,
          69,
          69,
          69,
          69,
          97,
          97,
          152,
          152,
          152,
          160,
          200,
          160,
          97,
          95,
          97,
          95,
          95,
          95,
          95,
          95,
          97,
          95,
          142,
          68,
          102,
          68,
          68,
          68,
          88,
          145,
          143,
          207,
          207,
          207,
          288,
          90,
          90,
          110,
          110,
          110,
          110,
          160,
          160,
          69,
          73,
          73,
          82,
          82,
          94,
          82,
          111,
          82,
          94,
          82,
          111,
          62,
          62,
          62,
          62,
          62,
          62,
          70,
          70,
          56,
          56,
          70,
          70,
          70,
          70,
          70,
          112,
          112,
          116,
          116,
          116,
          116,
          116,
          116,
          92,
          73,
          92,
          92,
          92,
          161,
          161,
          156,
          156,
          52,
          85,
          52,
          85,
          85,
          68,
          100,
          90,
          90,
          110,
          68,
          88,
          114,
          114,
          114,
          114,
          162,
          162,
          114,
          160,
          134,
          106,
          114
         ]
        },
        {
         "histfunc": "count",
         "histnorm": "",
         "marker": {
          "color": "rgba(255, 153, 51, 0.8999999999999999)",
          "line": {
           "color": "#4D5663",
           "width": 1.3
          }
         },
         "name": "peakrpm",
         "opacity": 0.8,
         "orientation": "v",
         "type": "histogram",
         "x": [
          5000,
          5000,
          5000,
          5500,
          5500,
          5500,
          5500,
          5500,
          5500,
          5500,
          5800,
          5800,
          4250,
          4250,
          4250,
          5400,
          5400,
          5400,
          5100,
          5400,
          5400,
          5500,
          5500,
          5500,
          5500,
          5500,
          5500,
          5500,
          5000,
          5000,
          4800,
          6000,
          5500,
          6000,
          6000,
          6000,
          6000,
          5800,
          5800,
          5800,
          5800,
          5800,
          5500,
          4800,
          5400,
          5400,
          5000,
          4750,
          4750,
          5000,
          5000,
          5000,
          5000,
          5000,
          5000,
          6000,
          6000,
          6000,
          6000,
          4800,
          4800,
          4800,
          4800,
          4650,
          4800,
          5000,
          4200,
          4350,
          4350,
          4350,
          4350,
          4750,
          4750,
          4500,
          4500,
          5000,
          5500,
          5500,
          5500,
          5500,
          5500,
          5000,
          5000,
          5000,
          5000,
          5000,
          5000,
          5500,
          5500,
          5200,
          4800,
          5200,
          5200,
          5200,
          5200,
          5200,
          5200,
          5200,
          5200,
          5200,
          5200,
          5200,
          5200,
          5200,
          5200,
          5200,
          5200,
          5000,
          4150,
          5000,
          4150,
          5000,
          4150,
          5000,
          4150,
          5000,
          4150,
          5600,
          5500,
          5500,
          5500,
          5500,
          5500,
          5000,
          5000,
          5500,
          5900,
          5900,
          5900,
          5750,
          5100,
          5100,
          5250,
          5250,
          5250,
          5250,
          5500,
          5500,
          4900,
          4400,
          4400,
          4800,
          4400,
          5200,
          4800,
          4800,
          4800,
          5200,
          4800,
          4800,
          4800,
          4800,
          4800,
          4800,
          4800,
          4800,
          4800,
          4800,
          4500,
          4500,
          4800,
          4800,
          4800,
          4800,
          4800,
          6600,
          6600,
          4800,
          4800,
          4800,
          4800,
          4800,
          4800,
          4200,
          4500,
          4200,
          4200,
          4200,
          5200,
          5200,
          5200,
          5200,
          4800,
          5250,
          4800,
          5250,
          5250,
          4500,
          5500,
          5500,
          5500,
          5500,
          4500,
          5500,
          5400,
          5400,
          5400,
          5400,
          5100,
          5100,
          5400,
          5300,
          5500,
          4800,
          5400
         ]
        },
        {
         "histfunc": "count",
         "histnorm": "",
         "marker": {
          "color": "rgba(55, 128, 191, 0.8999999999999999)",
          "line": {
           "color": "#4D5663",
           "width": 1.3
          }
         },
         "name": "citympg",
         "opacity": 0.8,
         "orientation": "v",
         "type": "histogram",
         "x": [
          21,
          21,
          19,
          24,
          18,
          19,
          19,
          19,
          17,
          16,
          23,
          23,
          21,
          21,
          20,
          16,
          16,
          15,
          47,
          38,
          38,
          37,
          31,
          24,
          31,
          31,
          31,
          24,
          24,
          19,
          49,
          31,
          38,
          30,
          30,
          30,
          30,
          27,
          27,
          27,
          27,
          24,
          25,
          24,
          38,
          38,
          24,
          15,
          15,
          13,
          30,
          31,
          31,
          31,
          31,
          17,
          17,
          17,
          16,
          26,
          26,
          26,
          26,
          36,
          26,
          19,
          31,
          22,
          22,
          22,
          22,
          16,
          16,
          14,
          14,
          19,
          37,
          31,
          31,
          24,
          23,
          25,
          19,
          19,
          19,
          25,
          25,
          23,
          23,
          31,
          45,
          31,
          31,
          31,
          31,
          31,
          31,
          31,
          31,
          27,
          27,
          17,
          17,
          19,
          19,
          17,
          19,
          19,
          28,
          19,
          25,
          19,
          28,
          19,
          25,
          19,
          28,
          18,
          37,
          24,
          31,
          31,
          31,
          24,
          19,
          19,
          17,
          17,
          17,
          17,
          23,
          23,
          21,
          21,
          21,
          21,
          19,
          19,
          31,
          26,
          26,
          32,
          28,
          26,
          24,
          24,
          28,
          25,
          23,
          23,
          35,
          31,
          31,
          31,
          27,
          27,
          30,
          30,
          34,
          38,
          38,
          28,
          28,
          29,
          29,
          26,
          26,
          24,
          24,
          24,
          24,
          24,
          24,
          29,
          30,
          27,
          27,
          27,
          20,
          19,
          20,
          19,
          37,
          27,
          37,
          27,
          27,
          37,
          26,
          24,
          24,
          19,
          33,
          25,
          23,
          23,
          24,
          24,
          17,
          17,
          23,
          19,
          18,
          26,
          19
         ]
        },
        {
         "histfunc": "count",
         "histnorm": "",
         "marker": {
          "color": "rgba(50, 171, 96, 0.8999999999999999)",
          "line": {
           "color": "#4D5663",
           "width": 1.3
          }
         },
         "name": "highwaympg",
         "opacity": 0.8,
         "orientation": "v",
         "type": "histogram",
         "x": [
          27,
          27,
          26,
          30,
          22,
          25,
          25,
          25,
          20,
          22,
          29,
          29,
          28,
          28,
          25,
          22,
          22,
          20,
          53,
          43,
          43,
          41,
          38,
          30,
          38,
          38,
          38,
          30,
          30,
          24,
          54,
          38,
          42,
          34,
          34,
          34,
          34,
          33,
          33,
          33,
          33,
          28,
          31,
          29,
          43,
          43,
          29,
          19,
          19,
          17,
          31,
          38,
          38,
          38,
          38,
          23,
          23,
          23,
          23,
          32,
          32,
          32,
          32,
          42,
          32,
          27,
          39,
          25,
          25,
          25,
          25,
          18,
          18,
          16,
          16,
          24,
          41,
          38,
          38,
          30,
          30,
          32,
          24,
          24,
          24,
          32,
          32,
          30,
          30,
          37,
          50,
          37,
          37,
          37,
          37,
          37,
          37,
          37,
          37,
          34,
          34,
          22,
          22,
          25,
          25,
          23,
          25,
          24,
          33,
          24,
          25,
          24,
          33,
          24,
          25,
          24,
          33,
          24,
          41,
          30,
          38,
          38,
          38,
          30,
          24,
          27,
          25,
          25,
          25,
          28,
          31,
          31,
          28,
          28,
          28,
          28,
          26,
          26,
          36,
          31,
          31,
          37,
          33,
          32,
          25,
          29,
          32,
          31,
          29,
          23,
          39,
          38,
          38,
          37,
          32,
          32,
          37,
          37,
          36,
          47,
          47,
          34,
          34,
          34,
          34,
          29,
          29,
          30,
          30,
          30,
          30,
          30,
          30,
          34,
          33,
          32,
          32,
          32,
          24,
          24,
          24,
          24,
          46,
          34,
          46,
          34,
          34,
          42,
          32,
          29,
          29,
          24,
          38,
          31,
          28,
          28,
          28,
          28,
          22,
          22,
          28,
          25,
          23,
          27,
          25
         ]
        }
       ],
       "layout": {
        "barmode": "overlay",
        "legend": {
         "bgcolor": "#F5F6F9",
         "font": {
          "color": "#4D5663"
         }
        },
        "paper_bgcolor": "#F5F6F9",
        "plot_bgcolor": "#F5F6F9",
        "template": {
         "data": {
          "bar": [
           {
            "error_x": {
             "color": "#2a3f5f"
            },
            "error_y": {
             "color": "#2a3f5f"
            },
            "marker": {
             "line": {
              "color": "#E5ECF6",
              "width": 0.5
             },
             "pattern": {
              "fillmode": "overlay",
              "size": 10,
              "solidity": 0.2
             }
            },
            "type": "bar"
           }
          ],
          "barpolar": [
           {
            "marker": {
             "line": {
              "color": "#E5ECF6",
              "width": 0.5
             },
             "pattern": {
              "fillmode": "overlay",
              "size": 10,
              "solidity": 0.2
             }
            },
            "type": "barpolar"
           }
          ],
          "carpet": [
           {
            "aaxis": {
             "endlinecolor": "#2a3f5f",
             "gridcolor": "white",
             "linecolor": "white",
             "minorgridcolor": "white",
             "startlinecolor": "#2a3f5f"
            },
            "baxis": {
             "endlinecolor": "#2a3f5f",
             "gridcolor": "white",
             "linecolor": "white",
             "minorgridcolor": "white",
             "startlinecolor": "#2a3f5f"
            },
            "type": "carpet"
           }
          ],
          "choropleth": [
           {
            "colorbar": {
             "outlinewidth": 0,
             "ticks": ""
            },
            "type": "choropleth"
           }
          ],
          "contour": [
           {
            "colorbar": {
             "outlinewidth": 0,
             "ticks": ""
            },
            "colorscale": [
             [
              0,
              "#0d0887"
             ],
             [
              0.1111111111111111,
              "#46039f"
             ],
             [
              0.2222222222222222,
              "#7201a8"
             ],
             [
              0.3333333333333333,
              "#9c179e"
             ],
             [
              0.4444444444444444,
              "#bd3786"
             ],
             [
              0.5555555555555556,
              "#d8576b"
             ],
             [
              0.6666666666666666,
              "#ed7953"
             ],
             [
              0.7777777777777778,
              "#fb9f3a"
             ],
             [
              0.8888888888888888,
              "#fdca26"
             ],
             [
              1,
              "#f0f921"
             ]
            ],
            "type": "contour"
           }
          ],
          "contourcarpet": [
           {
            "colorbar": {
             "outlinewidth": 0,
             "ticks": ""
            },
            "type": "contourcarpet"
           }
          ],
          "heatmap": [
           {
            "colorbar": {
             "outlinewidth": 0,
             "ticks": ""
            },
            "colorscale": [
             [
              0,
              "#0d0887"
             ],
             [
              0.1111111111111111,
              "#46039f"
             ],
             [
              0.2222222222222222,
              "#7201a8"
             ],
             [
              0.3333333333333333,
              "#9c179e"
             ],
             [
              0.4444444444444444,
              "#bd3786"
             ],
             [
              0.5555555555555556,
              "#d8576b"
             ],
             [
              0.6666666666666666,
              "#ed7953"
             ],
             [
              0.7777777777777778,
              "#fb9f3a"
             ],
             [
              0.8888888888888888,
              "#fdca26"
             ],
             [
              1,
              "#f0f921"
             ]
            ],
            "type": "heatmap"
           }
          ],
          "heatmapgl": [
           {
            "colorbar": {
             "outlinewidth": 0,
             "ticks": ""
            },
            "colorscale": [
             [
              0,
              "#0d0887"
             ],
             [
              0.1111111111111111,
              "#46039f"
             ],
             [
              0.2222222222222222,
              "#7201a8"
             ],
             [
              0.3333333333333333,
              "#9c179e"
             ],
             [
              0.4444444444444444,
              "#bd3786"
             ],
             [
              0.5555555555555556,
              "#d8576b"
             ],
             [
              0.6666666666666666,
              "#ed7953"
             ],
             [
              0.7777777777777778,
              "#fb9f3a"
             ],
             [
              0.8888888888888888,
              "#fdca26"
             ],
             [
              1,
              "#f0f921"
             ]
            ],
            "type": "heatmapgl"
           }
          ],
          "histogram": [
           {
            "marker": {
             "pattern": {
              "fillmode": "overlay",
              "size": 10,
              "solidity": 0.2
             }
            },
            "type": "histogram"
           }
          ],
          "histogram2d": [
           {
            "colorbar": {
             "outlinewidth": 0,
             "ticks": ""
            },
            "colorscale": [
             [
              0,
              "#0d0887"
             ],
             [
              0.1111111111111111,
              "#46039f"
             ],
             [
              0.2222222222222222,
              "#7201a8"
             ],
             [
              0.3333333333333333,
              "#9c179e"
             ],
             [
              0.4444444444444444,
              "#bd3786"
             ],
             [
              0.5555555555555556,
              "#d8576b"
             ],
             [
              0.6666666666666666,
              "#ed7953"
             ],
             [
              0.7777777777777778,
              "#fb9f3a"
             ],
             [
              0.8888888888888888,
              "#fdca26"
             ],
             [
              1,
              "#f0f921"
             ]
            ],
            "type": "histogram2d"
           }
          ],
          "histogram2dcontour": [
           {
            "colorbar": {
             "outlinewidth": 0,
             "ticks": ""
            },
            "colorscale": [
             [
              0,
              "#0d0887"
             ],
             [
              0.1111111111111111,
              "#46039f"
             ],
             [
              0.2222222222222222,
              "#7201a8"
             ],
             [
              0.3333333333333333,
              "#9c179e"
             ],
             [
              0.4444444444444444,
              "#bd3786"
             ],
             [
              0.5555555555555556,
              "#d8576b"
             ],
             [
              0.6666666666666666,
              "#ed7953"
             ],
             [
              0.7777777777777778,
              "#fb9f3a"
             ],
             [
              0.8888888888888888,
              "#fdca26"
             ],
             [
              1,
              "#f0f921"
             ]
            ],
            "type": "histogram2dcontour"
           }
          ],
          "mesh3d": [
           {
            "colorbar": {
             "outlinewidth": 0,
             "ticks": ""
            },
            "type": "mesh3d"
           }
          ],
          "parcoords": [
           {
            "line": {
             "colorbar": {
              "outlinewidth": 0,
              "ticks": ""
             }
            },
            "type": "parcoords"
           }
          ],
          "pie": [
           {
            "automargin": true,
            "type": "pie"
           }
          ],
          "scatter": [
           {
            "marker": {
             "colorbar": {
              "outlinewidth": 0,
              "ticks": ""
             }
            },
            "type": "scatter"
           }
          ],
          "scatter3d": [
           {
            "line": {
             "colorbar": {
              "outlinewidth": 0,
              "ticks": ""
             }
            },
            "marker": {
             "colorbar": {
              "outlinewidth": 0,
              "ticks": ""
             }
            },
            "type": "scatter3d"
           }
          ],
          "scattercarpet": [
           {
            "marker": {
             "colorbar": {
              "outlinewidth": 0,
              "ticks": ""
             }
            },
            "type": "scattercarpet"
           }
          ],
          "scattergeo": [
           {
            "marker": {
             "colorbar": {
              "outlinewidth": 0,
              "ticks": ""
             }
            },
            "type": "scattergeo"
           }
          ],
          "scattergl": [
           {
            "marker": {
             "colorbar": {
              "outlinewidth": 0,
              "ticks": ""
             }
            },
            "type": "scattergl"
           }
          ],
          "scattermapbox": [
           {
            "marker": {
             "colorbar": {
              "outlinewidth": 0,
              "ticks": ""
             }
            },
            "type": "scattermapbox"
           }
          ],
          "scatterpolar": [
           {
            "marker": {
             "colorbar": {
              "outlinewidth": 0,
              "ticks": ""
             }
            },
            "type": "scatterpolar"
           }
          ],
          "scatterpolargl": [
           {
            "marker": {
             "colorbar": {
              "outlinewidth": 0,
              "ticks": ""
             }
            },
            "type": "scatterpolargl"
           }
          ],
          "scatterternary": [
           {
            "marker": {
             "colorbar": {
              "outlinewidth": 0,
              "ticks": ""
             }
            },
            "type": "scatterternary"
           }
          ],
          "surface": [
           {
            "colorbar": {
             "outlinewidth": 0,
             "ticks": ""
            },
            "colorscale": [
             [
              0,
              "#0d0887"
             ],
             [
              0.1111111111111111,
              "#46039f"
             ],
             [
              0.2222222222222222,
              "#7201a8"
             ],
             [
              0.3333333333333333,
              "#9c179e"
             ],
             [
              0.4444444444444444,
              "#bd3786"
             ],
             [
              0.5555555555555556,
              "#d8576b"
             ],
             [
              0.6666666666666666,
              "#ed7953"
             ],
             [
              0.7777777777777778,
              "#fb9f3a"
             ],
             [
              0.8888888888888888,
              "#fdca26"
             ],
             [
              1,
              "#f0f921"
             ]
            ],
            "type": "surface"
           }
          ],
          "table": [
           {
            "cells": {
             "fill": {
              "color": "#EBF0F8"
             },
             "line": {
              "color": "white"
             }
            },
            "header": {
             "fill": {
              "color": "#C8D4E3"
             },
             "line": {
              "color": "white"
             }
            },
            "type": "table"
           }
          ]
         },
         "layout": {
          "annotationdefaults": {
           "arrowcolor": "#2a3f5f",
           "arrowhead": 0,
           "arrowwidth": 1
          },
          "autotypenumbers": "strict",
          "coloraxis": {
           "colorbar": {
            "outlinewidth": 0,
            "ticks": ""
           }
          },
          "colorscale": {
           "diverging": [
            [
             0,
             "#8e0152"
            ],
            [
             0.1,
             "#c51b7d"
            ],
            [
             0.2,
             "#de77ae"
            ],
            [
             0.3,
             "#f1b6da"
            ],
            [
             0.4,
             "#fde0ef"
            ],
            [
             0.5,
             "#f7f7f7"
            ],
            [
             0.6,
             "#e6f5d0"
            ],
            [
             0.7,
             "#b8e186"
            ],
            [
             0.8,
             "#7fbc41"
            ],
            [
             0.9,
             "#4d9221"
            ],
            [
             1,
             "#276419"
            ]
           ],
           "sequential": [
            [
             0,
             "#0d0887"
            ],
            [
             0.1111111111111111,
             "#46039f"
            ],
            [
             0.2222222222222222,
             "#7201a8"
            ],
            [
             0.3333333333333333,
             "#9c179e"
            ],
            [
             0.4444444444444444,
             "#bd3786"
            ],
            [
             0.5555555555555556,
             "#d8576b"
            ],
            [
             0.6666666666666666,
             "#ed7953"
            ],
            [
             0.7777777777777778,
             "#fb9f3a"
            ],
            [
             0.8888888888888888,
             "#fdca26"
            ],
            [
             1,
             "#f0f921"
            ]
           ],
           "sequentialminus": [
            [
             0,
             "#0d0887"
            ],
            [
             0.1111111111111111,
             "#46039f"
            ],
            [
             0.2222222222222222,
             "#7201a8"
            ],
            [
             0.3333333333333333,
             "#9c179e"
            ],
            [
             0.4444444444444444,
             "#bd3786"
            ],
            [
             0.5555555555555556,
             "#d8576b"
            ],
            [
             0.6666666666666666,
             "#ed7953"
            ],
            [
             0.7777777777777778,
             "#fb9f3a"
            ],
            [
             0.8888888888888888,
             "#fdca26"
            ],
            [
             1,
             "#f0f921"
            ]
           ]
          },
          "colorway": [
           "#636efa",
           "#EF553B",
           "#00cc96",
           "#ab63fa",
           "#FFA15A",
           "#19d3f3",
           "#FF6692",
           "#B6E880",
           "#FF97FF",
           "#FECB52"
          ],
          "font": {
           "color": "#2a3f5f"
          },
          "geo": {
           "bgcolor": "white",
           "lakecolor": "white",
           "landcolor": "#E5ECF6",
           "showlakes": true,
           "showland": true,
           "subunitcolor": "white"
          },
          "hoverlabel": {
           "align": "left"
          },
          "hovermode": "closest",
          "mapbox": {
           "style": "light"
          },
          "paper_bgcolor": "white",
          "plot_bgcolor": "#E5ECF6",
          "polar": {
           "angularaxis": {
            "gridcolor": "white",
            "linecolor": "white",
            "ticks": ""
           },
           "bgcolor": "#E5ECF6",
           "radialaxis": {
            "gridcolor": "white",
            "linecolor": "white",
            "ticks": ""
           }
          },
          "scene": {
           "xaxis": {
            "backgroundcolor": "#E5ECF6",
            "gridcolor": "white",
            "gridwidth": 2,
            "linecolor": "white",
            "showbackground": true,
            "ticks": "",
            "zerolinecolor": "white"
           },
           "yaxis": {
            "backgroundcolor": "#E5ECF6",
            "gridcolor": "white",
            "gridwidth": 2,
            "linecolor": "white",
            "showbackground": true,
            "ticks": "",
            "zerolinecolor": "white"
           },
           "zaxis": {
            "backgroundcolor": "#E5ECF6",
            "gridcolor": "white",
            "gridwidth": 2,
            "linecolor": "white",
            "showbackground": true,
            "ticks": "",
            "zerolinecolor": "white"
           }
          },
          "shapedefaults": {
           "line": {
            "color": "#2a3f5f"
           }
          },
          "ternary": {
           "aaxis": {
            "gridcolor": "white",
            "linecolor": "white",
            "ticks": ""
           },
           "baxis": {
            "gridcolor": "white",
            "linecolor": "white",
            "ticks": ""
           },
           "bgcolor": "#E5ECF6",
           "caxis": {
            "gridcolor": "white",
            "linecolor": "white",
            "ticks": ""
           }
          },
          "title": {
           "x": 0.05
          },
          "xaxis": {
           "automargin": true,
           "gridcolor": "white",
           "linecolor": "white",
           "ticks": "",
           "title": {
            "standoff": 15
           },
           "zerolinecolor": "white",
           "zerolinewidth": 2
          },
          "yaxis": {
           "automargin": true,
           "gridcolor": "white",
           "linecolor": "white",
           "ticks": "",
           "title": {
            "standoff": 15
           },
           "zerolinecolor": "white",
           "zerolinewidth": 2
          }
         }
        },
        "title": {
         "font": {
          "color": "#4D5663"
         }
        },
        "xaxis": {
         "gridcolor": "#E1E5ED",
         "showgrid": true,
         "tickfont": {
          "color": "#4D5663"
         },
         "title": {
          "font": {
           "color": "#4D5663"
          },
          "text": ""
         },
         "zerolinecolor": "#E1E5ED"
        },
        "yaxis": {
         "gridcolor": "#E1E5ED",
         "showgrid": true,
         "tickfont": {
          "color": "#4D5663"
         },
         "title": {
          "font": {
           "color": "#4D5663"
          },
          "text": ""
         },
         "zerolinecolor": "#E1E5ED"
        }
       }
      },
      "text/html": [
       "<div>                            <div id=\"88ffe30b-4480-4e87-9b8b-5042867405f3\" class=\"plotly-graph-div\" style=\"height:525px; width:100%;\"></div>            <script type=\"text/javascript\">                require([\"plotly\"], function(Plotly) {                    window.PLOTLYENV=window.PLOTLYENV || {};\n",
       "                    window.PLOTLYENV.BASE_URL='https://plot.ly';                                    if (document.getElementById(\"88ffe30b-4480-4e87-9b8b-5042867405f3\")) {                    Plotly.newPlot(                        \"88ffe30b-4480-4e87-9b8b-5042867405f3\",                        [{\"histfunc\":\"count\",\"histnorm\":\"\",\"marker\":{\"color\":\"rgba(255, 153, 51, 1.0)\",\"line\":{\"color\":\"#4D5663\",\"width\":1.3}},\"name\":\"symboling\",\"opacity\":0.8,\"orientation\":\"v\",\"x\":[3,3,1,2,2,2,1,1,1,0,2,0,0,0,1,0,0,0,2,1,0,1,1,1,1,1,1,1,-1,3,2,2,1,1,1,0,0,0,0,0,0,0,1,0,1,0,2,0,0,0,1,1,1,1,1,3,3,3,3,1,0,1,0,0,0,0,0,-1,-1,0,-1,-1,3,0,1,1,2,2,2,1,3,3,3,3,3,1,1,1,-1,1,1,1,1,1,1,1,1,1,2,0,0,0,0,0,3,3,1,0,0,0,0,0,0,0,0,0,0,0,1,1,1,1,1,-1,3,3,3,3,3,1,0,2,3,2,3,2,3,2,2,2,2,0,0,0,0,0,0,0,0,0,1,1,1,0,0,0,0,0,0,0,0,0,0,1,1,1,1,2,2,2,2,2,2,-1,-1,-1,-1,-1,3,3,-1,-1,2,2,2,2,2,2,2,3,3,0,0,0,-2,-1,-2,-1,-2,-1,-1,-1,-1,-1,-1],\"type\":\"histogram\"},{\"histfunc\":\"count\",\"histnorm\":\"\",\"marker\":{\"color\":\"rgba(55, 128, 191, 1.0)\",\"line\":{\"color\":\"#4D5663\",\"width\":1.3}},\"name\":\"wheelbase\",\"opacity\":0.8,\"orientation\":\"v\",\"x\":[88.6,88.6,94.5,99.8,99.4,99.8,105.8,105.8,105.8,99.5,101.2,101.2,101.2,101.2,103.5,103.5,103.5,110.0,88.4,94.5,94.5,93.7,93.7,93.7,93.7,93.7,93.7,93.7,103.3,95.9,86.6,86.6,93.7,93.7,93.7,96.5,96.5,96.5,96.5,96.5,96.5,96.5,96.5,94.3,94.5,94.5,96.0,113.0,113.0,102.0,93.1,93.1,93.1,93.1,93.1,95.3,95.3,95.3,95.3,98.8,98.8,98.8,98.8,98.8,98.8,104.9,104.9,110.0,110.0,106.7,115.6,115.6,96.6,120.9,112.0,102.7,93.7,93.7,93.7,93.0,96.3,96.3,95.9,95.9,95.9,96.3,96.3,96.3,96.3,94.5,94.5,94.5,94.5,94.5,94.5,94.5,94.5,94.5,95.1,97.2,97.2,100.4,100.4,100.4,91.3,91.3,99.2,107.9,107.9,114.2,114.2,107.9,107.9,114.2,114.2,107.9,107.9,108.0,93.7,93.7,93.7,93.7,93.7,103.3,95.9,94.5,89.5,89.5,89.5,98.4,96.1,96.1,99.1,99.1,99.1,99.1,99.1,99.1,93.7,93.7,93.3,97.2,97.2,97.2,97.0,97.0,97.0,97.0,96.9,96.9,95.7,95.7,95.7,95.7,95.7,95.7,95.7,95.7,95.7,95.7,95.7,95.7,95.7,94.5,94.5,94.5,94.5,98.4,98.4,98.4,98.4,98.4,98.4,102.4,102.4,102.4,102.4,102.4,102.9,102.9,104.5,104.5,97.3,97.3,97.3,97.3,97.3,97.3,97.3,94.5,94.5,100.4,100.4,100.4,104.3,104.3,104.3,104.3,104.3,104.3,109.1,109.1,109.1,109.1,109.1],\"type\":\"histogram\"},{\"histfunc\":\"count\",\"histnorm\":\"\",\"marker\":{\"color\":\"rgba(50, 171, 96, 1.0)\",\"line\":{\"color\":\"#4D5663\",\"width\":1.3}},\"name\":\"carlength\",\"opacity\":0.8,\"orientation\":\"v\",\"x\":[168.8,168.8,171.2,176.6,176.6,177.3,192.7,192.7,192.7,178.2,176.8,176.8,176.8,176.8,189.0,189.0,193.8,197.0,141.1,155.9,158.8,157.3,157.3,157.3,157.3,157.3,157.3,157.3,174.6,173.2,144.6,144.6,150.0,150.0,150.0,163.4,157.1,167.5,167.5,175.4,175.4,175.4,169.1,170.7,155.9,155.9,172.6,199.6,199.6,191.7,159.1,159.1,159.1,166.8,166.8,169.0,169.0,169.0,169.0,177.8,177.8,177.8,177.8,177.8,177.8,175.0,175.0,190.9,190.9,187.5,202.6,202.6,180.3,208.1,199.2,178.4,157.3,157.3,157.3,157.3,173.0,173.0,173.2,173.2,173.2,172.4,172.4,172.4,172.4,165.3,165.3,165.3,165.3,170.2,165.3,165.6,165.3,170.2,162.4,173.4,173.4,181.7,184.6,184.6,170.7,170.7,178.5,186.7,186.7,198.9,198.9,186.7,186.7,198.9,198.9,186.7,186.7,186.7,157.3,157.3,157.3,167.3,167.3,174.6,173.2,168.9,168.9,168.9,168.9,175.7,181.5,176.8,186.6,186.6,186.6,186.6,186.6,186.6,156.9,157.9,157.3,172.0,172.0,172.0,172.0,172.0,173.5,173.5,173.6,173.6,158.7,158.7,158.7,169.7,169.7,169.7,166.3,166.3,166.3,166.3,166.3,166.3,166.3,168.7,168.7,168.7,168.7,176.2,176.2,176.2,176.2,176.2,176.2,175.6,175.6,175.6,175.6,175.6,183.5,183.5,187.8,187.8,171.7,171.7,171.7,171.7,171.7,171.7,171.7,159.3,165.7,180.2,180.2,183.1,188.8,188.8,188.8,188.8,188.8,188.8,188.8,188.8,188.8,188.8,188.8],\"type\":\"histogram\"},{\"histfunc\":\"count\",\"histnorm\":\"\",\"marker\":{\"color\":\"rgba(128, 0, 128, 1.0)\",\"line\":{\"color\":\"#4D5663\",\"width\":1.3}},\"name\":\"carwidth\",\"opacity\":0.8,\"orientation\":\"v\",\"x\":[64.1,64.1,65.5,66.2,66.4,66.3,71.4,71.4,71.4,67.9,64.8,64.8,64.8,64.8,66.9,66.9,67.9,70.9,60.3,63.6,63.6,63.8,63.8,63.8,63.8,63.8,63.8,63.8,64.6,66.3,63.9,63.9,64.0,64.0,64.0,64.0,63.9,65.2,65.2,65.2,62.5,65.2,66.0,61.8,63.6,63.6,65.2,69.6,69.6,70.6,64.2,64.2,64.2,64.2,64.2,65.7,65.7,65.7,65.7,66.5,66.5,66.5,66.5,66.5,66.5,66.1,66.1,70.3,70.3,70.3,71.7,71.7,70.5,71.7,72.0,68.0,64.4,64.4,64.4,63.8,65.4,65.4,66.3,66.3,66.3,65.4,65.4,65.4,65.4,63.8,63.8,63.8,63.8,63.8,63.8,63.8,63.8,63.8,63.8,65.2,65.2,66.5,66.5,66.5,67.9,67.9,67.9,68.4,68.4,68.4,68.4,68.4,68.4,68.4,68.4,68.4,68.4,68.3,63.8,63.8,63.8,63.8,63.8,64.6,66.3,68.3,65.0,65.0,65.0,72.3,66.5,66.6,66.5,66.5,66.5,66.5,66.5,66.5,63.4,63.6,63.8,65.4,65.4,65.4,65.4,65.4,65.4,65.4,65.4,65.4,63.6,63.6,63.6,63.6,63.6,63.6,64.4,64.4,64.4,64.4,64.4,64.4,64.4,64.0,64.0,64.0,64.0,65.6,65.6,65.6,65.6,65.6,65.6,66.5,66.5,66.5,66.5,66.5,67.7,67.7,66.5,66.5,65.5,65.5,65.5,65.5,65.5,65.5,65.5,64.2,64.0,66.9,66.9,66.9,67.2,67.2,67.2,67.2,67.2,67.2,68.9,68.8,68.9,68.9,68.9],\"type\":\"histogram\"},{\"histfunc\":\"count\",\"histnorm\":\"\",\"marker\":{\"color\":\"rgba(219, 64, 82, 1.0)\",\"line\":{\"color\":\"#4D5663\",\"width\":1.3}},\"name\":\"carheight\",\"opacity\":0.8,\"orientation\":\"v\",\"x\":[48.8,48.8,52.4,54.3,54.3,53.1,55.7,55.7,55.9,52.0,54.3,54.3,54.3,54.3,55.7,55.7,53.7,56.3,53.2,52.0,52.0,50.8,50.8,50.8,50.6,50.6,50.6,50.6,59.8,50.2,50.8,50.8,52.6,52.6,52.6,54.5,58.3,53.3,53.3,54.1,54.1,54.1,51.0,53.5,52.0,52.0,51.4,52.8,52.8,47.8,54.1,54.1,54.1,54.1,54.1,49.6,49.6,49.6,49.6,53.7,55.5,53.7,55.5,55.5,55.5,54.4,54.4,56.5,58.7,54.9,56.3,56.5,50.8,56.7,55.4,54.8,50.8,50.8,50.8,50.8,49.4,49.4,50.2,50.2,50.2,51.6,51.6,51.6,51.6,54.5,54.5,54.5,54.5,53.5,54.5,53.3,54.5,53.5,53.3,54.7,54.7,55.1,56.1,55.1,49.7,49.7,49.7,56.7,56.7,58.7,58.7,56.7,56.7,56.7,58.7,56.7,56.7,56.0,50.8,50.8,50.6,50.8,50.8,59.8,50.2,50.2,51.6,51.6,51.6,50.5,55.2,50.5,56.1,56.1,56.1,56.1,56.1,56.1,53.7,53.7,55.7,52.5,52.5,52.5,54.3,54.3,53.0,53.0,54.9,54.9,54.5,54.5,54.5,59.1,59.1,59.1,53.0,52.8,53.0,52.8,53.0,52.8,52.8,52.6,52.6,52.6,52.6,52.0,52.0,52.0,52.0,52.0,53.0,54.9,54.9,53.9,54.9,53.9,52.0,52.0,54.1,54.1,55.7,55.7,55.7,55.7,55.7,55.7,55.7,55.6,51.4,55.1,55.1,55.1,56.2,57.5,56.2,57.5,56.2,57.5,55.5,55.5,55.5,55.5,55.5],\"type\":\"histogram\"},{\"histfunc\":\"count\",\"histnorm\":\"\",\"marker\":{\"color\":\"rgba(0, 128, 128, 1.0)\",\"line\":{\"color\":\"#4D5663\",\"width\":1.3}},\"name\":\"curbweight\",\"opacity\":0.8,\"orientation\":\"v\",\"x\":[2548,2548,2823,2337,2824,2507,2844,2954,3086,3053,2395,2395,2710,2765,3055,3230,3380,3505,1488,1874,1909,1876,1876,2128,1967,1989,1989,2191,2535,2811,1713,1819,1837,1940,1956,2010,2024,2236,2289,2304,2372,2465,2293,2337,1874,1909,2734,4066,4066,3950,1890,1900,1905,1945,1950,2380,2380,2385,2500,2385,2410,2385,2410,2443,2425,2670,2700,3515,3750,3495,3770,3740,3685,3900,3715,2910,1918,1944,2004,2145,2370,2328,2833,2921,2926,2365,2405,2403,2403,1889,2017,1918,1938,2024,1951,2028,1971,2037,2008,2324,2302,3095,3296,3060,3071,3139,3139,3020,3197,3230,3430,3075,3252,3285,3485,3075,3252,3130,1918,2128,1967,1989,2191,2535,2818,2778,2756,2756,2800,3366,2579,2460,2658,2695,2707,2758,2808,2847,2050,2120,2240,2145,2190,2340,2385,2510,2290,2455,2420,2650,1985,2040,2015,2280,2290,3110,2081,2109,2275,2275,2094,2122,2140,2169,2204,2265,2300,2540,2536,2551,2679,2714,2975,2326,2480,2414,2414,2458,2976,3016,3131,3151,2261,2209,2264,2212,2275,2319,2300,2254,2221,2661,2579,2563,2912,3034,2935,3042,3045,3157,2952,3049,3012,3217,3062],\"type\":\"histogram\"},{\"histfunc\":\"count\",\"histnorm\":\"\",\"marker\":{\"color\":\"rgba(255, 255, 51, 1.0)\",\"line\":{\"color\":\"#4D5663\",\"width\":1.3}},\"name\":\"enginesize\",\"opacity\":0.8,\"orientation\":\"v\",\"x\":[130,130,152,109,136,136,136,136,131,131,108,108,164,164,164,209,209,209,61,90,90,90,90,98,90,90,90,98,122,156,92,92,79,92,92,92,92,110,110,110,110,110,110,111,90,90,119,258,258,326,91,91,91,91,91,70,70,70,80,122,122,122,122,122,122,140,134,183,183,183,183,234,234,308,304,140,92,92,92,98,110,122,156,156,156,122,122,110,110,97,103,97,97,97,97,97,97,97,97,120,120,181,181,181,181,181,181,120,152,120,152,120,152,120,152,120,152,134,90,98,90,90,98,122,156,151,194,194,194,203,132,132,121,121,121,121,121,121,97,108,108,108,108,108,108,108,108,108,108,108,92,92,92,92,92,92,98,98,110,110,98,98,98,98,98,98,98,146,146,146,146,146,146,122,110,122,122,122,171,171,171,161,97,109,97,109,109,97,109,109,109,136,97,109,141,141,141,141,130,130,141,141,173,145,141],\"type\":\"histogram\"},{\"histfunc\":\"count\",\"histnorm\":\"\",\"marker\":{\"color\":\"rgba(128, 128, 0, 1.0)\",\"line\":{\"color\":\"#4D5663\",\"width\":1.3}},\"name\":\"boreratio\",\"opacity\":0.8,\"orientation\":\"v\",\"x\":[3.47,3.47,2.68,3.19,3.19,3.19,3.19,3.19,3.13,3.13,3.5,3.5,3.31,3.31,3.31,3.62,3.62,3.62,2.91,3.03,3.03,2.97,2.97,3.03,2.97,2.97,2.97,3.03,3.34,3.6,2.91,2.91,2.91,2.91,2.91,2.91,2.92,3.15,3.15,3.15,3.15,3.15,3.15,3.31,3.03,3.03,3.43,3.63,3.63,3.54,3.03,3.03,3.03,3.03,3.08,3.33,3.33,3.33,3.33,3.39,3.39,3.39,3.39,3.39,3.39,3.76,3.43,3.58,3.58,3.58,3.58,3.46,3.46,3.8,3.8,3.78,2.97,2.97,2.97,3.03,3.17,3.35,3.58,3.59,3.59,3.35,3.35,3.17,3.17,3.15,2.99,3.15,3.15,3.15,3.15,3.15,3.15,3.15,3.15,3.33,3.33,3.43,3.43,3.43,3.43,3.43,3.43,3.46,3.7,3.46,3.7,3.46,3.7,3.46,3.7,3.46,3.7,3.61,2.97,3.03,2.97,2.97,2.97,3.35,3.59,3.94,3.74,3.74,3.74,3.94,3.46,3.46,3.54,3.54,2.54,3.54,3.54,3.54,3.62,3.62,3.62,3.62,3.62,3.62,3.62,3.62,3.62,3.62,3.62,3.62,3.05,3.05,3.05,3.05,3.05,3.05,3.19,3.19,3.27,3.27,3.19,3.19,3.19,3.19,3.19,3.24,3.24,3.62,3.62,3.62,3.62,3.62,3.62,3.31,3.27,3.31,3.31,3.31,3.27,3.27,3.27,3.27,3.01,3.19,3.01,3.19,3.19,3.01,3.19,3.19,3.19,3.19,3.01,3.19,3.78,3.78,3.78,3.78,3.62,3.62,3.78,3.78,3.58,3.01,3.78],\"type\":\"histogram\"},{\"histfunc\":\"count\",\"histnorm\":\"\",\"marker\":{\"color\":\"rgba(251, 128, 114, 1.0)\",\"line\":{\"color\":\"#4D5663\",\"width\":1.3}},\"name\":\"stroke\",\"opacity\":0.8,\"orientation\":\"v\",\"x\":[2.68,2.68,3.47,3.4,3.4,3.4,3.4,3.4,3.4,3.4,2.8,2.8,3.19,3.19,3.19,3.39,3.39,3.39,3.03,3.11,3.11,3.23,3.23,3.39,3.23,3.23,3.23,3.39,3.46,3.9,3.41,3.41,3.07,3.41,3.41,3.41,3.41,3.58,3.58,3.58,3.58,3.58,3.58,3.23,3.11,3.11,3.23,4.17,4.17,2.76,3.15,3.15,3.15,3.15,3.15,3.255,3.255,3.255,3.255,3.39,3.39,3.39,3.39,3.39,3.39,3.16,3.64,3.64,3.64,3.64,3.64,3.1,3.1,3.35,3.35,3.12,3.23,3.23,3.23,3.39,3.46,3.46,3.86,3.86,3.86,3.46,3.46,3.46,3.46,3.29,3.47,3.29,3.29,3.29,3.29,3.29,3.29,3.29,3.29,3.47,3.47,3.27,3.27,3.27,3.27,3.27,3.27,3.19,3.52,3.19,3.52,2.19,3.52,2.19,3.52,3.19,3.52,3.21,3.23,3.39,3.23,3.23,3.23,3.46,3.86,3.11,2.9,2.9,2.9,3.11,3.9,3.9,3.07,3.07,2.07,3.07,3.07,3.07,2.36,2.64,2.64,2.64,2.64,2.64,2.64,2.64,2.64,2.64,2.64,2.64,3.03,3.03,3.03,3.03,3.03,3.03,3.03,3.03,3.35,3.35,3.03,3.03,3.03,3.03,3.03,3.08,3.08,3.5,3.5,3.5,3.5,3.5,3.5,3.54,3.35,3.54,3.54,3.54,3.35,3.35,3.35,3.35,3.4,3.4,3.4,3.4,3.4,3.4,3.4,3.4,3.4,3.4,3.4,3.4,3.15,3.15,3.15,3.15,3.15,3.15,3.15,3.15,2.87,3.4,3.15],\"type\":\"histogram\"},{\"histfunc\":\"count\",\"histnorm\":\"\",\"marker\":{\"color\":\"rgba(128, 177, 211, 1.0)\",\"line\":{\"color\":\"#4D5663\",\"width\":1.3}},\"name\":\"compressionratio\",\"opacity\":0.8,\"orientation\":\"v\",\"x\":[9.0,9.0,9.0,10.0,8.0,8.5,8.5,8.5,8.3,7.0,8.8,8.8,9.0,9.0,9.0,8.0,8.0,8.0,9.5,9.6,9.6,9.41,9.4,7.6,9.4,9.4,9.4,7.6,8.5,7.0,9.6,9.2,10.1,9.2,9.2,9.2,9.2,9.0,9.0,9.0,9.0,9.0,9.1,8.5,9.6,9.6,9.2,8.1,8.1,11.5,9.0,9.0,9.0,9.0,9.0,9.4,9.4,9.4,9.4,8.6,8.6,8.6,8.6,22.7,8.6,8.0,22.0,21.5,21.5,21.5,21.5,8.3,8.3,8.0,8.0,8.0,9.4,9.4,9.4,7.6,7.5,8.5,7.0,7.0,7.0,8.5,8.5,7.5,7.5,9.4,21.9,9.4,9.4,9.4,9.4,9.4,9.4,9.4,9.4,8.5,8.5,9.0,9.0,9.0,9.0,7.8,9.0,8.4,21.0,8.4,21.0,8.4,21.0,8.4,21.0,8.4,21.0,7.0,9.4,7.6,9.4,9.4,9.4,8.5,7.0,9.5,9.5,9.5,9.5,10.0,8.7,8.7,9.31,9.3,9.3,9.3,9.0,9.0,9.0,8.7,8.7,9.5,9.5,9.0,9.0,7.7,9.0,9.0,9.0,7.7,9.0,9.0,9.0,9.0,9.0,9.0,9.0,9.0,22.5,22.5,9.0,9.0,9.0,9.0,9.0,9.4,9.4,9.3,9.3,9.3,9.3,9.3,9.3,8.7,22.5,8.7,8.7,8.7,9.3,9.3,9.2,9.2,23.0,9.0,23.0,9.0,9.0,23.0,10.0,8.5,8.5,8.5,23.0,9.0,9.5,9.5,9.5,9.5,7.5,7.5,9.5,8.7,8.8,23.0,9.5],\"type\":\"histogram\"},{\"histfunc\":\"count\",\"histnorm\":\"\",\"marker\":{\"color\":\"rgba(128, 177, 211, 0.8999999999999999)\",\"line\":{\"color\":\"#4D5663\",\"width\":1.3}},\"name\":\"horsepower\",\"opacity\":0.8,\"orientation\":\"v\",\"x\":[111,111,154,102,115,110,110,110,140,160,101,101,121,121,121,182,182,182,48,70,70,68,68,102,68,68,68,102,88,145,58,76,60,76,76,76,76,86,86,86,86,101,100,78,70,70,90,176,176,262,68,68,68,68,68,101,101,101,135,84,84,84,84,64,84,120,72,123,123,123,123,155,155,184,184,175,68,68,68,102,116,88,145,145,145,88,88,116,116,69,55,69,69,69,69,69,69,69,69,97,97,152,152,152,160,200,160,97,95,97,95,95,95,95,95,97,95,142,68,102,68,68,68,88,145,143,207,207,207,288,90,90,110,110,110,110,160,160,69,73,73,82,82,94,82,111,82,94,82,111,62,62,62,62,62,62,70,70,56,56,70,70,70,70,70,112,112,116,116,116,116,116,116,92,73,92,92,92,161,161,156,156,52,85,52,85,85,68,100,90,90,110,68,88,114,114,114,114,162,162,114,160,134,106,114],\"type\":\"histogram\"},{\"histfunc\":\"count\",\"histnorm\":\"\",\"marker\":{\"color\":\"rgba(255, 153, 51, 0.8999999999999999)\",\"line\":{\"color\":\"#4D5663\",\"width\":1.3}},\"name\":\"peakrpm\",\"opacity\":0.8,\"orientation\":\"v\",\"x\":[5000,5000,5000,5500,5500,5500,5500,5500,5500,5500,5800,5800,4250,4250,4250,5400,5400,5400,5100,5400,5400,5500,5500,5500,5500,5500,5500,5500,5000,5000,4800,6000,5500,6000,6000,6000,6000,5800,5800,5800,5800,5800,5500,4800,5400,5400,5000,4750,4750,5000,5000,5000,5000,5000,5000,6000,6000,6000,6000,4800,4800,4800,4800,4650,4800,5000,4200,4350,4350,4350,4350,4750,4750,4500,4500,5000,5500,5500,5500,5500,5500,5000,5000,5000,5000,5000,5000,5500,5500,5200,4800,5200,5200,5200,5200,5200,5200,5200,5200,5200,5200,5200,5200,5200,5200,5200,5200,5000,4150,5000,4150,5000,4150,5000,4150,5000,4150,5600,5500,5500,5500,5500,5500,5000,5000,5500,5900,5900,5900,5750,5100,5100,5250,5250,5250,5250,5500,5500,4900,4400,4400,4800,4400,5200,4800,4800,4800,5200,4800,4800,4800,4800,4800,4800,4800,4800,4800,4800,4500,4500,4800,4800,4800,4800,4800,6600,6600,4800,4800,4800,4800,4800,4800,4200,4500,4200,4200,4200,5200,5200,5200,5200,4800,5250,4800,5250,5250,4500,5500,5500,5500,5500,4500,5500,5400,5400,5400,5400,5100,5100,5400,5300,5500,4800,5400],\"type\":\"histogram\"},{\"histfunc\":\"count\",\"histnorm\":\"\",\"marker\":{\"color\":\"rgba(55, 128, 191, 0.8999999999999999)\",\"line\":{\"color\":\"#4D5663\",\"width\":1.3}},\"name\":\"citympg\",\"opacity\":0.8,\"orientation\":\"v\",\"x\":[21,21,19,24,18,19,19,19,17,16,23,23,21,21,20,16,16,15,47,38,38,37,31,24,31,31,31,24,24,19,49,31,38,30,30,30,30,27,27,27,27,24,25,24,38,38,24,15,15,13,30,31,31,31,31,17,17,17,16,26,26,26,26,36,26,19,31,22,22,22,22,16,16,14,14,19,37,31,31,24,23,25,19,19,19,25,25,23,23,31,45,31,31,31,31,31,31,31,31,27,27,17,17,19,19,17,19,19,28,19,25,19,28,19,25,19,28,18,37,24,31,31,31,24,19,19,17,17,17,17,23,23,21,21,21,21,19,19,31,26,26,32,28,26,24,24,28,25,23,23,35,31,31,31,27,27,30,30,34,38,38,28,28,29,29,26,26,24,24,24,24,24,24,29,30,27,27,27,20,19,20,19,37,27,37,27,27,37,26,24,24,19,33,25,23,23,24,24,17,17,23,19,18,26,19],\"type\":\"histogram\"},{\"histfunc\":\"count\",\"histnorm\":\"\",\"marker\":{\"color\":\"rgba(50, 171, 96, 0.8999999999999999)\",\"line\":{\"color\":\"#4D5663\",\"width\":1.3}},\"name\":\"highwaympg\",\"opacity\":0.8,\"orientation\":\"v\",\"x\":[27,27,26,30,22,25,25,25,20,22,29,29,28,28,25,22,22,20,53,43,43,41,38,30,38,38,38,30,30,24,54,38,42,34,34,34,34,33,33,33,33,28,31,29,43,43,29,19,19,17,31,38,38,38,38,23,23,23,23,32,32,32,32,42,32,27,39,25,25,25,25,18,18,16,16,24,41,38,38,30,30,32,24,24,24,32,32,30,30,37,50,37,37,37,37,37,37,37,37,34,34,22,22,25,25,23,25,24,33,24,25,24,33,24,25,24,33,24,41,30,38,38,38,30,24,27,25,25,25,28,31,31,28,28,28,28,26,26,36,31,31,37,33,32,25,29,32,31,29,23,39,38,38,37,32,32,37,37,36,47,47,34,34,34,34,29,29,30,30,30,30,30,30,34,33,32,32,32,24,24,24,24,46,34,46,34,34,42,32,29,29,24,38,31,28,28,28,28,22,22,28,25,23,27,25],\"type\":\"histogram\"}],                        {\"barmode\":\"overlay\",\"legend\":{\"bgcolor\":\"#F5F6F9\",\"font\":{\"color\":\"#4D5663\"}},\"paper_bgcolor\":\"#F5F6F9\",\"plot_bgcolor\":\"#F5F6F9\",\"template\":{\"data\":{\"barpolar\":[{\"marker\":{\"line\":{\"color\":\"#E5ECF6\",\"width\":0.5},\"pattern\":{\"fillmode\":\"overlay\",\"size\":10,\"solidity\":0.2}},\"type\":\"barpolar\"}],\"bar\":[{\"error_x\":{\"color\":\"#2a3f5f\"},\"error_y\":{\"color\":\"#2a3f5f\"},\"marker\":{\"line\":{\"color\":\"#E5ECF6\",\"width\":0.5},\"pattern\":{\"fillmode\":\"overlay\",\"size\":10,\"solidity\":0.2}},\"type\":\"bar\"}],\"carpet\":[{\"aaxis\":{\"endlinecolor\":\"#2a3f5f\",\"gridcolor\":\"white\",\"linecolor\":\"white\",\"minorgridcolor\":\"white\",\"startlinecolor\":\"#2a3f5f\"},\"baxis\":{\"endlinecolor\":\"#2a3f5f\",\"gridcolor\":\"white\",\"linecolor\":\"white\",\"minorgridcolor\":\"white\",\"startlinecolor\":\"#2a3f5f\"},\"type\":\"carpet\"}],\"choropleth\":[{\"colorbar\":{\"outlinewidth\":0,\"ticks\":\"\"},\"type\":\"choropleth\"}],\"contourcarpet\":[{\"colorbar\":{\"outlinewidth\":0,\"ticks\":\"\"},\"type\":\"contourcarpet\"}],\"contour\":[{\"colorbar\":{\"outlinewidth\":0,\"ticks\":\"\"},\"colorscale\":[[0.0,\"#0d0887\"],[0.1111111111111111,\"#46039f\"],[0.2222222222222222,\"#7201a8\"],[0.3333333333333333,\"#9c179e\"],[0.4444444444444444,\"#bd3786\"],[0.5555555555555556,\"#d8576b\"],[0.6666666666666666,\"#ed7953\"],[0.7777777777777778,\"#fb9f3a\"],[0.8888888888888888,\"#fdca26\"],[1.0,\"#f0f921\"]],\"type\":\"contour\"}],\"heatmapgl\":[{\"colorbar\":{\"outlinewidth\":0,\"ticks\":\"\"},\"colorscale\":[[0.0,\"#0d0887\"],[0.1111111111111111,\"#46039f\"],[0.2222222222222222,\"#7201a8\"],[0.3333333333333333,\"#9c179e\"],[0.4444444444444444,\"#bd3786\"],[0.5555555555555556,\"#d8576b\"],[0.6666666666666666,\"#ed7953\"],[0.7777777777777778,\"#fb9f3a\"],[0.8888888888888888,\"#fdca26\"],[1.0,\"#f0f921\"]],\"type\":\"heatmapgl\"}],\"heatmap\":[{\"colorbar\":{\"outlinewidth\":0,\"ticks\":\"\"},\"colorscale\":[[0.0,\"#0d0887\"],[0.1111111111111111,\"#46039f\"],[0.2222222222222222,\"#7201a8\"],[0.3333333333333333,\"#9c179e\"],[0.4444444444444444,\"#bd3786\"],[0.5555555555555556,\"#d8576b\"],[0.6666666666666666,\"#ed7953\"],[0.7777777777777778,\"#fb9f3a\"],[0.8888888888888888,\"#fdca26\"],[1.0,\"#f0f921\"]],\"type\":\"heatmap\"}],\"histogram2dcontour\":[{\"colorbar\":{\"outlinewidth\":0,\"ticks\":\"\"},\"colorscale\":[[0.0,\"#0d0887\"],[0.1111111111111111,\"#46039f\"],[0.2222222222222222,\"#7201a8\"],[0.3333333333333333,\"#9c179e\"],[0.4444444444444444,\"#bd3786\"],[0.5555555555555556,\"#d8576b\"],[0.6666666666666666,\"#ed7953\"],[0.7777777777777778,\"#fb9f3a\"],[0.8888888888888888,\"#fdca26\"],[1.0,\"#f0f921\"]],\"type\":\"histogram2dcontour\"}],\"histogram2d\":[{\"colorbar\":{\"outlinewidth\":0,\"ticks\":\"\"},\"colorscale\":[[0.0,\"#0d0887\"],[0.1111111111111111,\"#46039f\"],[0.2222222222222222,\"#7201a8\"],[0.3333333333333333,\"#9c179e\"],[0.4444444444444444,\"#bd3786\"],[0.5555555555555556,\"#d8576b\"],[0.6666666666666666,\"#ed7953\"],[0.7777777777777778,\"#fb9f3a\"],[0.8888888888888888,\"#fdca26\"],[1.0,\"#f0f921\"]],\"type\":\"histogram2d\"}],\"histogram\":[{\"marker\":{\"pattern\":{\"fillmode\":\"overlay\",\"size\":10,\"solidity\":0.2}},\"type\":\"histogram\"}],\"mesh3d\":[{\"colorbar\":{\"outlinewidth\":0,\"ticks\":\"\"},\"type\":\"mesh3d\"}],\"parcoords\":[{\"line\":{\"colorbar\":{\"outlinewidth\":0,\"ticks\":\"\"}},\"type\":\"parcoords\"}],\"pie\":[{\"automargin\":true,\"type\":\"pie\"}],\"scatter3d\":[{\"line\":{\"colorbar\":{\"outlinewidth\":0,\"ticks\":\"\"}},\"marker\":{\"colorbar\":{\"outlinewidth\":0,\"ticks\":\"\"}},\"type\":\"scatter3d\"}],\"scattercarpet\":[{\"marker\":{\"colorbar\":{\"outlinewidth\":0,\"ticks\":\"\"}},\"type\":\"scattercarpet\"}],\"scattergeo\":[{\"marker\":{\"colorbar\":{\"outlinewidth\":0,\"ticks\":\"\"}},\"type\":\"scattergeo\"}],\"scattergl\":[{\"marker\":{\"colorbar\":{\"outlinewidth\":0,\"ticks\":\"\"}},\"type\":\"scattergl\"}],\"scattermapbox\":[{\"marker\":{\"colorbar\":{\"outlinewidth\":0,\"ticks\":\"\"}},\"type\":\"scattermapbox\"}],\"scatterpolargl\":[{\"marker\":{\"colorbar\":{\"outlinewidth\":0,\"ticks\":\"\"}},\"type\":\"scatterpolargl\"}],\"scatterpolar\":[{\"marker\":{\"colorbar\":{\"outlinewidth\":0,\"ticks\":\"\"}},\"type\":\"scatterpolar\"}],\"scatter\":[{\"marker\":{\"colorbar\":{\"outlinewidth\":0,\"ticks\":\"\"}},\"type\":\"scatter\"}],\"scatterternary\":[{\"marker\":{\"colorbar\":{\"outlinewidth\":0,\"ticks\":\"\"}},\"type\":\"scatterternary\"}],\"surface\":[{\"colorbar\":{\"outlinewidth\":0,\"ticks\":\"\"},\"colorscale\":[[0.0,\"#0d0887\"],[0.1111111111111111,\"#46039f\"],[0.2222222222222222,\"#7201a8\"],[0.3333333333333333,\"#9c179e\"],[0.4444444444444444,\"#bd3786\"],[0.5555555555555556,\"#d8576b\"],[0.6666666666666666,\"#ed7953\"],[0.7777777777777778,\"#fb9f3a\"],[0.8888888888888888,\"#fdca26\"],[1.0,\"#f0f921\"]],\"type\":\"surface\"}],\"table\":[{\"cells\":{\"fill\":{\"color\":\"#EBF0F8\"},\"line\":{\"color\":\"white\"}},\"header\":{\"fill\":{\"color\":\"#C8D4E3\"},\"line\":{\"color\":\"white\"}},\"type\":\"table\"}]},\"layout\":{\"annotationdefaults\":{\"arrowcolor\":\"#2a3f5f\",\"arrowhead\":0,\"arrowwidth\":1},\"autotypenumbers\":\"strict\",\"coloraxis\":{\"colorbar\":{\"outlinewidth\":0,\"ticks\":\"\"}},\"colorscale\":{\"diverging\":[[0,\"#8e0152\"],[0.1,\"#c51b7d\"],[0.2,\"#de77ae\"],[0.3,\"#f1b6da\"],[0.4,\"#fde0ef\"],[0.5,\"#f7f7f7\"],[0.6,\"#e6f5d0\"],[0.7,\"#b8e186\"],[0.8,\"#7fbc41\"],[0.9,\"#4d9221\"],[1,\"#276419\"]],\"sequential\":[[0.0,\"#0d0887\"],[0.1111111111111111,\"#46039f\"],[0.2222222222222222,\"#7201a8\"],[0.3333333333333333,\"#9c179e\"],[0.4444444444444444,\"#bd3786\"],[0.5555555555555556,\"#d8576b\"],[0.6666666666666666,\"#ed7953\"],[0.7777777777777778,\"#fb9f3a\"],[0.8888888888888888,\"#fdca26\"],[1.0,\"#f0f921\"]],\"sequentialminus\":[[0.0,\"#0d0887\"],[0.1111111111111111,\"#46039f\"],[0.2222222222222222,\"#7201a8\"],[0.3333333333333333,\"#9c179e\"],[0.4444444444444444,\"#bd3786\"],[0.5555555555555556,\"#d8576b\"],[0.6666666666666666,\"#ed7953\"],[0.7777777777777778,\"#fb9f3a\"],[0.8888888888888888,\"#fdca26\"],[1.0,\"#f0f921\"]]},\"colorway\":[\"#636efa\",\"#EF553B\",\"#00cc96\",\"#ab63fa\",\"#FFA15A\",\"#19d3f3\",\"#FF6692\",\"#B6E880\",\"#FF97FF\",\"#FECB52\"],\"font\":{\"color\":\"#2a3f5f\"},\"geo\":{\"bgcolor\":\"white\",\"lakecolor\":\"white\",\"landcolor\":\"#E5ECF6\",\"showlakes\":true,\"showland\":true,\"subunitcolor\":\"white\"},\"hoverlabel\":{\"align\":\"left\"},\"hovermode\":\"closest\",\"mapbox\":{\"style\":\"light\"},\"paper_bgcolor\":\"white\",\"plot_bgcolor\":\"#E5ECF6\",\"polar\":{\"angularaxis\":{\"gridcolor\":\"white\",\"linecolor\":\"white\",\"ticks\":\"\"},\"bgcolor\":\"#E5ECF6\",\"radialaxis\":{\"gridcolor\":\"white\",\"linecolor\":\"white\",\"ticks\":\"\"}},\"scene\":{\"xaxis\":{\"backgroundcolor\":\"#E5ECF6\",\"gridcolor\":\"white\",\"gridwidth\":2,\"linecolor\":\"white\",\"showbackground\":true,\"ticks\":\"\",\"zerolinecolor\":\"white\"},\"yaxis\":{\"backgroundcolor\":\"#E5ECF6\",\"gridcolor\":\"white\",\"gridwidth\":2,\"linecolor\":\"white\",\"showbackground\":true,\"ticks\":\"\",\"zerolinecolor\":\"white\"},\"zaxis\":{\"backgroundcolor\":\"#E5ECF6\",\"gridcolor\":\"white\",\"gridwidth\":2,\"linecolor\":\"white\",\"showbackground\":true,\"ticks\":\"\",\"zerolinecolor\":\"white\"}},\"shapedefaults\":{\"line\":{\"color\":\"#2a3f5f\"}},\"ternary\":{\"aaxis\":{\"gridcolor\":\"white\",\"linecolor\":\"white\",\"ticks\":\"\"},\"baxis\":{\"gridcolor\":\"white\",\"linecolor\":\"white\",\"ticks\":\"\"},\"bgcolor\":\"#E5ECF6\",\"caxis\":{\"gridcolor\":\"white\",\"linecolor\":\"white\",\"ticks\":\"\"}},\"title\":{\"x\":0.05},\"xaxis\":{\"automargin\":true,\"gridcolor\":\"white\",\"linecolor\":\"white\",\"ticks\":\"\",\"title\":{\"standoff\":15},\"zerolinecolor\":\"white\",\"zerolinewidth\":2},\"yaxis\":{\"automargin\":true,\"gridcolor\":\"white\",\"linecolor\":\"white\",\"ticks\":\"\",\"title\":{\"standoff\":15},\"zerolinecolor\":\"white\",\"zerolinewidth\":2}}},\"title\":{\"font\":{\"color\":\"#4D5663\"}},\"xaxis\":{\"gridcolor\":\"#E1E5ED\",\"showgrid\":true,\"tickfont\":{\"color\":\"#4D5663\"},\"title\":{\"font\":{\"color\":\"#4D5663\"},\"text\":\"\"},\"zerolinecolor\":\"#E1E5ED\"},\"yaxis\":{\"gridcolor\":\"#E1E5ED\",\"showgrid\":true,\"tickfont\":{\"color\":\"#4D5663\"},\"title\":{\"font\":{\"color\":\"#4D5663\"},\"text\":\"\"},\"zerolinecolor\":\"#E1E5ED\"}},                        {\"showLink\": true, \"linkText\": \"Export to plot.ly\", \"plotlyServerURL\": \"https://plot.ly\", \"responsive\": true}                    ).then(function(){\n",
       "                            \n",
       "var gd = document.getElementById('88ffe30b-4480-4e87-9b8b-5042867405f3');\n",
       "var x = new MutationObserver(function (mutations, observer) {{\n",
       "        var display = window.getComputedStyle(gd).display;\n",
       "        if (!display || display === 'none') {{\n",
       "            console.log([gd, 'removed!']);\n",
       "            Plotly.purge(gd);\n",
       "            observer.disconnect();\n",
       "        }}\n",
       "}});\n",
       "\n",
       "// Listen for the removal of the full notebook cells\n",
       "var notebookContainer = gd.closest('#notebook-container');\n",
       "if (notebookContainer) {{\n",
       "    x.observe(notebookContainer, {childList: true});\n",
       "}}\n",
       "\n",
       "// Listen for the clearing of the current output cell\n",
       "var outputEl = gd.closest('.output');\n",
       "if (outputEl) {{\n",
       "    x.observe(outputEl, {childList: true});\n",
       "}}\n",
       "\n",
       "                        })                };                });            </script>        </div>"
      ]
     },
     "metadata": {},
     "output_type": "display_data"
    }
   ],
   "source": [
    "df1[numerical].iplot(kind='hist');"
   ]
  },
  {
   "cell_type": "code",
   "execution_count": 33,
   "id": "cb635e2f",
   "metadata": {
    "execution": {
     "iopub.execute_input": "2021-09-27T14:47:51.640753Z",
     "iopub.status.busy": "2021-09-27T14:47:51.635962Z",
     "iopub.status.idle": "2021-09-27T14:47:51.645390Z",
     "shell.execute_reply": "2021-09-27T14:47:51.644694Z",
     "shell.execute_reply.started": "2021-09-27T13:36:43.108710Z"
    },
    "papermill": {
     "duration": 0.133037,
     "end_time": "2021-09-27T14:47:51.645556",
     "exception": false,
     "start_time": "2021-09-27T14:47:51.512519",
     "status": "completed"
    },
    "tags": []
   },
   "outputs": [
    {
     "data": {
      "text/plain": [
       "compressionratio    2.610862\n",
       "enginesize          1.947655\n",
       "horsepower          1.405310\n",
       "wheelbase           1.050214\n",
       "carwidth            0.904003\n",
       "dtype: float64"
      ]
     },
     "execution_count": 33,
     "metadata": {},
     "output_type": "execute_result"
    }
   ],
   "source": [
    "skew_limit = 0.75 # This is our threshold-limit to evaluate skewness. Overall below abs(1) seems acceptable for the linear models. \n",
    "skew_vals = df1[numerical].skew()\n",
    "skew_cols= skew_vals[abs(skew_vals)> skew_limit].sort_values(ascending=False)\n",
    "skew_cols"
   ]
  },
  {
   "cell_type": "code",
   "execution_count": 34,
   "id": "46c4f3a6",
   "metadata": {
    "_kg_hide-input": true,
    "execution": {
     "iopub.execute_input": "2021-09-27T14:47:55.484608Z",
     "iopub.status.busy": "2021-09-27T14:47:55.483596Z",
     "iopub.status.idle": "2021-09-27T14:47:56.614099Z",
     "shell.execute_reply": "2021-09-27T14:47:56.614621Z",
     "shell.execute_reply.started": "2021-09-27T13:36:43.978102Z"
    },
    "papermill": {
     "duration": 1.302946,
     "end_time": "2021-09-27T14:47:56.614819",
     "exception": false,
     "start_time": "2021-09-27T14:47:55.311873",
     "status": "completed"
    },
    "tags": []
   },
   "outputs": [
    {
     "data": {
      "image/png": "[encoded data removed]",
      "text/plain": [
       "<Figure size 1008x720 with 2 Axes>"
      ]
     },
     "metadata": {
      "needs_background": "light"
     },
     "output_type": "display_data"
    }
   ],
   "source": [
    "numerical1= df1.select_dtypes('number').columns\n",
    "\n",
    "\n",
    "matrix = np.triu(df1[numerical1].corr())\n",
    "fig, ax = plt.subplots(figsize=(14,10)) \n",
    "sns.heatmap (df1[numerical1].corr(), annot=True, fmt= '.2f', vmin=-1, vmax=1, center=0, cmap='coolwarm',mask=matrix, ax=ax);"
   ]
  },
  {
   "cell_type": "code",
   "execution_count": 35,
   "id": "d5beb931",
   "metadata": {
    "execution": {
     "iopub.execute_input": "2021-09-27T14:47:57.650477Z",
     "iopub.status.busy": "2021-09-27T14:47:57.649733Z",
     "iopub.status.idle": "2021-09-27T14:47:57.656526Z",
     "shell.execute_reply": "2021-09-27T14:47:57.655912Z",
     "shell.execute_reply.started": "2021-09-27T13:36:45.297025Z"
    },
    "papermill": {
     "duration": 0.180341,
     "end_time": "2021-09-27T14:47:57.656713",
     "exception": false,
     "start_time": "2021-09-27T14:47:57.476372",
     "status": "completed"
    },
    "tags": []
   },
   "outputs": [],
   "source": [
    "df1 = df1.drop('citympg',axis=1)"
   ]
  },
  {
   "cell_type": "code",
   "execution_count": 36,
   "id": "33499001",
   "metadata": {
    "_kg_hide-input": true,
    "execution": {
     "iopub.execute_input": "2021-09-27T14:47:58.459319Z",
     "iopub.status.busy": "2021-09-27T14:47:58.458527Z",
     "iopub.status.idle": "2021-09-27T14:47:58.467517Z",
     "shell.execute_reply": "2021-09-27T14:47:58.466766Z",
     "shell.execute_reply.started": "2021-09-27T13:36:45.306984Z"
    },
    "papermill": {
     "duration": 0.297147,
     "end_time": "2021-09-27T14:47:58.467743",
     "exception": false,
     "start_time": "2021-09-27T14:47:58.170596",
     "status": "completed"
    },
    "tags": []
   },
   "outputs": [
    {
     "data": {
      "text/html": [
       "<div>\n",
       "<style scoped>\n",
       "    .dataframe tbody tr th:only-of-type {\n",
       "        vertical-align: middle;\n",
       "    }\n",
       "\n",
       "    .dataframe tbody tr th {\n",
       "        vertical-align: top;\n",
       "    }\n",
       "\n",
       "    .dataframe thead th {\n",
       "        text-align: right;\n",
       "    }\n",
       "</style>\n",
       "<table border=\"1\" class=\"dataframe\">\n",
       "  <thead>\n",
       "    <tr style=\"text-align: right;\">\n",
       "      <th></th>\n",
       "      <th>fueltype</th>\n",
       "      <th>aspiration</th>\n",
       "      <th>doornumber</th>\n",
       "      <th>carbody</th>\n",
       "      <th>drivewheel</th>\n",
       "      <th>enginelocation</th>\n",
       "      <th>enginetype</th>\n",
       "      <th>cylindernumber</th>\n",
       "      <th>fuelsystem</th>\n",
       "      <th>model</th>\n",
       "    </tr>\n",
       "  </thead>\n",
       "  <tbody>\n",
       "    <tr>\n",
       "      <th>0</th>\n",
       "      <td>gas</td>\n",
       "      <td>std</td>\n",
       "      <td>two</td>\n",
       "      <td>convertible</td>\n",
       "      <td>rwd</td>\n",
       "      <td>front</td>\n",
       "      <td>dohc</td>\n",
       "      <td>four</td>\n",
       "      <td>mpfi</td>\n",
       "      <td>alfa-romero</td>\n",
       "    </tr>\n",
       "    <tr>\n",
       "      <th>1</th>\n",
       "      <td>gas</td>\n",
       "      <td>std</td>\n",
       "      <td>two</td>\n",
       "      <td>convertible</td>\n",
       "      <td>rwd</td>\n",
       "      <td>front</td>\n",
       "      <td>dohc</td>\n",
       "      <td>four</td>\n",
       "      <td>mpfi</td>\n",
       "      <td>alfa-romero</td>\n",
       "    </tr>\n",
       "    <tr>\n",
       "      <th>2</th>\n",
       "      <td>gas</td>\n",
       "      <td>std</td>\n",
       "      <td>two</td>\n",
       "      <td>hatchback</td>\n",
       "      <td>rwd</td>\n",
       "      <td>front</td>\n",
       "      <td>ohcv</td>\n",
       "      <td>six</td>\n",
       "      <td>mpfi</td>\n",
       "      <td>alfa-romero</td>\n",
       "    </tr>\n",
       "    <tr>\n",
       "      <th>3</th>\n",
       "      <td>gas</td>\n",
       "      <td>std</td>\n",
       "      <td>four</td>\n",
       "      <td>sedan</td>\n",
       "      <td>fwd</td>\n",
       "      <td>front</td>\n",
       "      <td>ohc</td>\n",
       "      <td>four</td>\n",
       "      <td>mpfi</td>\n",
       "      <td>audi</td>\n",
       "    </tr>\n",
       "    <tr>\n",
       "      <th>4</th>\n",
       "      <td>gas</td>\n",
       "      <td>std</td>\n",
       "      <td>four</td>\n",
       "      <td>sedan</td>\n",
       "      <td>4wd</td>\n",
       "      <td>front</td>\n",
       "      <td>ohc</td>\n",
       "      <td>five</td>\n",
       "      <td>mpfi</td>\n",
       "      <td>audi</td>\n",
       "    </tr>\n",
       "  </tbody>\n",
       "</table>\n",
       "</div>"
      ],
      "text/plain": [
       "  fueltype aspiration doornumber      carbody drivewheel enginelocation  \\\n",
       "0      gas        std        two  convertible        rwd          front   \n",
       "1      gas        std        two  convertible        rwd          front   \n",
       "2      gas        std        two    hatchback        rwd          front   \n",
       "3      gas        std       four        sedan        fwd          front   \n",
       "4      gas        std       four        sedan        4wd          front   \n",
       "\n",
       "  enginetype cylindernumber fuelsystem        model  \n",
       "0       dohc           four       mpfi  alfa-romero  \n",
       "1       dohc           four       mpfi  alfa-romero  \n",
       "2       ohcv            six       mpfi  alfa-romero  \n",
       "3        ohc           four       mpfi         audi  \n",
       "4        ohc           five       mpfi         audi  "
      ]
     },
     "execution_count": 36,
     "metadata": {},
     "output_type": "execute_result"
    }
   ],
   "source": [
    "df1[categorical].head()"
   ]
  },
  {
   "cell_type": "markdown",
   "id": "4a0ceeb3",
   "metadata": {
    "papermill": {
     "duration": 0.222828,
     "end_time": "2021-09-27T14:48:08.225570",
     "exception": false,
     "start_time": "2021-09-27T14:48:08.002742",
     "status": "completed"
    },
    "tags": []
   },
   "source": [
    "### Model & Price"
   ]
  },
  {
   "cell_type": "code",
   "execution_count": 37,
   "id": "6c7b3604",
   "metadata": {
    "_kg_hide-input": true,
    "execution": {
     "iopub.execute_input": "2021-09-27T14:48:08.689165Z",
     "iopub.status.busy": "2021-09-27T14:48:08.686783Z",
     "iopub.status.idle": "2021-09-27T14:48:08.810725Z",
     "shell.execute_reply": "2021-09-27T14:48:08.811323Z",
     "shell.execute_reply.started": "2021-09-27T14:41:23.731841Z"
    },
    "papermill": {
     "duration": 0.35805,
     "end_time": "2021-09-27T14:48:08.811543",
     "exception": false,
     "start_time": "2021-09-27T14:48:08.453493",
     "status": "completed"
    },
    "tags": []
   },
   "outputs": [
    {
     "name": "stdout",
     "output_type": "stream",
     "text": [
      "model\n",
      "chevrolet       6007.000000\n",
      "dodge           7875.444444\n",
      "plymouth        7963.428571\n",
      "honda           8184.692308\n",
      "subaru          8541.250000\n",
      "isuzu           8916.500000\n",
      "mitsubishi      9239.769231\n",
      "renault         9595.000000\n",
      "Toyota          9885.812500\n",
      "Volkswagen     10077.500000\n",
      "Nissan         10415.666667\n",
      "Mazda          10652.882353\n",
      "saab           15223.333333\n",
      "peugeot        15489.090909\n",
      "alfa-romero    15498.333333\n",
      "mercury        16503.000000\n",
      "audi           17859.166714\n",
      "volvo          18063.181818\n",
      "bmw            26118.750000\n",
      "Porsche        31400.500000\n",
      "buick          33647.000000\n",
      "jaguar         34600.000000\n",
      "Name: price, dtype: float64\n",
      "\n"
     ]
    },
    {
     "data": {
      "application/vnd.plotly.v1+json": {
       "config": {
        "linkText": "Export to plot.ly",
        "plotlyServerURL": "https://plot.ly",
        "showLink": true
       },
       "data": [
        {
         "histfunc": "count",
         "histnorm": "",
         "marker": {
          "color": "rgba(255, 153, 51, 1.0)",
          "line": {
           "color": "#4D5663",
           "width": 1.3
          }
         },
         "name": "price",
         "nbinsx": 50,
         "opacity": 0.8,
         "orientation": "v",
         "type": "histogram",
         "x": [
          10652.882352941177,
          10415.666666666666,
          31400.5,
          9885.8125,
          10077.5,
          15498.333333333334,
          17859.166714285715,
          26118.75,
          33647,
          6007,
          7875.444444444444,
          8184.692307692308,
          8916.5,
          34600,
          16503,
          9239.76923076923,
          15489.09090909091,
          7963.428571428572,
          9595,
          15223.333333333334,
          8541.25,
          18063.18181818182
         ],
         "xaxis": "x",
         "yaxis": "y"
        }
       ],
       "layout": {
        "barmode": "overlay",
        "legend": {
         "bgcolor": "#F5F6F9",
         "font": {
          "color": "#4D5663"
         }
        },
        "paper_bgcolor": "#F5F6F9",
        "plot_bgcolor": "#F5F6F9",
        "template": {
         "data": {
          "bar": [
           {
            "error_x": {
             "color": "#2a3f5f"
            },
            "error_y": {
             "color": "#2a3f5f"
            },
            "marker": {
             "line": {
              "color": "#E5ECF6",
              "width": 0.5
             },
             "pattern": {
              "fillmode": "overlay",
              "size": 10,
              "solidity": 0.2
             }
            },
            "type": "bar"
           }
          ],
          "barpolar": [
           {
            "marker": {
             "line": {
              "color": "#E5ECF6",
              "width": 0.5
             },
             "pattern": {
              "fillmode": "overlay",
              "size": 10,
              "solidity": 0.2
             }
            },
            "type": "barpolar"
           }
          ],
          "carpet": [
           {
            "aaxis": {
             "endlinecolor": "#2a3f5f",
             "gridcolor": "white",
             "linecolor": "white",
             "minorgridcolor": "white",
             "startlinecolor": "#2a3f5f"
            },
            "baxis": {
             "endlinecolor": "#2a3f5f",
             "gridcolor": "white",
             "linecolor": "white",
             "minorgridcolor": "white",
             "startlinecolor": "#2a3f5f"
            },
            "type": "carpet"
           }
          ],
          "choropleth": [
           {
            "colorbar": {
             "outlinewidth": 0,
             "ticks": ""
            },
            "type": "choropleth"
           }
          ],
          "contour": [
           {
            "colorbar": {
             "outlinewidth": 0,
             "ticks": ""
            },
            "colorscale": [
             [
              0,
              "#0d0887"
             ],
             [
              0.1111111111111111,
              "#46039f"
             ],
             [
              0.2222222222222222,
              "#7201a8"
             ],
             [
              0.3333333333333333,
              "#9c179e"
             ],
             [
              0.4444444444444444,
              "#bd3786"
             ],
             [
              0.5555555555555556,
              "#d8576b"
             ],
             [
              0.6666666666666666,
              "#ed7953"
             ],
             [
              0.7777777777777778,
              "#fb9f3a"
             ],
             [
              0.8888888888888888,
              "#fdca26"
             ],
             [
              1,
              "#f0f921"
             ]
            ],
            "type": "contour"
           }
          ],
          "contourcarpet": [
           {
            "colorbar": {
             "outlinewidth": 0,
             "ticks": ""
            },
            "type": "contourcarpet"
           }
          ],
          "heatmap": [
           {
            "colorbar": {
             "outlinewidth": 0,
             "ticks": ""
            },
            "colorscale": [
             [
              0,
              "#0d0887"
             ],
             [
              0.1111111111111111,
              "#46039f"
             ],
             [
              0.2222222222222222,
              "#7201a8"
             ],
             [
              0.3333333333333333,
              "#9c179e"
             ],
             [
              0.4444444444444444,
              "#bd3786"
             ],
             [
              0.5555555555555556,
              "#d8576b"
             ],
             [
              0.6666666666666666,
              "#ed7953"
             ],
             [
              0.7777777777777778,
              "#fb9f3a"
             ],
             [
              0.8888888888888888,
              "#fdca26"
             ],
             [
              1,
              "#f0f921"
             ]
            ],
            "type": "heatmap"
           }
          ],
          "heatmapgl": [
           {
            "colorbar": {
             "outlinewidth": 0,
             "ticks": ""
            },
            "colorscale": [
             [
              0,
              "#0d0887"
             ],
             [
              0.1111111111111111,
              "#46039f"
             ],
             [
              0.2222222222222222,
              "#7201a8"
             ],
             [
              0.3333333333333333,
              "#9c179e"
             ],
             [
              0.4444444444444444,
              "#bd3786"
             ],
             [
              0.5555555555555556,
              "#d8576b"
             ],
             [
              0.6666666666666666,
              "#ed7953"
             ],
             [
              0.7777777777777778,
              "#fb9f3a"
             ],
             [
              0.8888888888888888,
              "#fdca26"
             ],
             [
              1,
              "#f0f921"
             ]
            ],
            "type": "heatmapgl"
           }
          ],
          "histogram": [
           {
            "marker": {
             "pattern": {
              "fillmode": "overlay",
              "size": 10,
              "solidity": 0.2
             }
            },
            "type": "histogram"
           }
          ],
          "histogram2d": [
           {
            "colorbar": {
             "outlinewidth": 0,
             "ticks": ""
            },
            "colorscale": [
             [
              0,
              "#0d0887"
             ],
             [
              0.1111111111111111,
              "#46039f"
             ],
             [
              0.2222222222222222,
              "#7201a8"
             ],
             [
              0.3333333333333333,
              "#9c179e"
             ],
             [
              0.4444444444444444,
              "#bd3786"
             ],
             [
              0.5555555555555556,
              "#d8576b"
             ],
             [
              0.6666666666666666,
              "#ed7953"
             ],
             [
              0.7777777777777778,
              "#fb9f3a"
             ],
             [
              0.8888888888888888,
              "#fdca26"
             ],
             [
              1,
              "#f0f921"
             ]
            ],
            "type": "histogram2d"
           }
          ],
          "histogram2dcontour": [
           {
            "colorbar": {
             "outlinewidth": 0,
             "ticks": ""
            },
            "colorscale": [
             [
              0,
              "#0d0887"
             ],
             [
              0.1111111111111111,
              "#46039f"
             ],
             [
              0.2222222222222222,
              "#7201a8"
             ],
             [
              0.3333333333333333,
              "#9c179e"
             ],
             [
              0.4444444444444444,
              "#bd3786"
             ],
             [
              0.5555555555555556,
              "#d8576b"
             ],
             [
              0.6666666666666666,
              "#ed7953"
             ],
             [
              0.7777777777777778,
              "#fb9f3a"
             ],
             [
              0.8888888888888888,
              "#fdca26"
             ],
             [
              1,
              "#f0f921"
             ]
            ],
            "type": "histogram2dcontour"
           }
          ],
          "mesh3d": [
           {
            "colorbar": {
             "outlinewidth": 0,
             "ticks": ""
            },
            "type": "mesh3d"
           }
          ],
          "parcoords": [
           {
            "line": {
             "colorbar": {
              "outlinewidth": 0,
              "ticks": ""
             }
            },
            "type": "parcoords"
           }
          ],
          "pie": [
           {
            "automargin": true,
            "type": "pie"
           }
          ],
          "scatter": [
           {
            "marker": {
             "colorbar": {
              "outlinewidth": 0,
              "ticks": ""
             }
            },
            "type": "scatter"
           }
          ],
          "scatter3d": [
           {
            "line": {
             "colorbar": {
              "outlinewidth": 0,
              "ticks": ""
             }
            },
            "marker": {
             "colorbar": {
              "outlinewidth": 0,
              "ticks": ""
             }
            },
            "type": "scatter3d"
           }
          ],
          "scattercarpet": [
           {
            "marker": {
             "colorbar": {
              "outlinewidth": 0,
              "ticks": ""
             }
            },
            "type": "scattercarpet"
           }
          ],
          "scattergeo": [
           {
            "marker": {
             "colorbar": {
              "outlinewidth": 0,
              "ticks": ""
             }
            },
            "type": "scattergeo"
           }
          ],
          "scattergl": [
           {
            "marker": {
             "colorbar": {
              "outlinewidth": 0,
              "ticks": ""
             }
            },
            "type": "scattergl"
           }
          ],
          "scattermapbox": [
           {
            "marker": {
             "colorbar": {
              "outlinewidth": 0,
              "ticks": ""
             }
            },
            "type": "scattermapbox"
           }
          ],
          "scatterpolar": [
           {
            "marker": {
             "colorbar": {
              "outlinewidth": 0,
              "ticks": ""
             }
            },
            "type": "scatterpolar"
           }
          ],
          "scatterpolargl": [
           {
            "marker": {
             "colorbar": {
              "outlinewidth": 0,
              "ticks": ""
             }
            },
            "type": "scatterpolargl"
           }
          ],
          "scatterternary": [
           {
            "marker": {
             "colorbar": {
              "outlinewidth": 0,
              "ticks": ""
             }
            },
            "type": "scatterternary"
           }
          ],
          "surface": [
           {
            "colorbar": {
             "outlinewidth": 0,
             "ticks": ""
            },
            "colorscale": [
             [
              0,
              "#0d0887"
             ],
             [
              0.1111111111111111,
              "#46039f"
             ],
             [
              0.2222222222222222,
              "#7201a8"
             ],
             [
              0.3333333333333333,
              "#9c179e"
             ],
             [
              0.4444444444444444,
              "#bd3786"
             ],
             [
              0.5555555555555556,
              "#d8576b"
             ],
             [
              0.6666666666666666,
              "#ed7953"
             ],
             [
              0.7777777777777778,
              "#fb9f3a"
             ],
             [
              0.8888888888888888,
              "#fdca26"
             ],
             [
              1,
              "#f0f921"
             ]
            ],
            "type": "surface"
           }
          ],
          "table": [
           {
            "cells": {
             "fill": {
              "color": "#EBF0F8"
             },
             "line": {
              "color": "white"
             }
            },
            "header": {
             "fill": {
              "color": "#C8D4E3"
             },
             "line": {
              "color": "white"
             }
            },
            "type": "table"
           }
          ]
         },
         "layout": {
          "annotationdefaults": {
           "arrowcolor": "#2a3f5f",
           "arrowhead": 0,
           "arrowwidth": 1
          },
          "autotypenumbers": "strict",
          "coloraxis": {
           "colorbar": {
            "outlinewidth": 0,
            "ticks": ""
           }
          },
          "colorscale": {
           "diverging": [
            [
             0,
             "#8e0152"
            ],
            [
             0.1,
             "#c51b7d"
            ],
            [
             0.2,
             "#de77ae"
            ],
            [
             0.3,
             "#f1b6da"
            ],
            [
             0.4,
             "#fde0ef"
            ],
            [
             0.5,
             "#f7f7f7"
            ],
            [
             0.6,
             "#e6f5d0"
            ],
            [
             0.7,
             "#b8e186"
            ],
            [
             0.8,
             "#7fbc41"
            ],
            [
             0.9,
             "#4d9221"
            ],
            [
             1,
             "#276419"
            ]
           ],
           "sequential": [
            [
             0,
             "#0d0887"
            ],
            [
             0.1111111111111111,
             "#46039f"
            ],
            [
             0.2222222222222222,
             "#7201a8"
            ],
            [
             0.3333333333333333,
             "#9c179e"
            ],
            [
             0.4444444444444444,
             "#bd3786"
            ],
            [
             0.5555555555555556,
             "#d8576b"
            ],
            [
             0.6666666666666666,
             "#ed7953"
            ],
            [
             0.7777777777777778,
             "#fb9f3a"
            ],
            [
             0.8888888888888888,
             "#fdca26"
            ],
            [
             1,
             "#f0f921"
            ]
           ],
           "sequentialminus": [
            [
             0,
             "#0d0887"
            ],
            [
             0.1111111111111111,
             "#46039f"
            ],
            [
             0.2222222222222222,
             "#7201a8"
            ],
            [
             0.3333333333333333,
             "#9c179e"
            ],
            [
             0.4444444444444444,
             "#bd3786"
            ],
            [
             0.5555555555555556,
             "#d8576b"
            ],
            [
             0.6666666666666666,
             "#ed7953"
            ],
            [
             0.7777777777777778,
             "#fb9f3a"
            ],
            [
             0.8888888888888888,
             "#fdca26"
            ],
            [
             1,
             "#f0f921"
            ]
           ]
          },
          "colorway": [
           "#636efa",
           "#EF553B",
           "#00cc96",
           "#ab63fa",
           "#FFA15A",
           "#19d3f3",
           "#FF6692",
           "#B6E880",
           "#FF97FF",
           "#FECB52"
          ],
          "font": {
           "color": "#2a3f5f"
          },
          "geo": {
           "bgcolor": "white",
           "lakecolor": "white",
           "landcolor": "#E5ECF6",
           "showlakes": true,
           "showland": true,
           "subunitcolor": "white"
          },
          "hoverlabel": {
           "align": "left"
          },
          "hovermode": "closest",
          "mapbox": {
           "style": "light"
          },
          "paper_bgcolor": "white",
          "plot_bgcolor": "#E5ECF6",
          "polar": {
           "angularaxis": {
            "gridcolor": "white",
            "linecolor": "white",
            "ticks": ""
           },
           "bgcolor": "#E5ECF6",
           "radialaxis": {
            "gridcolor": "white",
            "linecolor": "white",
            "ticks": ""
           }
          },
          "scene": {
           "xaxis": {
            "backgroundcolor": "#E5ECF6",
            "gridcolor": "white",
            "gridwidth": 2,
            "linecolor": "white",
            "showbackground": true,
            "ticks": "",
            "zerolinecolor": "white"
           },
           "yaxis": {
            "backgroundcolor": "#E5ECF6",
            "gridcolor": "white",
            "gridwidth": 2,
            "linecolor": "white",
            "showbackground": true,
            "ticks": "",
            "zerolinecolor": "white"
           },
           "zaxis": {
            "backgroundcolor": "#E5ECF6",
            "gridcolor": "white",
            "gridwidth": 2,
            "linecolor": "white",
            "showbackground": true,
            "ticks": "",
            "zerolinecolor": "white"
           }
          },
          "shapedefaults": {
           "line": {
            "color": "#2a3f5f"
           }
          },
          "ternary": {
           "aaxis": {
            "gridcolor": "white",
            "linecolor": "white",
            "ticks": ""
           },
           "baxis": {
            "gridcolor": "white",
            "linecolor": "white",
            "ticks": ""
           },
           "bgcolor": "#E5ECF6",
           "caxis": {
            "gridcolor": "white",
            "linecolor": "white",
            "ticks": ""
           }
          },
          "title": {
           "x": 0.05
          },
          "xaxis": {
           "automargin": true,
           "gridcolor": "white",
           "linecolor": "white",
           "ticks": "",
           "title": {
            "standoff": 15
           },
           "zerolinecolor": "white",
           "zerolinewidth": 2
          },
          "yaxis": {
           "automargin": true,
           "gridcolor": "white",
           "linecolor": "white",
           "ticks": "",
           "title": {
            "standoff": 15
           },
           "zerolinecolor": "white",
           "zerolinewidth": 2
          }
         }
        },
        "title": {
         "font": {
          "color": "#4D5663"
         }
        },
        "xaxis": {
         "anchor": "y",
         "domain": [
          0,
          1
         ],
         "gridcolor": "#E1E5ED",
         "showgrid": true,
         "tickfont": {
          "color": "#4D5663"
         },
         "title": {
          "font": {
           "color": "#4D5663"
          },
          "text": ""
         },
         "zerolinecolor": "#E1E5ED"
        },
        "yaxis": {
         "anchor": "x",
         "domain": [
          0,
          1
         ],
         "gridcolor": "#E1E5ED",
         "showgrid": true,
         "tickfont": {
          "color": "#4D5663"
         },
         "title": {
          "font": {
           "color": "#4D5663"
          },
          "text": ""
         },
         "zerolinecolor": "#E1E5ED"
        }
       }
      },
      "text/html": [
       "<div>                            <div id=\"ed9d631d-88c7-4549-8918-122de02926b6\" class=\"plotly-graph-div\" style=\"height:525px; width:100%;\"></div>            <script type=\"text/javascript\">                require([\"plotly\"], function(Plotly) {                    window.PLOTLYENV=window.PLOTLYENV || {};\n",
       "                    window.PLOTLYENV.BASE_URL='https://plot.ly';                                    if (document.getElementById(\"ed9d631d-88c7-4549-8918-122de02926b6\")) {                    Plotly.newPlot(                        \"ed9d631d-88c7-4549-8918-122de02926b6\",                        [{\"histfunc\":\"count\",\"histnorm\":\"\",\"marker\":{\"color\":\"rgba(255, 153, 51, 1.0)\",\"line\":{\"color\":\"#4D5663\",\"width\":1.3}},\"name\":\"price\",\"nbinsx\":50,\"opacity\":0.8,\"orientation\":\"v\",\"x\":[10652.882352941177,10415.666666666666,31400.5,9885.8125,10077.5,15498.333333333334,17859.166714285715,26118.75,33647.0,6007.0,7875.444444444444,8184.692307692308,8916.5,34600.0,16503.0,9239.76923076923,15489.09090909091,7963.428571428572,9595.0,15223.333333333334,8541.25,18063.18181818182],\"xaxis\":\"x\",\"yaxis\":\"y\",\"type\":\"histogram\"}],                        {\"barmode\":\"overlay\",\"legend\":{\"bgcolor\":\"#F5F6F9\",\"font\":{\"color\":\"#4D5663\"}},\"paper_bgcolor\":\"#F5F6F9\",\"plot_bgcolor\":\"#F5F6F9\",\"template\":{\"data\":{\"barpolar\":[{\"marker\":{\"line\":{\"color\":\"#E5ECF6\",\"width\":0.5},\"pattern\":{\"fillmode\":\"overlay\",\"size\":10,\"solidity\":0.2}},\"type\":\"barpolar\"}],\"bar\":[{\"error_x\":{\"color\":\"#2a3f5f\"},\"error_y\":{\"color\":\"#2a3f5f\"},\"marker\":{\"line\":{\"color\":\"#E5ECF6\",\"width\":0.5},\"pattern\":{\"fillmode\":\"overlay\",\"size\":10,\"solidity\":0.2}},\"type\":\"bar\"}],\"carpet\":[{\"aaxis\":{\"endlinecolor\":\"#2a3f5f\",\"gridcolor\":\"white\",\"linecolor\":\"white\",\"minorgridcolor\":\"white\",\"startlinecolor\":\"#2a3f5f\"},\"baxis\":{\"endlinecolor\":\"#2a3f5f\",\"gridcolor\":\"white\",\"linecolor\":\"white\",\"minorgridcolor\":\"white\",\"startlinecolor\":\"#2a3f5f\"},\"type\":\"carpet\"}],\"choropleth\":[{\"colorbar\":{\"outlinewidth\":0,\"ticks\":\"\"},\"type\":\"choropleth\"}],\"contourcarpet\":[{\"colorbar\":{\"outlinewidth\":0,\"ticks\":\"\"},\"type\":\"contourcarpet\"}],\"contour\":[{\"colorbar\":{\"outlinewidth\":0,\"ticks\":\"\"},\"colorscale\":[[0.0,\"#0d0887\"],[0.1111111111111111,\"#46039f\"],[0.2222222222222222,\"#7201a8\"],[0.3333333333333333,\"#9c179e\"],[0.4444444444444444,\"#bd3786\"],[0.5555555555555556,\"#d8576b\"],[0.6666666666666666,\"#ed7953\"],[0.7777777777777778,\"#fb9f3a\"],[0.8888888888888888,\"#fdca26\"],[1.0,\"#f0f921\"]],\"type\":\"contour\"}],\"heatmapgl\":[{\"colorbar\":{\"outlinewidth\":0,\"ticks\":\"\"},\"colorscale\":[[0.0,\"#0d0887\"],[0.1111111111111111,\"#46039f\"],[0.2222222222222222,\"#7201a8\"],[0.3333333333333333,\"#9c179e\"],[0.4444444444444444,\"#bd3786\"],[0.5555555555555556,\"#d8576b\"],[0.6666666666666666,\"#ed7953\"],[0.7777777777777778,\"#fb9f3a\"],[0.8888888888888888,\"#fdca26\"],[1.0,\"#f0f921\"]],\"type\":\"heatmapgl\"}],\"heatmap\":[{\"colorbar\":{\"outlinewidth\":0,\"ticks\":\"\"},\"colorscale\":[[0.0,\"#0d0887\"],[0.1111111111111111,\"#46039f\"],[0.2222222222222222,\"#7201a8\"],[0.3333333333333333,\"#9c179e\"],[0.4444444444444444,\"#bd3786\"],[0.5555555555555556,\"#d8576b\"],[0.6666666666666666,\"#ed7953\"],[0.7777777777777778,\"#fb9f3a\"],[0.8888888888888888,\"#fdca26\"],[1.0,\"#f0f921\"]],\"type\":\"heatmap\"}],\"histogram2dcontour\":[{\"colorbar\":{\"outlinewidth\":0,\"ticks\":\"\"},\"colorscale\":[[0.0,\"#0d0887\"],[0.1111111111111111,\"#46039f\"],[0.2222222222222222,\"#7201a8\"],[0.3333333333333333,\"#9c179e\"],[0.4444444444444444,\"#bd3786\"],[0.5555555555555556,\"#d8576b\"],[0.6666666666666666,\"#ed7953\"],[0.7777777777777778,\"#fb9f3a\"],[0.8888888888888888,\"#fdca26\"],[1.0,\"#f0f921\"]],\"type\":\"histogram2dcontour\"}],\"histogram2d\":[{\"colorbar\":{\"outlinewidth\":0,\"ticks\":\"\"},\"colorscale\":[[0.0,\"#0d0887\"],[0.1111111111111111,\"#46039f\"],[0.2222222222222222,\"#7201a8\"],[0.3333333333333333,\"#9c179e\"],[0.4444444444444444,\"#bd3786\"],[0.5555555555555556,\"#d8576b\"],[0.6666666666666666,\"#ed7953\"],[0.7777777777777778,\"#fb9f3a\"],[0.8888888888888888,\"#fdca26\"],[1.0,\"#f0f921\"]],\"type\":\"histogram2d\"}],\"histogram\":[{\"marker\":{\"pattern\":{\"fillmode\":\"overlay\",\"size\":10,\"solidity\":0.2}},\"type\":\"histogram\"}],\"mesh3d\":[{\"colorbar\":{\"outlinewidth\":0,\"ticks\":\"\"},\"type\":\"mesh3d\"}],\"parcoords\":[{\"line\":{\"colorbar\":{\"outlinewidth\":0,\"ticks\":\"\"}},\"type\":\"parcoords\"}],\"pie\":[{\"automargin\":true,\"type\":\"pie\"}],\"scatter3d\":[{\"line\":{\"colorbar\":{\"outlinewidth\":0,\"ticks\":\"\"}},\"marker\":{\"colorbar\":{\"outlinewidth\":0,\"ticks\":\"\"}},\"type\":\"scatter3d\"}],\"scattercarpet\":[{\"marker\":{\"colorbar\":{\"outlinewidth\":0,\"ticks\":\"\"}},\"type\":\"scattercarpet\"}],\"scattergeo\":[{\"marker\":{\"colorbar\":{\"outlinewidth\":0,\"ticks\":\"\"}},\"type\":\"scattergeo\"}],\"scattergl\":[{\"marker\":{\"colorbar\":{\"outlinewidth\":0,\"ticks\":\"\"}},\"type\":\"scattergl\"}],\"scattermapbox\":[{\"marker\":{\"colorbar\":{\"outlinewidth\":0,\"ticks\":\"\"}},\"type\":\"scattermapbox\"}],\"scatterpolargl\":[{\"marker\":{\"colorbar\":{\"outlinewidth\":0,\"ticks\":\"\"}},\"type\":\"scatterpolargl\"}],\"scatterpolar\":[{\"marker\":{\"colorbar\":{\"outlinewidth\":0,\"ticks\":\"\"}},\"type\":\"scatterpolar\"}],\"scatter\":[{\"marker\":{\"colorbar\":{\"outlinewidth\":0,\"ticks\":\"\"}},\"type\":\"scatter\"}],\"scatterternary\":[{\"marker\":{\"colorbar\":{\"outlinewidth\":0,\"ticks\":\"\"}},\"type\":\"scatterternary\"}],\"surface\":[{\"colorbar\":{\"outlinewidth\":0,\"ticks\":\"\"},\"colorscale\":[[0.0,\"#0d0887\"],[0.1111111111111111,\"#46039f\"],[0.2222222222222222,\"#7201a8\"],[0.3333333333333333,\"#9c179e\"],[0.4444444444444444,\"#bd3786\"],[0.5555555555555556,\"#d8576b\"],[0.6666666666666666,\"#ed7953\"],[0.7777777777777778,\"#fb9f3a\"],[0.8888888888888888,\"#fdca26\"],[1.0,\"#f0f921\"]],\"type\":\"surface\"}],\"table\":[{\"cells\":{\"fill\":{\"color\":\"#EBF0F8\"},\"line\":{\"color\":\"white\"}},\"header\":{\"fill\":{\"color\":\"#C8D4E3\"},\"line\":{\"color\":\"white\"}},\"type\":\"table\"}]},\"layout\":{\"annotationdefaults\":{\"arrowcolor\":\"#2a3f5f\",\"arrowhead\":0,\"arrowwidth\":1},\"autotypenumbers\":\"strict\",\"coloraxis\":{\"colorbar\":{\"outlinewidth\":0,\"ticks\":\"\"}},\"colorscale\":{\"diverging\":[[0,\"#8e0152\"],[0.1,\"#c51b7d\"],[0.2,\"#de77ae\"],[0.3,\"#f1b6da\"],[0.4,\"#fde0ef\"],[0.5,\"#f7f7f7\"],[0.6,\"#e6f5d0\"],[0.7,\"#b8e186\"],[0.8,\"#7fbc41\"],[0.9,\"#4d9221\"],[1,\"#276419\"]],\"sequential\":[[0.0,\"#0d0887\"],[0.1111111111111111,\"#46039f\"],[0.2222222222222222,\"#7201a8\"],[0.3333333333333333,\"#9c179e\"],[0.4444444444444444,\"#bd3786\"],[0.5555555555555556,\"#d8576b\"],[0.6666666666666666,\"#ed7953\"],[0.7777777777777778,\"#fb9f3a\"],[0.8888888888888888,\"#fdca26\"],[1.0,\"#f0f921\"]],\"sequentialminus\":[[0.0,\"#0d0887\"],[0.1111111111111111,\"#46039f\"],[0.2222222222222222,\"#7201a8\"],[0.3333333333333333,\"#9c179e\"],[0.4444444444444444,\"#bd3786\"],[0.5555555555555556,\"#d8576b\"],[0.6666666666666666,\"#ed7953\"],[0.7777777777777778,\"#fb9f3a\"],[0.8888888888888888,\"#fdca26\"],[1.0,\"#f0f921\"]]},\"colorway\":[\"#636efa\",\"#EF553B\",\"#00cc96\",\"#ab63fa\",\"#FFA15A\",\"#19d3f3\",\"#FF6692\",\"#B6E880\",\"#FF97FF\",\"#FECB52\"],\"font\":{\"color\":\"#2a3f5f\"},\"geo\":{\"bgcolor\":\"white\",\"lakecolor\":\"white\",\"landcolor\":\"#E5ECF6\",\"showlakes\":true,\"showland\":true,\"subunitcolor\":\"white\"},\"hoverlabel\":{\"align\":\"left\"},\"hovermode\":\"closest\",\"mapbox\":{\"style\":\"light\"},\"paper_bgcolor\":\"white\",\"plot_bgcolor\":\"#E5ECF6\",\"polar\":{\"angularaxis\":{\"gridcolor\":\"white\",\"linecolor\":\"white\",\"ticks\":\"\"},\"bgcolor\":\"#E5ECF6\",\"radialaxis\":{\"gridcolor\":\"white\",\"linecolor\":\"white\",\"ticks\":\"\"}},\"scene\":{\"xaxis\":{\"backgroundcolor\":\"#E5ECF6\",\"gridcolor\":\"white\",\"gridwidth\":2,\"linecolor\":\"white\",\"showbackground\":true,\"ticks\":\"\",\"zerolinecolor\":\"white\"},\"yaxis\":{\"backgroundcolor\":\"#E5ECF6\",\"gridcolor\":\"white\",\"gridwidth\":2,\"linecolor\":\"white\",\"showbackground\":true,\"ticks\":\"\",\"zerolinecolor\":\"white\"},\"zaxis\":{\"backgroundcolor\":\"#E5ECF6\",\"gridcolor\":\"white\",\"gridwidth\":2,\"linecolor\":\"white\",\"showbackground\":true,\"ticks\":\"\",\"zerolinecolor\":\"white\"}},\"shapedefaults\":{\"line\":{\"color\":\"#2a3f5f\"}},\"ternary\":{\"aaxis\":{\"gridcolor\":\"white\",\"linecolor\":\"white\",\"ticks\":\"\"},\"baxis\":{\"gridcolor\":\"white\",\"linecolor\":\"white\",\"ticks\":\"\"},\"bgcolor\":\"#E5ECF6\",\"caxis\":{\"gridcolor\":\"white\",\"linecolor\":\"white\",\"ticks\":\"\"}},\"title\":{\"x\":0.05},\"xaxis\":{\"automargin\":true,\"gridcolor\":\"white\",\"linecolor\":\"white\",\"ticks\":\"\",\"title\":{\"standoff\":15},\"zerolinecolor\":\"white\",\"zerolinewidth\":2},\"yaxis\":{\"automargin\":true,\"gridcolor\":\"white\",\"linecolor\":\"white\",\"ticks\":\"\",\"title\":{\"standoff\":15},\"zerolinecolor\":\"white\",\"zerolinewidth\":2}}},\"title\":{\"font\":{\"color\":\"#4D5663\"}},\"xaxis\":{\"anchor\":\"y\",\"domain\":[0.0,1.0],\"gridcolor\":\"#E1E5ED\",\"showgrid\":true,\"tickfont\":{\"color\":\"#4D5663\"},\"title\":{\"font\":{\"color\":\"#4D5663\"},\"text\":\"\"},\"zerolinecolor\":\"#E1E5ED\"},\"yaxis\":{\"anchor\":\"x\",\"domain\":[0.0,1.0],\"gridcolor\":\"#E1E5ED\",\"showgrid\":true,\"tickfont\":{\"color\":\"#4D5663\"},\"title\":{\"font\":{\"color\":\"#4D5663\"},\"text\":\"\"},\"zerolinecolor\":\"#E1E5ED\"}},                        {\"showLink\": true, \"linkText\": \"Export to plot.ly\", \"plotlyServerURL\": \"https://plot.ly\", \"responsive\": true}                    ).then(function(){\n",
       "                            \n",
       "var gd = document.getElementById('ed9d631d-88c7-4549-8918-122de02926b6');\n",
       "var x = new MutationObserver(function (mutations, observer) {{\n",
       "        var display = window.getComputedStyle(gd).display;\n",
       "        if (!display || display === 'none') {{\n",
       "            console.log([gd, 'removed!']);\n",
       "            Plotly.purge(gd);\n",
       "            observer.disconnect();\n",
       "        }}\n",
       "}});\n",
       "\n",
       "// Listen for the removal of the full notebook cells\n",
       "var notebookContainer = gd.closest('#notebook-container');\n",
       "if (notebookContainer) {{\n",
       "    x.observe(notebookContainer, {childList: true});\n",
       "}}\n",
       "\n",
       "// Listen for the clearing of the current output cell\n",
       "var outputEl = gd.closest('.output');\n",
       "if (outputEl) {{\n",
       "    x.observe(outputEl, {childList: true});\n",
       "}}\n",
       "\n",
       "                        })                };                });            </script>        </div>"
      ]
     },
     "metadata": {},
     "output_type": "display_data"
    }
   ],
   "source": [
    "print(df1.groupby('model')['price'].mean().sort_values())\n",
    "print()\n",
    "df1.groupby('model')['price'].mean().iplot(kind='histogram',subplots=True,bins=50)"
   ]
  },
  {
   "cell_type": "markdown",
   "id": "010c8037",
   "metadata": {
    "papermill": {
     "duration": 0.300592,
     "end_time": "2021-09-27T14:48:09.845985",
     "exception": false,
     "start_time": "2021-09-27T14:48:09.545393",
     "status": "completed"
    },
    "tags": []
   },
   "source": [
    "### Get the Dummies"
   ]
  },
  {
   "cell_type": "code",
   "execution_count": 38,
   "id": "ff2c051c",
   "metadata": {
    "_kg_hide-input": true,
    "execution": {
     "iopub.execute_input": "2021-09-27T14:48:10.360503Z",
     "iopub.status.busy": "2021-09-27T14:48:10.331559Z",
     "iopub.status.idle": "2021-09-27T14:48:10.375621Z",
     "shell.execute_reply": "2021-09-27T14:48:10.376207Z",
     "shell.execute_reply.started": "2021-09-27T13:36:46.462126Z"
    },
    "papermill": {
     "duration": 0.297876,
     "end_time": "2021-09-27T14:48:10.376421",
     "exception": false,
     "start_time": "2021-09-27T14:48:10.078545",
     "status": "completed"
    },
    "tags": []
   },
   "outputs": [
    {
     "data": {
      "text/html": [
       "<div>\n",
       "<style scoped>\n",
       "    .dataframe tbody tr th:only-of-type {\n",
       "        vertical-align: middle;\n",
       "    }\n",
       "\n",
       "    .dataframe tbody tr th {\n",
       "        vertical-align: top;\n",
       "    }\n",
       "\n",
       "    .dataframe thead th {\n",
       "        text-align: right;\n",
       "    }\n",
       "</style>\n",
       "<table border=\"1\" class=\"dataframe\">\n",
       "  <thead>\n",
       "    <tr style=\"text-align: right;\">\n",
       "      <th></th>\n",
       "      <th>symboling</th>\n",
       "      <th>wheelbase</th>\n",
       "      <th>carlength</th>\n",
       "      <th>carwidth</th>\n",
       "      <th>carheight</th>\n",
       "      <th>curbweight</th>\n",
       "      <th>enginesize</th>\n",
       "      <th>boreratio</th>\n",
       "      <th>stroke</th>\n",
       "      <th>compressionratio</th>\n",
       "      <th>...</th>\n",
       "      <th>model_isuzu</th>\n",
       "      <th>model_jaguar</th>\n",
       "      <th>model_mercury</th>\n",
       "      <th>model_mitsubishi</th>\n",
       "      <th>model_peugeot</th>\n",
       "      <th>model_plymouth</th>\n",
       "      <th>model_renault</th>\n",
       "      <th>model_saab</th>\n",
       "      <th>model_subaru</th>\n",
       "      <th>model_volvo</th>\n",
       "    </tr>\n",
       "  </thead>\n",
       "  <tbody>\n",
       "    <tr>\n",
       "      <th>0</th>\n",
       "      <td>3</td>\n",
       "      <td>88.6</td>\n",
       "      <td>168.8</td>\n",
       "      <td>64.1</td>\n",
       "      <td>48.8</td>\n",
       "      <td>2548</td>\n",
       "      <td>130</td>\n",
       "      <td>3.47</td>\n",
       "      <td>2.68</td>\n",
       "      <td>9.0</td>\n",
       "      <td>...</td>\n",
       "      <td>0</td>\n",
       "      <td>0</td>\n",
       "      <td>0</td>\n",
       "      <td>0</td>\n",
       "      <td>0</td>\n",
       "      <td>0</td>\n",
       "      <td>0</td>\n",
       "      <td>0</td>\n",
       "      <td>0</td>\n",
       "      <td>0</td>\n",
       "    </tr>\n",
       "    <tr>\n",
       "      <th>1</th>\n",
       "      <td>3</td>\n",
       "      <td>88.6</td>\n",
       "      <td>168.8</td>\n",
       "      <td>64.1</td>\n",
       "      <td>48.8</td>\n",
       "      <td>2548</td>\n",
       "      <td>130</td>\n",
       "      <td>3.47</td>\n",
       "      <td>2.68</td>\n",
       "      <td>9.0</td>\n",
       "      <td>...</td>\n",
       "      <td>0</td>\n",
       "      <td>0</td>\n",
       "      <td>0</td>\n",
       "      <td>0</td>\n",
       "      <td>0</td>\n",
       "      <td>0</td>\n",
       "      <td>0</td>\n",
       "      <td>0</td>\n",
       "      <td>0</td>\n",
       "      <td>0</td>\n",
       "    </tr>\n",
       "    <tr>\n",
       "      <th>2</th>\n",
       "      <td>1</td>\n",
       "      <td>94.5</td>\n",
       "      <td>171.2</td>\n",
       "      <td>65.5</td>\n",
       "      <td>52.4</td>\n",
       "      <td>2823</td>\n",
       "      <td>152</td>\n",
       "      <td>2.68</td>\n",
       "      <td>3.47</td>\n",
       "      <td>9.0</td>\n",
       "      <td>...</td>\n",
       "      <td>0</td>\n",
       "      <td>0</td>\n",
       "      <td>0</td>\n",
       "      <td>0</td>\n",
       "      <td>0</td>\n",
       "      <td>0</td>\n",
       "      <td>0</td>\n",
       "      <td>0</td>\n",
       "      <td>0</td>\n",
       "      <td>0</td>\n",
       "    </tr>\n",
       "    <tr>\n",
       "      <th>3</th>\n",
       "      <td>2</td>\n",
       "      <td>99.8</td>\n",
       "      <td>176.6</td>\n",
       "      <td>66.2</td>\n",
       "      <td>54.3</td>\n",
       "      <td>2337</td>\n",
       "      <td>109</td>\n",
       "      <td>3.19</td>\n",
       "      <td>3.40</td>\n",
       "      <td>10.0</td>\n",
       "      <td>...</td>\n",
       "      <td>0</td>\n",
       "      <td>0</td>\n",
       "      <td>0</td>\n",
       "      <td>0</td>\n",
       "      <td>0</td>\n",
       "      <td>0</td>\n",
       "      <td>0</td>\n",
       "      <td>0</td>\n",
       "      <td>0</td>\n",
       "      <td>0</td>\n",
       "    </tr>\n",
       "    <tr>\n",
       "      <th>4</th>\n",
       "      <td>2</td>\n",
       "      <td>99.4</td>\n",
       "      <td>176.6</td>\n",
       "      <td>66.4</td>\n",
       "      <td>54.3</td>\n",
       "      <td>2824</td>\n",
       "      <td>136</td>\n",
       "      <td>3.19</td>\n",
       "      <td>3.40</td>\n",
       "      <td>8.0</td>\n",
       "      <td>...</td>\n",
       "      <td>0</td>\n",
       "      <td>0</td>\n",
       "      <td>0</td>\n",
       "      <td>0</td>\n",
       "      <td>0</td>\n",
       "      <td>0</td>\n",
       "      <td>0</td>\n",
       "      <td>0</td>\n",
       "      <td>0</td>\n",
       "      <td>0</td>\n",
       "    </tr>\n",
       "  </tbody>\n",
       "</table>\n",
       "<p>5 rows × 64 columns</p>\n",
       "</div>"
      ],
      "text/plain": [
       "   symboling  wheelbase  carlength  carwidth  carheight  curbweight  \\\n",
       "0          3       88.6      168.8      64.1       48.8        2548   \n",
       "1          3       88.6      168.8      64.1       48.8        2548   \n",
       "2          1       94.5      171.2      65.5       52.4        2823   \n",
       "3          2       99.8      176.6      66.2       54.3        2337   \n",
       "4          2       99.4      176.6      66.4       54.3        2824   \n",
       "\n",
       "   enginesize  boreratio  stroke  compressionratio  ...  model_isuzu  \\\n",
       "0         130       3.47    2.68               9.0  ...            0   \n",
       "1         130       3.47    2.68               9.0  ...            0   \n",
       "2         152       2.68    3.47               9.0  ...            0   \n",
       "3         109       3.19    3.40              10.0  ...            0   \n",
       "4         136       3.19    3.40               8.0  ...            0   \n",
       "\n",
       "   model_jaguar  model_mercury  model_mitsubishi  model_peugeot  \\\n",
       "0             0              0                 0              0   \n",
       "1             0              0                 0              0   \n",
       "2             0              0                 0              0   \n",
       "3             0              0                 0              0   \n",
       "4             0              0                 0              0   \n",
       "\n",
       "   model_plymouth  model_renault  model_saab  model_subaru  model_volvo  \n",
       "0               0              0           0             0            0  \n",
       "1               0              0           0             0            0  \n",
       "2               0              0           0             0            0  \n",
       "3               0              0           0             0            0  \n",
       "4               0              0           0             0            0  \n",
       "\n",
       "[5 rows x 64 columns]"
      ]
     },
     "execution_count": 38,
     "metadata": {},
     "output_type": "execute_result"
    }
   ],
   "source": [
    "df2 = pd.get_dummies(df1, columns=categorical, drop_first=True)\n",
    "df2.head()"
   ]
  },
  {
   "cell_type": "markdown",
   "id": "42366e64",
   "metadata": {
    "papermill": {
     "duration": 0.229979,
     "end_time": "2021-09-27T14:48:11.779950",
     "exception": false,
     "start_time": "2021-09-27T14:48:11.549971",
     "status": "completed"
    },
    "tags": []
   },
   "source": [
    "<a id=\"7\"></a>\n",
    "<font color=\"lightseagreen\" size=+1.5><b>Baseline Model</b></font>\n"
   ]
  },
  {
   "cell_type": "code",
   "execution_count": 39,
   "id": "57b8d701",
   "metadata": {
    "execution": {
     "iopub.execute_input": "2021-09-27T14:48:12.276970Z",
     "iopub.status.busy": "2021-09-27T14:48:12.275878Z",
     "iopub.status.idle": "2021-09-27T14:48:12.485809Z",
     "shell.execute_reply": "2021-09-27T14:48:12.486821Z",
     "shell.execute_reply.started": "2021-09-27T13:36:46.535221Z"
    },
    "papermill": {
     "duration": 0.473047,
     "end_time": "2021-09-27T14:48:12.487276",
     "exception": false,
     "start_time": "2021-09-27T14:48:12.014229",
     "status": "completed"
    },
    "tags": []
   },
   "outputs": [
    {
     "name": "stdout",
     "output_type": "stream",
     "text": [
      "model : LinearRegression() and  rmse score is : 2650.560337022274, r2 score is 0.8985995076954894\n"
     ]
    }
   ],
   "source": [
    "X= df2.drop('price', axis=1)\n",
    "y= df2['price']\n",
    "X_train, X_test, y_train, y_test = train_test_split(X, y, test_size=0.3, random_state=42)\n",
    "\n",
    "model = LinearRegression()\n",
    "\n",
    "\n",
    "model.fit(X_train, y_train)\n",
    "y_pred = model.predict(X_test)\n",
    "\n",
    "print (f'model : {model} and  rmse score is : {np.sqrt(mean_squared_error(y_test, y_pred))}, r2 score is {r2_score(y_test, y_pred)}')\n",
    "\n",
    "\n"
   ]
  },
  {
   "cell_type": "markdown",
   "id": "5a232cd8",
   "metadata": {
    "papermill": {
     "duration": 0.235825,
     "end_time": "2021-09-27T14:48:13.498188",
     "exception": false,
     "start_time": "2021-09-27T14:48:13.262363",
     "status": "completed"
    },
    "tags": []
   },
   "source": [
    "# Ridge &  Lasso  &  Elasticnet  &  KNN with Scaler and Transformer & Random Forest& Gradient Boosting & Extra Trees & XGBoost\n"
   ]
  },
  {
   "cell_type": "code",
   "execution_count": 47,
   "id": "213abcea",
   "metadata": {
    "execution": {
     "iopub.execute_input": "2021-09-27T14:48:13.968115Z",
     "iopub.status.busy": "2021-09-27T14:48:13.967017Z",
     "iopub.status.idle": "2021-09-27T14:48:14.247469Z",
     "shell.execute_reply": "2021-09-27T14:48:14.246814Z",
     "shell.execute_reply.started": "2021-09-27T13:36:46.565226Z"
    },
    "papermill": {
     "duration": 0.516939,
     "end_time": "2021-09-27T14:48:14.247667",
     "exception": false,
     "start_time": "2021-09-27T14:48:13.730728",
     "status": "completed"
    },
    "tags": []
   },
   "outputs": [
    {
     "name": "stdout",
     "output_type": "stream",
     "text": [
      "model : Ridge() and  rmse score is : 2423.29, r2 score is 0.92\n",
      "model : Lasso() and  rmse score is : 2329.06, r2 score is 0.92\n",
      "model : ElasticNet() and  rmse score is : 3350.1, r2 score is 0.84\n",
      "model : KNeighborsRegressor() and  rmse score is : 4048.13, r2 score is 0.76\n",
      "model : RandomForestRegressor(random_state=42) and  rmse score is : 1964.13, r2 score is 0.94\n",
      "model : GradientBoostingRegressor(random_state=42) and  rmse score is : 2385.13, r2 score is 0.92\n",
      "model : ExtraTreesRegressor(random_state=42) and  rmse score is : 2425.18, r2 score is 0.92\n",
      "model : XGBRegressor(base_score=None, booster=None, callbacks=None,\n",
      "             colsample_bylevel=None, colsample_bynode=None,\n",
      "             colsample_bytree=None, early_stopping_rounds=None,\n",
      "             enable_categorical=False, eval_metric=None, feature_types=None,\n",
      "             gamma=None, gpu_id=None, grow_policy=None, importance_type=None,\n",
      "             interaction_constraints=None, learning_rate=None, max_bin=None,\n",
      "             max_cat_threshold=None, max_cat_to_onehot=None,\n",
      "             max_delta_step=None, max_depth=None, max_leaves=None,\n",
      "             min_child_weight=None, missing=nan, monotone_constraints=None,\n",
      "             n_estimators=100, n_jobs=None, num_parallel_tree=None,\n",
      "             predictor=None, random_state=42, ...) and  rmse score is : 2416.08, r2 score is 0.92\n"
     ]
    },
    {
     "data": {
      "text/html": [
       "<div>\n",
       "<style scoped>\n",
       "    .dataframe tbody tr th:only-of-type {\n",
       "        vertical-align: middle;\n",
       "    }\n",
       "\n",
       "    .dataframe tbody tr th {\n",
       "        vertical-align: top;\n",
       "    }\n",
       "\n",
       "    .dataframe thead th {\n",
       "        text-align: right;\n",
       "    }\n",
       "</style>\n",
       "<table border=\"1\" class=\"dataframe\">\n",
       "  <thead>\n",
       "    <tr style=\"text-align: right;\">\n",
       "      <th></th>\n",
       "      <th>RMSE</th>\n",
       "      <th>R2_Test</th>\n",
       "    </tr>\n",
       "  </thead>\n",
       "  <tbody>\n",
       "    <tr>\n",
       "      <th>Ridge</th>\n",
       "      <td>2423.29</td>\n",
       "      <td>0.92</td>\n",
       "    </tr>\n",
       "    <tr>\n",
       "      <th>Lasso</th>\n",
       "      <td>2329.06</td>\n",
       "      <td>0.92</td>\n",
       "    </tr>\n",
       "    <tr>\n",
       "      <th>ElasticNet</th>\n",
       "      <td>3350.10</td>\n",
       "      <td>0.84</td>\n",
       "    </tr>\n",
       "    <tr>\n",
       "      <th>KNeighbors</th>\n",
       "      <td>4048.13</td>\n",
       "      <td>0.76</td>\n",
       "    </tr>\n",
       "    <tr>\n",
       "      <th>RandomForest</th>\n",
       "      <td>1964.13</td>\n",
       "      <td>0.94</td>\n",
       "    </tr>\n",
       "    <tr>\n",
       "      <th>GradientBoost</th>\n",
       "      <td>2385.13</td>\n",
       "      <td>0.92</td>\n",
       "    </tr>\n",
       "    <tr>\n",
       "      <th>ExtraTree</th>\n",
       "      <td>2425.18</td>\n",
       "      <td>0.92</td>\n",
       "    </tr>\n",
       "    <tr>\n",
       "      <th>XGB</th>\n",
       "      <td>2416.08</td>\n",
       "      <td>0.92</td>\n",
       "    </tr>\n",
       "  </tbody>\n",
       "</table>\n",
       "</div>"
      ],
      "text/plain": [
       "                  RMSE  R2_Test\n",
       "Ridge          2423.29     0.92\n",
       "Lasso          2329.06     0.92\n",
       "ElasticNet     3350.10     0.84\n",
       "KNeighbors     4048.13     0.76\n",
       "RandomForest   1964.13     0.94\n",
       "GradientBoost  2385.13     0.92\n",
       "ExtraTree      2425.18     0.92\n",
       "XGB            2416.08     0.92"
      ]
     },
     "execution_count": 47,
     "metadata": {},
     "output_type": "execute_result"
    }
   ],
   "source": [
    "rmse_test =[]\n",
    "r2_test =[]\n",
    "model_names =[]\n",
    "\n",
    "numerical2= df2.drop(['price'], axis=1).select_dtypes('number').columns\n",
    "\n",
    "X= df2.drop('price', axis=1)\n",
    "y= df2['price']\n",
    "X_train, X_test, y_train, y_test = train_test_split(X, y, test_size=0.3, random_state=42)\n",
    "\n",
    "s = StandardScaler()\n",
    "p= PowerTransformer(method='yeo-johnson', standardize=True)\n",
    "\n",
    "rr = Ridge()\n",
    "las = Lasso()\n",
    "el= ElasticNet()\n",
    "knn = KNeighborsRegressor()\n",
    "rf = RandomForestRegressor(random_state=42)\n",
    "gb = GradientBoostingRegressor(random_state=42)\n",
    "et= ExtraTreesRegressor(random_state=42)\n",
    "xgb = XGBRegressor(random_state=42)\n",
    "\n",
    "models = [rr,las,el,knn,rf,gb,et,xgb]\n",
    "\n",
    "for model in models:\n",
    "    ct = make_column_transformer((s,numerical2),(p,skew_cols.index),remainder='passthrough')  \n",
    "    pipe = make_pipeline(ct, model)\n",
    "    pipe.fit(X_train, y_train)\n",
    "    y_pred = pipe.predict(X_test)\n",
    "    rmse_test.append(round(np.sqrt(mean_squared_error(y_test, y_pred)),2))\n",
    "    r2_test.append(round(r2_score(y_test, y_pred),2))\n",
    "    print (f'model : {model} and  rmse score is : {round(np.sqrt(mean_squared_error(y_test, y_pred)),2)}, r2 score is {round(r2_score(y_test, y_pred),2)}')\n",
    "\n",
    "model_names = ['Ridge','Lasso','ElasticNet','KNeighbors','RandomForest','GradientBoost','ExtraTree','XGB']\n",
    "result_df = pd.DataFrame({'RMSE':rmse_test,'R2_Test':r2_test}, index=model_names)\n",
    "result_df"
   ]
  },
  {
   "cell_type": "markdown",
   "id": "efe9a89d",
   "metadata": {
    "papermill": {
     "duration": 0.237184,
     "end_time": "2021-09-27T14:48:17.417544",
     "exception": false,
     "start_time": "2021-09-27T14:48:17.180360",
     "status": "completed"
    },
    "tags": []
   },
   "source": [
    "<a id=\"10\"></a>\n",
    "<font color=\"lightseagreen\" size=+1.5><b>Best Model with the Hyperparameter Tuning</b></font>\n"
   ]
  },
  {
   "cell_type": "code",
   "execution_count": 42,
   "id": "b238f317",
   "metadata": {
    "execution": {
     "iopub.execute_input": "2021-09-27T14:48:17.898450Z",
     "iopub.status.busy": "2021-09-27T14:48:17.897636Z",
     "iopub.status.idle": "2021-09-27T14:48:18.494493Z",
     "shell.execute_reply": "2021-09-27T14:48:18.493403Z",
     "shell.execute_reply.started": "2021-09-27T13:54:06.637936Z"
    },
    "papermill": {
     "duration": 0.842748,
     "end_time": "2021-09-27T14:48:18.494727",
     "exception": false,
     "start_time": "2021-09-27T14:48:17.651979",
     "status": "completed"
    },
    "tags": []
   },
   "outputs": [
    {
     "name": "stdout",
     "output_type": "stream",
     "text": [
      " rmse score is : 1975.8483, r2 score is 0.9437\n"
     ]
    }
   ],
   "source": [
    "X= df2.drop('price', axis=1)\n",
    "y= df2['price']\n",
    "X_train, X_test, y_train, y_test = train_test_split(X, y, test_size=0.3, random_state=42)\n",
    "\n",
    "rf = RandomForestRegressor(n_estimators= 220, random_state=42 )\n",
    "\n",
    "rf.fit(X_train, y_train)\n",
    "y_pred = rf.predict(X_test)\n",
    "print (f' rmse score is : {round(np.sqrt(mean_squared_error(y_test, y_pred)),4)}, r2 score is {round(r2_score(y_test, y_pred),4)}')\n",
    "\n",
    "\n"
   ]
  },
  {
   "cell_type": "markdown",
   "id": "a28beb17",
   "metadata": {
    "papermill": {
     "duration": 0.238953,
     "end_time": "2021-09-27T14:48:19.437360",
     "exception": false,
     "start_time": "2021-09-27T14:48:19.198407",
     "status": "completed"
    },
    "tags": []
   },
   "source": [
    "<a id=\"11\"></a>\n",
    "<font color=\"lightseagreen\" size=+1.5><b>Feature Importance</b></font>\n"
   ]
  },
  {
   "cell_type": "code",
   "execution_count": 46,
   "id": "e98edaef",
   "metadata": {
    "execution": {
     "iopub.execute_input": "2021-09-27T14:48:19.989524Z",
     "iopub.status.busy": "2021-09-27T14:48:19.988591Z",
     "iopub.status.idle": "2021-09-27T14:48:22.651668Z",
     "shell.execute_reply": "2021-09-27T14:48:22.651034Z",
     "shell.execute_reply.started": "2021-09-27T14:27:53.060762Z"
    },
    "papermill": {
     "duration": 2.908112,
     "end_time": "2021-09-27T14:48:22.651833",
     "exception": false,
     "start_time": "2021-09-27T14:48:19.743721",
     "status": "completed"
    },
    "tags": []
   },
   "outputs": [
    {
     "name": "stdout",
     "output_type": "stream",
     "text": [
      "symboling : 0.001\n",
      "wheelbase : 0.008\n",
      "carlength : 0.013\n",
      "carwidth : 0.024\n",
      "carheight : 0.004\n",
      "curbweight : 0.167\n",
      "enginesize : 0.6\n",
      "boreratio : 0.005\n",
      "stroke : 0.003\n",
      "compressionratio : 0.005\n",
      "horsepower : 0.028\n",
      "peakrpm : 0.005\n",
      "highwaympg : 0.118\n",
      "enginetype_ohc : 0.001\n",
      "model_bmw : 0.006\n",
      "\n"
     ]
    },
    {
     "data": {
      "image/png": "[encoded data removed]",
      "text/plain": [
       "<Figure size 3600x720 with 1 Axes>"
      ]
     },
     "metadata": {
      "needs_background": "light"
     },
     "output_type": "display_data"
    }
   ],
   "source": [
    "importances = rf.feature_importances_\n",
    "feature_names = [f'feature {i}' for i in range(X.shape[1])]\n",
    "\n",
    "# what are scores for the features\n",
    "for i in range(len(rf.feature_importances_)):\n",
    "    if rf.feature_importances_[i] >0.001:\n",
    "        print(f'{X_train.columns[i]} : {round(rf.feature_importances_[i],3)}')\n",
    "\n",
    "print()\n",
    "\n",
    "plt.bar([X_train.columns[i] for i in range(len(rf.feature_importances_))], rf.feature_importances_)\n",
    "plt.xticks(rotation=90)\n",
    "plt.rcParams[\"figure.figsize\"] = (50,16)\n",
    "plt.show()\n",
    "#Based on the Random Forest Regressor:\n",
    "#enginesize\n",
    "#curbweight\n",
    "#highway mpg\n",
    "#horse power....have biggest importance scores."
   ]
  },
  {
   "cell_type": "markdown",
   "id": "c5d218c1",
   "metadata": {},
   "source": [
    "# predict with new data\n"
   ]
  },
  {
   "cell_type": "code",
   "execution_count": 58,
   "id": "43816614",
   "metadata": {
    "papermill": {
     "duration": 0.235734,
     "end_time": "2021-09-27T14:48:27.002426",
     "exception": false,
     "start_time": "2021-09-27T14:48:26.766692",
     "status": "completed"
    },
    "tags": []
   },
   "outputs": [
    {
     "name": "stdout",
     "output_type": "stream",
     "text": [
      "Root Mean Squared Error: 3866.2118078068656\n",
      "Predicted Price: 22761.01737627401\n"
     ]
    }
   ],
   "source": [
    "import pandas as pd\n",
    "from sklearn.model_selection import train_test_split\n",
    "from sklearn.linear_model import LinearRegression\n",
    "from sklearn.metrics import mean_squared_error\n",
    "\n",
    "# Load the car data into a Pandas DataFrame\n",
    "car_data = pd.read_csv('carpredict.csv')  # Replace 'car_data.csv' with your own dataset\n",
    "\n",
    "# Select the relevant features for prediction\n",
    "selected_features = ['symboling', 'wheelbase', 'enginesize', 'horsepower', 'citympg', 'highwaympg']\n",
    "\n",
    "# Split the data into training and testing sets\n",
    "X = car_data[selected_features]\n",
    "y = car_data['price']\n",
    "X_train, X_test, y_train, y_test = train_test_split(X, y, test_size=0.2, random_state=42)\n",
    "\n",
    "# Create and train the linear regression model\n",
    "model = LinearRegression()\n",
    "model.fit(X_train, y_train)\n",
    "\n",
    "# Make predictions on the test set\n",
    "y_pred = model.predict(X_test)\n",
    "\n",
    "# Evaluate the model\n",
    "mse = mean_squared_error(y_test, y_pred)\n",
    "rmse = mse ** 0.5\n",
    "print(f\"Root Mean Squared Error: {rmse}\")\n",
    "\n",
    "# Predict the price with new data\n",
    "new_data = pd.DataFrame({\n",
    "    'symboling': [0],\n",
    "    'wheelbase': [100],\n",
    "    'enginesize': [200],\n",
    "    'horsepower': [150],\n",
    "    'citympg': [25],\n",
    "    'highwaympg': [32]\n",
    "})\n",
    "new_price = model.predict(new_data)\n",
    "print(f\"Predicted Price: {new_price[0]}\")\n"
   ]
  },
  {
   "cell_type": "code",
   "execution_count": null,
   "id": "83d69df4",
   "metadata": {},
   "outputs": [],
   "source": []
  }
 ],
 "metadata": {
  "kernelspec": {
   "display_name": "Python 3 (ipykernel)",
   "language": "python",
   "name": "python3"
  },
  "language_info": {
   "codemirror_mode": {
    "name": "ipython",
    "version": 3
   },
   "file_extension": ".py",
   "mimetype": "text/x-python",
   "name": "python",
   "nbconvert_exporter": "python",
   "pygments_lexer": "ipython3",
   "version": "3.9.12"
  },
  "papermill": {
   "default_parameters": {},
   "duration": 61.273079,
   "end_time": "2021-09-27T14:48:29.438320",
   "environment_variables": {},
   "exception": null,
   "input_path": "__notebook__.ipynb",
   "output_path": "__notebook__.ipynb",
   "parameters": {},
   "start_time": "2021-09-27T14:47:28.165241",
   "version": "2.3.3"
  }
 },
 "nbformat": 4,
 "nbformat_minor": 5
}
